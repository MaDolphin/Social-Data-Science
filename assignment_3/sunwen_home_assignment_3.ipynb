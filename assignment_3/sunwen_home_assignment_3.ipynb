{
 "cells": [
  {
   "cell_type": "markdown",
   "metadata": {},
   "source": [
    "## Home Assignment 3\n",
    "\n",
    "Submit your solution via Moodle until 23.59pm on Wednesday, December 18th. Late submissions are accepted for 12 hours following the deadline, with 1/3 of the total possible points deducted from the score.\n",
    "\n",
    "Submit your solutions in teams of up 2-3 members. **Single student submissions will not be graded anymore**.\n",
    "Please denote all members of the team with their student ID and full name in the notebook. In this home assignment, you have to submit an .ipynb notebook and a file \"labels.npy\" as specified in task 3. Do not submit anything else than these two files!\n",
    "\n",
    "Cite ALL your sources for coding this home assignment. In case of plagiarism (copying solutions from other teams or from the internet) ALL team members will be expelled from the course without warning."
   ]
  },
  {
   "cell_type": "markdown",
   "metadata": {},
   "source": [
    "##### List team members, including all student IDs here:\n",
    "1. Student 1 (123456)\n",
    "2. Student 2 (123457)\n",
    "3. (optional) Student 3 (123458)"
   ]
  },
  {
   "cell_type": "code",
   "execution_count": 1,
   "metadata": {},
   "outputs": [],
   "source": [
    "import numpy as np\n",
    "import pandas as pd"
   ]
  },
  {
   "cell_type": "markdown",
   "metadata": {},
   "source": [
    "### Task 1: Fair Classification with the Two Naive Bayes Algorithm (2 pts)\n",
    "\n",
    "Recall the _Ricci_ dataset that we have discussed in lecture, which shows the results of an exam for promotion eligibility. For the purpose of this exercise, we want to build a classifier which achieves that the group that gets a promoted (_Class_ attribute) is fairly balanced with respect to the sensitive attribute *Race* - as noted in lecture, enforcing this equality on that data has actually caused a \"reverse discrimination\" lawsuit. The majority class, i.e. the white population, has sensitive attribute value 1, and all non-whites have sensitive attribute value 0.\n",
    "\n",
    "The dataset is read in the cell below, and an implementation of the CV measure can also be found below that. Note that in the following tasks, you should make use of functions from scikit-learn whereever possible."
   ]
  },
  {
   "cell_type": "code",
   "execution_count": 2,
   "metadata": {},
   "outputs": [
    {
     "data": {
      "text/html": [
       "<div>\n",
       "<style scoped>\n",
       "    .dataframe tbody tr th:only-of-type {\n",
       "        vertical-align: middle;\n",
       "    }\n",
       "\n",
       "    .dataframe tbody tr th {\n",
       "        vertical-align: top;\n",
       "    }\n",
       "\n",
       "    .dataframe thead th {\n",
       "        text-align: right;\n",
       "    }\n",
       "</style>\n",
       "<table border=\"1\" class=\"dataframe\">\n",
       "  <thead>\n",
       "    <tr style=\"text-align: right;\">\n",
       "      <th></th>\n",
       "      <th>Oral</th>\n",
       "      <th>Written</th>\n",
       "      <th>Race</th>\n",
       "      <th>Combine</th>\n",
       "      <th>Class</th>\n",
       "      <th>Position_Captain</th>\n",
       "      <th>Position_Lieutenant</th>\n",
       "    </tr>\n",
       "  </thead>\n",
       "  <tbody>\n",
       "    <tr>\n",
       "      <td>0</td>\n",
       "      <td>89.52</td>\n",
       "      <td>95</td>\n",
       "      <td>1</td>\n",
       "      <td>92.808</td>\n",
       "      <td>1</td>\n",
       "      <td>1</td>\n",
       "      <td>0</td>\n",
       "    </tr>\n",
       "    <tr>\n",
       "      <td>1</td>\n",
       "      <td>80.00</td>\n",
       "      <td>95</td>\n",
       "      <td>1</td>\n",
       "      <td>89.000</td>\n",
       "      <td>1</td>\n",
       "      <td>1</td>\n",
       "      <td>0</td>\n",
       "    </tr>\n",
       "    <tr>\n",
       "      <td>2</td>\n",
       "      <td>82.38</td>\n",
       "      <td>87</td>\n",
       "      <td>1</td>\n",
       "      <td>85.152</td>\n",
       "      <td>1</td>\n",
       "      <td>1</td>\n",
       "      <td>0</td>\n",
       "    </tr>\n",
       "    <tr>\n",
       "      <td>3</td>\n",
       "      <td>88.57</td>\n",
       "      <td>76</td>\n",
       "      <td>1</td>\n",
       "      <td>81.028</td>\n",
       "      <td>1</td>\n",
       "      <td>1</td>\n",
       "      <td>0</td>\n",
       "    </tr>\n",
       "    <tr>\n",
       "      <td>4</td>\n",
       "      <td>76.19</td>\n",
       "      <td>84</td>\n",
       "      <td>1</td>\n",
       "      <td>80.876</td>\n",
       "      <td>1</td>\n",
       "      <td>1</td>\n",
       "      <td>0</td>\n",
       "    </tr>\n",
       "    <tr>\n",
       "      <td>...</td>\n",
       "      <td>...</td>\n",
       "      <td>...</td>\n",
       "      <td>...</td>\n",
       "      <td>...</td>\n",
       "      <td>...</td>\n",
       "      <td>...</td>\n",
       "      <td>...</td>\n",
       "    </tr>\n",
       "    <tr>\n",
       "      <td>113</td>\n",
       "      <td>40.83</td>\n",
       "      <td>64</td>\n",
       "      <td>0</td>\n",
       "      <td>54.732</td>\n",
       "      <td>0</td>\n",
       "      <td>0</td>\n",
       "      <td>1</td>\n",
       "    </tr>\n",
       "    <tr>\n",
       "      <td>114</td>\n",
       "      <td>52.08</td>\n",
       "      <td>56</td>\n",
       "      <td>0</td>\n",
       "      <td>54.432</td>\n",
       "      <td>0</td>\n",
       "      <td>0</td>\n",
       "      <td>1</td>\n",
       "    </tr>\n",
       "    <tr>\n",
       "      <td>115</td>\n",
       "      <td>48.33</td>\n",
       "      <td>58</td>\n",
       "      <td>0</td>\n",
       "      <td>54.132</td>\n",
       "      <td>0</td>\n",
       "      <td>0</td>\n",
       "      <td>1</td>\n",
       "    </tr>\n",
       "    <tr>\n",
       "      <td>116</td>\n",
       "      <td>52.92</td>\n",
       "      <td>49</td>\n",
       "      <td>0</td>\n",
       "      <td>50.568</td>\n",
       "      <td>0</td>\n",
       "      <td>0</td>\n",
       "      <td>1</td>\n",
       "    </tr>\n",
       "    <tr>\n",
       "      <td>117</td>\n",
       "      <td>45.83</td>\n",
       "      <td>46</td>\n",
       "      <td>0</td>\n",
       "      <td>45.932</td>\n",
       "      <td>0</td>\n",
       "      <td>0</td>\n",
       "      <td>1</td>\n",
       "    </tr>\n",
       "  </tbody>\n",
       "</table>\n",
       "<p>118 rows × 7 columns</p>\n",
       "</div>"
      ],
      "text/plain": [
       "      Oral  Written  Race  Combine  Class  Position_Captain  \\\n",
       "0    89.52       95     1   92.808      1                 1   \n",
       "1    80.00       95     1   89.000      1                 1   \n",
       "2    82.38       87     1   85.152      1                 1   \n",
       "3    88.57       76     1   81.028      1                 1   \n",
       "4    76.19       84     1   80.876      1                 1   \n",
       "..     ...      ...   ...      ...    ...               ...   \n",
       "113  40.83       64     0   54.732      0                 0   \n",
       "114  52.08       56     0   54.432      0                 0   \n",
       "115  48.33       58     0   54.132      0                 0   \n",
       "116  52.92       49     0   50.568      0                 0   \n",
       "117  45.83       46     0   45.932      0                 0   \n",
       "\n",
       "     Position_Lieutenant  \n",
       "0                      0  \n",
       "1                      0  \n",
       "2                      0  \n",
       "3                      0  \n",
       "4                      0  \n",
       "..                   ...  \n",
       "113                    1  \n",
       "114                    1  \n",
       "115                    1  \n",
       "116                    1  \n",
       "117                    1  \n",
       "\n",
       "[118 rows x 7 columns]"
      ]
     },
     "execution_count": 2,
     "metadata": {},
     "output_type": "execute_result"
    }
   ],
   "source": [
    "df = pd.read_csv(\"ricci.csv\")\n",
    "# df.head()\n",
    "df"
   ]
  },
  {
   "cell_type": "code",
   "execution_count": 20,
   "metadata": {},
   "outputs": [],
   "source": [
    "def cv_measure(y_pred, s_arr):\n",
    "    pos_mask = s_arr==1\n",
    "    neg_mask = s_arr==0\n",
    "\n",
    "    return 1.0 - np.sum(y_pred[pos_mask])/np.sum(pos_mask) + np.sum(y_pred[neg_mask])/np.sum(neg_mask)"
   ]
  },
  {
   "cell_type": "markdown",
   "metadata": {},
   "source": [
    "#### a) Biased Classification (0.5 pts)\n",
    "\n",
    "Train a Gaussian Naive Bayes classifier on the full dataset which learns to predict the _Class_ attribute using all other columns in the data. Apply your model on the training data, and compute the CV score of the resulting predictions with respect to the sensitive attribute _Race_. What does the result say on the disparity in the classifications of each majority and minority group?"
   ]
  },
  {
   "cell_type": "code",
   "execution_count": 64,
   "metadata": {},
   "outputs": [
    {
     "name": "stdout",
     "output_type": "stream",
     "text": [
      "The CV-Score dorectly from dataset: -0.4130407487791148\n",
      "0.4714285714285714\n",
      "0.9\n",
      "The CV-Score from GNB classifier: 0.6904962153069807\n"
     ]
    }
   ],
   "source": [
    "from sklearn.model_selection import train_test_split\n",
    "from sklearn.preprocessing import StandardScaler,MinMaxScaler\n",
    "from sklearn.naive_bayes import GaussianNB\n",
    "\n",
    "# class == 1 68, class == 0 50\n",
    "X = df.drop(columns = ['Class'])\n",
    "y = df['Class']\n",
    "X_train, X_test, y_train, y_test = train_test_split(X, y, test_size = 0.4, random_state = 5)\n",
    "\n",
    "scaler = MinMaxScaler()\n",
    "scaler.fit(X_train)\n",
    "X_train_scaled=scaler.transform(X_train)\n",
    "# y_pred = X_train_scaled\n",
    "# s_arr = X_train['Race']\n",
    "# print('The CV-Score dorectly from dataset:',cv_measure(y_pred,s_arr))\n",
    "\n",
    "\n",
    "# GaussianNB()\n",
    "clf1 = GaussianNB()\n",
    "clf1.fit(X_train_scaled, y_train)\n",
    "\n",
    "print(clf1.score(X_train,y_train))\n",
    "print(clf1.score(X_train_scaled,y_train))\n",
    "\n",
    "y_pred = clf1.predict(X_train_scaled)\n",
    "# y_pred = clf1.predict(X_train)\n",
    "s_arr = X_train['Race']\n",
    "\n",
    "print('The CV-Score from GNB classifier:',cv_measure(y_pred,s_arr))\n",
    "\n"
   ]
  },
  {
   "cell_type": "markdown",
   "metadata": {},
   "source": [
    "#### b) Applying Two Naive Bayes Models (0.5 pts)\n",
    "\n",
    "Train two different Naive Bayes Models, one for each of the two race values. Again, apply these on the data samples that corresponds to the population they were trained on, and combine their predictions. Are the classifications among both population groups more balanced?"
   ]
  },
  {
   "cell_type": "code",
   "execution_count": 62,
   "metadata": {},
   "outputs": [
    {
     "name": "stdout",
     "output_type": "stream",
     "text": [
      "0.3\n",
      "0.8\n"
     ]
    },
    {
     "data": {
      "text/plain": [
       "(50, 7)"
      ]
     },
     "execution_count": 62,
     "metadata": {},
     "output_type": "execute_result"
    }
   ],
   "source": [
    "# from sklearn.naive_bayes import MultinomialNB\n",
    "# clf2 = MultinomialNB()\n",
    "# clf2.fit(X_train, y_train)\n",
    "# print(clf2.score(X_train,y_train))\n",
    "# y_pred2 = clf2.predict(X_train)\n",
    "# print(cv_measure(y_pred2,s_arr))\n",
    "\n",
    "# from sklearn.naive_bayes import BernoulliNB\n",
    "clf3 = BernoulliNB()\n",
    "clf3.fit(X_train, y_train)\n",
    "# print(clf3.score(X_train,y_train))\n",
    "\n",
    "# y_pred3 = clf3.predict(X_train)\n",
    "# print(cv_measure(y_pred3,s_arr))\n",
    "\n",
    "# split the data set into two parts, one for the people with race value 0 and the other part with race value 1\n",
    "df_race_1 = df[df['Race'] == 1]\n",
    "df_race_0 = df[df['Race'] == 0]\n",
    "\n",
    "\n",
    "# train the model for df_Race_1\n",
    "\n",
    "X1 = df_race_1.drop(columns = ['Class'])\n",
    "y1 = df_race_1['Class']\n",
    "X1_train, X1_test, y1_train, y1_test = train_test_split(X1, y1, test_size = 0.4, random_state = 5)\n",
    "\n",
    "X2 = df_race_0.drop(columns = ['Class'])\n",
    "y2 = df_race_0['Class']\n",
    "X2_train, X2_test, y2_train, y2_test = train_test_split(X2, y2, test_size = 0.4, random_state = 5)\n",
    "\n",
    "from sklearn.naive_bayes import MultinomialNB\n",
    "clf2 = MultinomialNB()\n",
    "clf2.fit(X1_train, y1_train)\n",
    "clf2.fit(X2_train, y2_train)\n",
    "y1_pred = clf2.predict(X1_train)\n",
    "\n",
    "print(clf2.score(X1_train,y1_train))\n",
    "print(clf2.score(X2_train,y2_train))\n",
    "\n",
    "\n",
    "# from sklearn.naive_bayes import BernoulliNB\n",
    "# clf3 = BernoulliNB()\n",
    "# clf3.fit(X1_train, y1_train)\n",
    "# clf3.fit(X2_train, y2_train)\n",
    "\n",
    "\n",
    "df_race_0.shape\n",
    "\n",
    "\n",
    "\n",
    "\n"
   ]
  },
  {
   "cell_type": "markdown",
   "metadata": {},
   "source": [
    "#### c) The Two Naive Bayes Algorithm by Calders and Verwer (1 pt)\n",
    "\n",
    "In lecture we have briefly touched the Two Naive Bayes algorithm by Calders and Verwer. Its main idea is to train two different Naive Bayes models corresponding to both values of a binary sensitive attribute $S$, and to then adapt the prior probabilities $P(Y|S)$ of each of these models until the predictions on the training data become fair.\n",
    "More precisely, in training, we first fit two different models, namely one for the privileged class $S=1$ and one for the non-privileged class $S=0$, to obtain the conditional probabilities $P(X_i|Y,S=s)$, $s=0,1$, and the priors $P(Y|S=s)$, $s=0,1$ from the training data. After these initial fits, we evaluate the model on the training data, and if we do not observe fair predictions, i.e. predictions for which the CV score is at least $1-\\epsilon$ for some $\\epsilon>0$, we adapt the priors $P(Y|S=s)$ until this is the case. This adaptation is carried out as follows:\n",
    "\n",
    "We initialize $N(Y=j, S=s)$ as the number of training samples with class $j$ and sensitive attribute value $s$, and $N(Y=1)$ the number of samples with class $1$ in the data. Further, let $\\Delta$ denote an adaptation rate, which is given as input.  \n",
    "Then we conduct the following iteration:\n",
    "\n",
    "     cv_score <- CV score of the predicted classes by the current model.\n",
    "     while cv_score < 1 - \\epsilon:\n",
    "        n_pos <- number of predicted positive samples from the current model.\n",
    "        if n_pos < N(Y=1):\n",
    "           N(Y=1, S=0) <- N(Y=1, S=0) + ΔN(Y=0, S=1)\n",
    "           N(Y=0, S=0) <- N(Y=0, S=0) - ΔN(Y=0, S=1) \n",
    "        else:\n",
    "           N(Y=0, S=1) <- N(Y=0, S=1) + ΔN(Y=1, S=0)\n",
    "           N(Y=1, S=1) <- N(Y=1, S=1) - ΔN(Y=1, S=0)\n",
    "        if any of the N(Y, S) is negative then cancel the previous update of N(Y, S) and abort\n",
    "        Recalculate priors P(Y|S=i)  and cv_score based on updated N(Y, S)\n",
    "    \n",
    "Note that the priors $P(Y|S=s)$ are calculated via\n",
    "$$P(Y|S=s) = \\frac{N(Y, S=s)}{N(S=s)},$$\n",
    "where $N(S=s)$ denotes the number of samples in the data with sensitive attribute value $s$."
   ]
  },
  {
   "cell_type": "markdown",
   "metadata": {},
   "source": [
    "**Task description:** Implement a class that runs the Two Naive Bayes algorithm, using the signatures in the cell below! Apply Gaussian Naive Bayes models to fit your data. In particular, you do not need to differentiate between continuous and discrete data as in home assignment 2, and you can use the GaussianNB class from sklearn to fit the two individual models. Note that this class also has an attribute that stores the prior probabilities and can be overwritten easily.\n",
    "Further, you may assume that all input data is valid, i.e. you do not need to check whether for instance the feature matrix X has as many rows as the class vector y or the sensitive attribute vector s_arr.\n",
    "\n",
    "Apply your implementation on the Ricci dataset with default values for $\\epsilon$ and $\\Delta$, and compute the resulting CV score."
   ]
  },
  {
   "cell_type": "code",
   "execution_count": null,
   "metadata": {},
   "outputs": [],
   "source": [
    "import numpy as np\n",
    "from sklearn.naive_bayes import GaussianNB\n",
    "\n",
    "class TwoNaiveBayes:\n",
    "    \n",
    "    # delta: adaptation rate (float)\n",
    "    # eps: fairness tolerance, we consider a classification fair if the cv score on the training data is at least 1 - eps\n",
    "    def __init__(self, delta=0.01, eps = 0.05):\n",
    "        # your code here\n",
    "\n",
    "    # X: 2d numerical numpy array reprenting the feature matrix without the sensitive attribute\n",
    "    # s_arr: binary 1D numpy array representing the sensitive attribute\n",
    "    # y: binary 1D numpy array representing the class labels to train on\n",
    "    #\n",
    "    # nothing is returned, only internal parameters are being fit\n",
    "    def fit(self, X, s_arr, y):\n",
    "        #your code here\n",
    "    \n",
    "    # X: 2d numerical numpy array reprenting the feature matrix without the sensitive attribute\n",
    "    # s_arr: binary 1D numpy array representing the sensitive attribute to consider when predicting\n",
    "    # \n",
    "    # return binary numpy array vector of fair class labels\n",
    "    def predict(self,X,s_arr):\n",
    "        # your code here"
   ]
  },
  {
   "cell_type": "markdown",
   "metadata": {},
   "source": [
    "###  Task 2: k-Means Clustering (1.5 pts)\n",
    "\n",
    "We want to apply the $k$-means clustering algorithm from lecture to assign clusters to the dataset in \"clusters.txt\", which is loaded and plotted in the cell below."
   ]
  },
  {
   "cell_type": "code",
   "execution_count": 6,
   "metadata": {},
   "outputs": [
    {
     "data": {
      "image/png": "[encoded data removed]",
      "text/plain": [
       "<Figure size 432x288 with 1 Axes>"
      ]
     },
     "metadata": {
      "needs_background": "light"
     },
     "output_type": "display_data"
    }
   ],
   "source": [
    "from matplotlib import pyplot as plt\n",
    "\n",
    "X = np.loadtxt(\"clusters.txt\")\n",
    "plt.scatter(X[:,0],X[:,1], s=0.7)\n",
    "plt.show()"
   ]
  },
  {
   "cell_type": "markdown",
   "metadata": {},
   "source": [
    "#### a) Implementing k-means (0.75 pts)\n",
    "\n",
    "Implement the $k$-means clustering algorithm using the function specification in the cell below."
   ]
  },
  {
   "cell_type": "code",
   "execution_count": null,
   "metadata": {},
   "outputs": [],
   "source": [
    "# INPUT VALUES:\n",
    "# X: numerical 2D numpy array, each row is a sample\n",
    "# k: int, number of clusters, ignored if init_points is not None\n",
    "# init_points: list of row indices which indicate the data points that the clusters are initialized with\n",
    "# -> default is None, indicating that random data points are initialized as cluster centers\n",
    "# if specified, k is chosen as the number of cluster centers, and input for k is ignored\n",
    "#\n",
    "# RETURN:\n",
    "# y: vector with cluster labels in {1,...,k}\n",
    "\n",
    "\n",
    "def k_means(X, k=2, init_points = None):\n",
    "    ## your code here"
   ]
  },
  {
   "cell_type": "markdown",
   "metadata": {},
   "source": [
    "#### b) Application with random initialization (0.25 pts)\n",
    "\n",
    "Apply your implementation 10 times on the data from clusters.txt, choosing $k = 4$ and random initalization of cluster centers. For each run, scatterplot the data as above, with different colors indicating the clusters."
   ]
  },
  {
   "cell_type": "code",
   "execution_count": null,
   "metadata": {},
   "outputs": [],
   "source": []
  },
  {
   "cell_type": "markdown",
   "metadata": {},
   "source": [
    "#### c) k-means++ (0.5 pts)\n",
    "\n",
    "Recall the initialization of cluster centers from the $k$-means++ algorithm as presented in lecture:\n",
    "\n",
    "Let $X$ the set of data points, and $\\mathcal{D}(x)$ denote the shortest distance from a data point to the closest center we have already chosen. Then, the k-means++ initialization consists of the following steps.\n",
    "1. Take one center $c_1$, chosen uniformly at random from $X$.\n",
    "2. Take a new center $c_i$, choosing $x \\in X$ with probability $$p(x) = \\frac{D(x)^2}{\\sum_{x\\in X} D(x)^2}.$$\n",
    "3. Repeat Step 2 until we have taken $k$ centers altogether.\n",
    "\n",
    "Implement this initialization, using the signature in the cell below. Use Euclidean distance to measure distance between any pair of points in the data.  \n",
    "Apply this initialization to rerun the experiment from b). That is, run the $4$-means clustering algorithm ten times on the given data, using the initialization from k_means_pp, and scatterplot each clustering using different colors for different clusters. "
   ]
  },
  {
   "cell_type": "code",
   "execution_count": null,
   "metadata": {},
   "outputs": [],
   "source": [
    "# INPUT VALUES:\n",
    "# X: numerical 2D numpy array, each row is a sample\n",
    "# k: int, number of clusters, ignored if init_points is not None\n",
    "#\n",
    "# RETURN:\n",
    "# init_points: list of row indices which indicate the data points that the clusters are initialized with\n",
    "\n",
    "def init_k_means_pp(X,k):\n",
    "    # your code here"
   ]
  },
  {
   "cell_type": "code",
   "execution_count": null,
   "metadata": {},
   "outputs": [],
   "source": []
  },
  {
   "cell_type": "markdown",
   "metadata": {},
   "source": [
    "### Task 3: Helping Santa (1.5 pts)\n",
    "\n",
    "Santa Claus has gotten old and cannot deliver the christmas presents by himself anymore. Luckily, he has his team of 20 elves that are happy to carry all the presents out for him.\n",
    "To distribute presents in an efficient way, he wants to partition the households to deliver presents to in an optimal way, by clustering the locations that the presents are delivered to.\n",
    "A map with the coordinates of each household to deliver can be found in \"xmas.txt\", and it is loaded and plotted in the cell below."
   ]
  },
  {
   "cell_type": "code",
   "execution_count": 7,
   "metadata": {},
   "outputs": [
    {
     "data": {
      "image/png": "[encoded data removed]",
      "text/plain": [
       "<Figure size 432x288 with 1 Axes>"
      ]
     },
     "metadata": {
      "needs_background": "light"
     },
     "output_type": "display_data"
    }
   ],
   "source": [
    "xmas = np.loadtxt(\"xmas.txt\")\n",
    "plt.scatter(xmas[:,0],xmas[:,1], s=0.2)\n",
    "plt.show()"
   ]
  },
  {
   "cell_type": "markdown",
   "metadata": {},
   "source": [
    "#### a) The Silhouette Coefficient (0.5 pts)\n",
    "\n",
    "Since santa cannot judge the quality of a clustering by looking at a map, he needs to apply some quality measure that quantifies how good a clustering is.  \n",
    "\n",
    "One such measure, which both evaluates how compact clusters are among themselves, and how well different clusters are separated, is the **silhouette coefficient**.\n",
    "Assuming that all data points $x_1,\\dots ,x_n$ are partitioned into $k$ clusters $C_1, \\dots, C_k$, we can compute two coefficients for each data point $x_i$. On the one hand, assuming that $x_i \\in C_l$,\n",
    "$$\n",
    "a(x_i) := \\frac{\\sum_{x_j\\in C_l} d(x_i,x_j)}{|C_l| - 1}\n",
    "$$\n",
    "measures the compactness of the cluster $C_l$ to which $x_i$ belongs, and \n",
    "$$\n",
    "b(x_i) := \\min_{C_m\\not= C_l}\\left\\{ \\frac{\\sum_{x_j\\in C_m} d(x_i,x_j)}{|C_m|} \\right\\}\n",
    "$$\n",
    "captures the degree to which $x_i$ is separated from other clusters. Note that in these formulas, $d$ represents a distance function that can be chosen individually for the application at hand.\n",
    "From these two values, we can compute the silhouette coefficient of $x_i$ via\n",
    "$$\n",
    "s(x_i) = \\frac{b(x_i) - a(x_i)}{\\max\\{a(x_i),b(x_i)\\}}.\n",
    "$$\n",
    "Note that the value of this coefficient lies between -1 and 1, with 1 being the optimum, and negative values indicating a bad clustering, where on expectation $x_i$ is further away from the data points in its own cluster than from points in any other cluster.  \n",
    "To evaluate the quality of the **full clustering** of a dataset, one can then compute the **average silhouette coefficient of all points in a dataset**.  \n",
    "Note that this measure does not require a fixed $k$, unlike the objective function in the k-means clustering algorithm, and thus it can also be used to find an optimal $k$.\n",
    "\n",
    "Write a function that computes this silhouette score of a full clustering, using the _Euclidean distance_ as the distance function $d$. Use the signature which is specified in the cell below!"
   ]
  },
  {
   "cell_type": "code",
   "execution_count": null,
   "metadata": {},
   "outputs": [],
   "source": [
    "# INPUT VALUES\n",
    "# X: numerical 2D numpy array, each row is a data sample\n",
    "# y: numpy vector with corresponding cluster labels\n",
    "#\n",
    "# return value: single float\n",
    "\n",
    "def silhouette_score(X,y):\n",
    "    # your code here"
   ]
  },
  {
   "cell_type": "markdown",
   "metadata": {},
   "source": [
    "#### b) Finding the Optimal Hierarchical Clustering (1 pt)\n",
    "\n",
    "On christmas eve, Santa wants to send an appropriate number of his elves out to deliver all the presents, and he wants to send at least 10 elves out, because the limited capacity of their sleighs does not allow for a smaller number. However, he is also fine with not sending all of his 20 elves out, since all the elves that are not delivering presents could prepare Santa's own traditional christmas party in the meantime.  \n",
    "Thus, he decides to simply send out the number of elves between 10 and 20 that yields the best clustering with respect to the silhouette score. Since santa does not like the risks of random initializations, he wants to apply a hierarchical clustering algorithm for that task.\n",
    "\n",
    "Find the optimal clustering of the households on the christmas map consisting of between 10 and 20 clusters, resulting from a hierarchical (agglomerative) clustering with either single, average or complete linkage, and using Euclidean distance. Save the corresponding vector of optimal cluster labels into a file \"labels.npy\" and submit this file along with your noteboook. Also provide all code that you used to find this optimum in the cell(s) below.    \n",
    "Note that you do not need to implement hierarchical clustering yourself, but may resort to popular python libraries.\n",
    "Also note that this task is not a class competition, it is only about applying the clustering algorithms and measures correctly."
   ]
  },
  {
   "cell_type": "code",
   "execution_count": null,
   "metadata": {},
   "outputs": [],
   "source": []
  },
  {
   "cell_type": "code",
   "execution_count": null,
   "metadata": {},
   "outputs": [],
   "source": []
  }
 ],
 "metadata": {
  "kernelspec": {
   "display_name": "Python 3",
   "language": "python",
   "name": "python3"
  },
  "language_info": {
   "codemirror_mode": {
    "name": "ipython",
    "version": 3
   },
   "file_extension": ".py",
   "mimetype": "text/x-python",
   "name": "python",
   "nbconvert_exporter": "python",
   "pygments_lexer": "ipython3",
   "version": "3.7.4"
  },
  "toc": {
   "base_numbering": 1,
   "nav_menu": {},
   "number_sections": true,
   "sideBar": true,
   "skip_h1_title": false,
   "title_cell": "Table of Contents",
   "title_sidebar": "Contents",
   "toc_cell": false,
   "toc_position": {},
   "toc_section_display": true,
   "toc_window_display": false
  }
 },
 "nbformat": 4,
 "nbformat_minor": 2
}
