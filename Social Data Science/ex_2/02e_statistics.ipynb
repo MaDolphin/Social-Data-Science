{
 "cells": [
  {
   "cell_type": "markdown",
   "metadata": {},
   "source": [
    "# Exercise 2: Statisics"
   ]
  },
  {
   "cell_type": "markdown",
   "metadata": {},
   "source": [
    "## Task 1: Data Analysis with Pandas\n",
    "Make sure you installed the pandas package. Download the Iris Plant Dataset from the UCI Machine Learning Repository:\n",
    "https://archive.ics.uci.edu/ml/datasets/Iris\n"
   ]
  },
  {
   "cell_type": "code",
   "execution_count": 9,
   "metadata": {},
   "outputs": [],
   "source": [
    "import numpy as np\n",
    "import pandas as pd\n",
    "import math"
   ]
  },
  {
   "cell_type": "markdown",
   "metadata": {},
   "source": [
    "### a) Preprocessing and Descriptive Statistics"
   ]
  },
  {
   "cell_type": "markdown",
   "metadata": {},
   "source": [
    "Read the Iris dataset into a pandas dataframe. Note that you will need to name the columns yourself according to the _attribute information_ on the UCI website above. Print the dataframe and make sure your dataframe has 150 rows."
   ]
  },
  {
   "cell_type": "code",
   "execution_count": 4,
   "metadata": {},
   "outputs": [
    {
     "name": "stdout",
     "output_type": "stream",
     "text": [
      "     sepal_length  sepal_width  petal_length  petal_width      class_name\n",
      "0             5.1          3.5           1.4          0.2     Iris-setosa\n",
      "1             4.9          3.0           1.4          0.2     Iris-setosa\n",
      "2             4.7          3.2           1.3          0.2     Iris-setosa\n",
      "3             4.6          3.1           1.5          0.2     Iris-setosa\n",
      "4             5.0          3.6           1.4          0.2     Iris-setosa\n",
      "..            ...          ...           ...          ...             ...\n",
      "145           6.7          3.0           5.2          2.3  Iris-virginica\n",
      "146           6.3          2.5           5.0          1.9  Iris-virginica\n",
      "147           6.5          3.0           5.2          2.0  Iris-virginica\n",
      "148           6.2          3.4           5.4          2.3  Iris-virginica\n",
      "149           5.9          3.0           5.1          1.8  Iris-virginica\n",
      "\n",
      "[150 rows x 5 columns]\n"
     ]
    }
   ],
   "source": [
    "data = pd.read_csv(\"iris.data\",delimiter=',',names=['sepal_length','sepal_width','petal_length','petal_width','class_name'])\n",
    "df = pd.DataFrame(data)\n",
    "# df.columns = ['sepal_length','sepal_width','petal_length','petal_width','class_name']\n",
    "print(df)"
   ]
  },
  {
   "cell_type": "markdown",
   "metadata": {},
   "source": [
    "Use pandas built-in functions to compute the mean, variance, minimum and maximum of the _sepal length_ of all plants in the datasets"
   ]
  },
  {
   "cell_type": "code",
   "execution_count": 24,
   "metadata": {},
   "outputs": [
    {
     "name": "stdout",
     "output_type": "stream",
     "text": [
      "sepal_length    5.843333\n",
      "dtype: float64\n",
      "sepal_length    0.685694\n",
      "dtype: float64\n",
      "sepal_length    4.3\n",
      "dtype: float64\n",
      "sepal_length    7.9\n",
      "dtype: float64\n"
     ]
    }
   ],
   "source": [
    "print(df[['sepal_length']].mean(axis=0))\n",
    "print(df[['sepal_length']].var(axis=0))\n",
    "print(df[['sepal_length']].min(axis=0))\n",
    "print(df[['sepal_length']].max(axis=0))"
   ]
  },
  {
   "cell_type": "markdown",
   "metadata": {},
   "source": [
    "Write a function that takes a (numerical) column of a pandas dataframe as input and computes its median. Use it to compute the median of the _petal width_ and compare it to the output of pandas built-in median function."
   ]
  },
  {
   "cell_type": "code",
   "execution_count": 6,
   "metadata": {},
   "outputs": [
    {
     "name": "stdout",
     "output_type": "stream",
     "text": [
      "1.3\n",
      "petal_width    1.3\n",
      "dtype: float64\n"
     ]
    }
   ],
   "source": [
    "median_num = df.shape[0]/2 - 1\n",
    "# print(df.loc[[median_num]].values[0][0])\n",
    "# print(df.iloc[median_num,3])\n",
    "print(df['petal_width'][median_num])\n",
    "\n",
    "print(df[['petal_width']].median(axis=0))"
   ]
  },
  {
   "cell_type": "markdown",
   "metadata": {},
   "source": [
    "### b) Pearson's Correlation Coefficient"
   ]
  },
  {
   "cell_type": "markdown",
   "metadata": {},
   "source": [
    "Write a function that takes two (numerical) pandas columns as input and returns their Pearson correlation coefficient. Do not use any pandas/numpy/scipy built-ins."
   ]
  },
  {
   "cell_type": "code",
   "execution_count": 22,
   "metadata": {},
   "outputs": [],
   "source": [
    "def calcPearson(x,y):\n",
    "    x_mean = np.mean(x)\n",
    "    y_mean = np.mean(y)\n",
    "\n",
    "    n = len(x)\n",
    "    sumTop = 0.0\n",
    "    sumBottom = 0.0\n",
    "    x_pow = 0.0\n",
    "    y_pow = 0.0\n",
    "    for i in range(n):\n",
    "        sumTop += (x[i]-x_mean)*(y[i]-y_mean)\n",
    "    for i in range(n):\n",
    "        x_pow += math.pow(x[i]-x_mean,2)\n",
    "    for i in range(n):\n",
    "        y_pow += math.pow(y[i]-y_mean,2)\n",
    "#     sumTop = np.sum((x-x_mean)*(y-y_mean))\n",
    "#     x_pow = np.sum(math.pow(x-x_mean,2))\n",
    "#     y_pow = np.sum(math.pow(y-y_mean,2))\n",
    "    sumBottom = math.sqrt(x_pow*y_pow)\n",
    "    p = sumTop/sumBottom\n",
    "    return p"
   ]
  },
  {
   "cell_type": "markdown",
   "metadata": {},
   "source": [
    "Apply your function to compute the correlation between _sepal length_ and _sepal width_. Check it for correctness by applying the corresponding scipy built-in. "
   ]
  },
  {
   "cell_type": "code",
   "execution_count": 23,
   "metadata": {},
   "outputs": [
    {
     "name": "stdout",
     "output_type": "stream",
     "text": [
      "0.8717541573048714\n",
      "0.8717541573048718\n"
     ]
    }
   ],
   "source": [
    "print(calcPearson(df['sepal_length'],df['petal_length']))\n",
    "print(df.sepal_length.corr(df.petal_length))"
   ]
  },
  {
   "cell_type": "markdown",
   "metadata": {},
   "source": [
    "### c) Hypothesis Testing"
   ]
  },
  {
   "cell_type": "markdown",
   "metadata": {},
   "source": [
    "Compute the mean _sepal width_ for all plants that are classed as _Iris-versicolor_ and for all plants that are classed as _Iris-virginica_ ."
   ]
  },
  {
   "cell_type": "code",
   "execution_count": 39,
   "metadata": {},
   "outputs": [
    {
     "name": "stdout",
     "output_type": "stream",
     "text": [
      "2.8719999999999994\n"
     ]
    }
   ],
   "source": [
    "df_1 = df[df['class_name'] == 'Iris-versicolor']\n",
    "df_2 = df[df['class_name'] == 'Iris-virginica']\n",
    "df_all = df_1.append(df_2)\n",
    "mean = df_all['sepal_width'].mean(axis=0)\n",
    "print(mean)"
   ]
  },
  {
   "cell_type": "markdown",
   "metadata": {},
   "source": [
    "Consider the null hypothesis that there is no difference in the means of the groups. Compute the corresponding _p_-value by shuffling the class labels 100000 times and computing the difference in means each of these times. Do you oberve a significant difference?"
   ]
  },
  {
   "cell_type": "code",
   "execution_count": null,
   "metadata": {},
   "outputs": [],
   "source": [
    "# ? np.random.shuffle"
   ]
  },
  {
   "cell_type": "markdown",
   "metadata": {},
   "source": [
    "### d) The Bootstrap\n",
    "\n",
    "We consider the _sepal width_ of all plants in the data that are classed as _Iris-setosa_. Compute the 95% confidence interval of their mean by bootstrapping the data 10000 times. "
   ]
  },
  {
   "cell_type": "code",
   "execution_count": 57,
   "metadata": {},
   "outputs": [
    {
     "name": "stdout",
     "output_type": "stream",
     "text": [
      "50    3.2\n",
      "51    3.2\n",
      "52    3.1\n",
      "53    2.3\n",
      "54    2.8\n",
      "55    2.8\n",
      "56    3.3\n",
      "57    2.4\n",
      "58    2.9\n",
      "59    2.7\n",
      "60    2.0\n",
      "61    3.0\n",
      "62    2.2\n",
      "63    2.9\n",
      "64    2.9\n",
      "65    3.1\n",
      "66    3.0\n",
      "67    2.7\n",
      "68    2.2\n",
      "69    2.5\n",
      "70    3.2\n",
      "71    2.8\n",
      "72    2.5\n",
      "73    2.8\n",
      "74    2.9\n",
      "75    3.0\n",
      "76    2.8\n",
      "77    3.0\n",
      "78    2.9\n",
      "79    2.6\n",
      "80    2.4\n",
      "81    2.4\n",
      "82    2.7\n",
      "83    2.7\n",
      "84    3.0\n",
      "85    3.4\n",
      "86    3.1\n",
      "87    2.3\n",
      "88    3.0\n",
      "89    2.5\n",
      "90    2.6\n",
      "91    3.0\n",
      "92    2.6\n",
      "93    2.3\n",
      "94    2.7\n",
      "95    3.0\n",
      "96    2.9\n",
      "97    2.9\n",
      "98    2.5\n",
      "99    2.8\n",
      "Name: sepal_width, dtype: float64\n"
     ]
    },
    {
     "data": {
      "text/plain": [
       "array([2.59 , 2.842])"
      ]
     },
     "execution_count": 57,
     "metadata": {},
     "output_type": "execute_result"
    }
   ],
   "source": [
    "df_3 = df[df['class_name'] == 'Iris-versicolor']\n",
    "print(df_3['sepal_width'])\n",
    "n = len(df_3)\n",
    "reps = 10000\n",
    "xb = np.random.choice(df_3['sepal_width'], (n, reps))\n",
    "mb = xb.mean(axis=0)\n",
    "mb.sort()\n",
    "\n",
    "np.percentile(mb, [0, 95])"
   ]
  },
  {
   "cell_type": "markdown",
   "metadata": {},
   "source": [
    "## Task 2: A Dice Game"
   ]
  },
  {
   "cell_type": "markdown",
   "metadata": {},
   "source": [
    "Consider the following game of dices: You roll 5 dice, and you get points for each die you roll.\n",
    "For each one, you get 100 points, for each six, you get 60 points, for all other numbers just the shown value (e.g., you get 3 points for a 3). Your total score is the sum of these points."
   ]
  },
  {
   "cell_type": "markdown",
   "metadata": {},
   "source": [
    "### a) Simulation and Plotting\n",
    "\n",
    "Simulate the game 100,000 times, and save both every single dice roll as well as the resulting score for each of the 100000 rounds. Plot a histogram of outcomes."
   ]
  },
  {
   "cell_type": "code",
   "execution_count": 52,
   "metadata": {},
   "outputs": [],
   "source": [
    "import random\n",
    "import numpy as np\n",
    "import pandas as pd\n",
    "\n",
    "def roll (n):\n",
    "    result = {1:0, 2:0, 3:0, 4:0, 5:0, 6:0}\n",
    "    for i in range (n):\n",
    "        r = random.randint(1,6)\n",
    "        result [r] = result[r] + 1\n",
    "#     print(result)\n",
    "    return result\n",
    "\n",
    "def sum():\n",
    "    res = [] # sum\n",
    "    data_all = np.empty(shape=[0, 7]) #sum 1 2 3 4 5 6\n",
    "    temp = [] # store value of 1 2 3 4 5 6\n",
    "    for i in range(100000):\n",
    "        sum = 0\n",
    "        result = roll(5)\n",
    "        for i in range(6):\n",
    "            if i+1 == 1:\n",
    "                sum += (i+1)*result[i+1]*100\n",
    "            elif i+1 == 6:\n",
    "                sum += (i+1)*result[i+1]*10\n",
    "            else:\n",
    "                sum += (i+1)*result[i+1]\n",
    "        res.append(sum)\n",
    "        temp.append(sum)\n",
    "        for i in range(6):\n",
    "            temp.append(result[i+1])\n",
    "        data_all = np.append(data_all, [temp], axis = 0)\n",
    "        temp.clear()\n",
    "    return res,data_all\n",
    "# print(sum())\n",
    "# print(np.sum(sum()))"
   ]
  },
  {
   "cell_type": "code",
   "execution_count": 53,
   "metadata": {},
   "outputs": [
    {
     "data": {
      "image/png": "[encoded data removed]",
      "text/plain": [
       "<Figure size 432x288 with 1 Axes>"
      ]
     },
     "metadata": {
      "needs_background": "light"
     },
     "output_type": "display_data"
    }
   ],
   "source": [
    "# use matplotlib/pyplot\n",
    "from matplotlib import pyplot as plt\n",
    "data,data_all = sum()\n",
    "df_data_all = pd.DataFrame(data_all,columns=['sum','1','2','3','4','5','6'])\n",
    "# print(df_data_all)\n",
    "x = np.arange(len(data))\n",
    "y = data\n",
    "# plt.title(\"Matplotlib demo\") \n",
    "plt.xlabel(\"x axis is time\")\n",
    "plt.ylabel(\"y axis is reward\") \n",
    "plt.plot(x,y)\n",
    "plt.show()"
   ]
  },
  {
   "cell_type": "markdown",
   "metadata": {},
   "source": [
    "### b) Hypothesis Testing pt. 2\n",
    "Assume that in your initial roll, you scored 268. Is this signficantly above what is to be expected? Compute the corresponding _p_-value."
   ]
  },
  {
   "cell_type": "code",
   "execution_count": 1,
   "metadata": {},
   "outputs": [],
   "source": [
    "# ？"
   ]
  },
  {
   "cell_type": "markdown",
   "metadata": {},
   "source": [
    "### c) Conditional Probability and Bayes Theorem\n",
    "\n",
    "Based on your simulation, give an estimation of the probability of scoring over 100 points, given that you did not roll a single 1."
   ]
  },
  {
   "cell_type": "code",
   "execution_count": 54,
   "metadata": {},
   "outputs": [
    {
     "name": "stdout",
     "output_type": "stream",
     "text": [
      "0.10555\n"
     ]
    }
   ],
   "source": [
    "p_sum_big_100 = len(df_data_all[df_data_all['sum']>100])/len(df_data_all)\n",
    "df_1_equal_0 = df_data_all[df_data_all['1']==0]\n",
    "p_1_equal_0 = len(df_data_all[df_data_all['1']==0])/len(df_data_all)\n",
    "p_sum_big_100_given_1_equal_0 = len(df_1_equal_0[df_1_equal_0['sum']>100])/len(df_data_all)\n",
    "print(p_sum_big_100_given_1_equal_0)"
   ]
  },
  {
   "cell_type": "markdown",
   "metadata": {},
   "source": [
    "Now estimate the probability of scoring over 100 points, and apply your previous results and Bayes Theorem to compute the probability of not rolling a 1 given that you score over 100 points."
   ]
  },
  {
   "cell_type": "code",
   "execution_count": 55,
   "metadata": {},
   "outputs": [
    {
     "name": "stdout",
     "output_type": "stream",
     "text": [
      "0.06039255190557451\n"
     ]
    }
   ],
   "source": [
    "p_1_equal_0_sum_big_100 = p_sum_big_100_given_1_equal_0 * p_1_equal_0 / p_sum_big_100\n",
    "print(p_1_equal_0_sum_big_100)"
   ]
  },
  {
   "cell_type": "code",
   "execution_count": null,
   "metadata": {},
   "outputs": [],
   "source": []
  }
 ],
 "metadata": {
  "kernelspec": {
   "display_name": "Python 3",
   "language": "python",
   "name": "python3"
  },
  "language_info": {
   "codemirror_mode": {
    "name": "ipython",
    "version": 3
   },
   "file_extension": ".py",
   "mimetype": "text/x-python",
   "name": "python",
   "nbconvert_exporter": "python",
   "pygments_lexer": "ipython3",
   "version": "3.7.0"
  }
 },
 "nbformat": 4,
 "nbformat_minor": 2
}
