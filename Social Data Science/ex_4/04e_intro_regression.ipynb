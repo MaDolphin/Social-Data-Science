{
 "cells": [
  {
   "cell_type": "markdown",
   "metadata": {},
   "source": [
    "# Exercise 4: Introduction to Regression"
   ]
  },
  {
   "cell_type": "markdown",
   "metadata": {},
   "source": [
    "Aufgaben:\n",
    "\n",
    "* Programmierung OLS, \n",
    "* Programmierung Diagnostics: Bootstrap CI, R²\n",
    "* Generierung Zufallsdaten nach Muster, Check Funktionalität, Plot daten und Regreesionsgerade\n",
    "* Datensatz Student Performance (Preprocessing [!], Übergang zu statsmodels\n",
    "* Exeriments Predictors\n",
    "* Analyse Prediktoren\n",
    "* Residual Plots\n"
   ]
  },
  {
   "cell_type": "code",
   "execution_count": 9,
   "metadata": {},
   "outputs": [],
   "source": [
    "import numpy as np\n",
    "import pandas as pd\n",
    "import statsmodels.api as sm\n",
    "import matplotlib.pyplot as plt"
   ]
  },
  {
   "cell_type": "markdown",
   "metadata": {},
   "source": [
    "## A Brief Introduction to Statsmodels\n",
    "\n",
    "Next to sklearn, statsmodels is probably the most popular Python package for regression. While the focus of sklearn (will be covered later in class) rather lies machine learning applications, statsmodels (as the name suggests) has a rather statitics-oriented focus. We will briefly present the basic functionality of its regression functions by revisiting the Iris data set."
   ]
  },
  {
   "cell_type": "code",
   "execution_count": 10,
   "metadata": {},
   "outputs": [
    {
     "data": {
      "text/html": [
       "<div>\n",
       "<style scoped>\n",
       "    .dataframe tbody tr th:only-of-type {\n",
       "        vertical-align: middle;\n",
       "    }\n",
       "\n",
       "    .dataframe tbody tr th {\n",
       "        vertical-align: top;\n",
       "    }\n",
       "\n",
       "    .dataframe thead th {\n",
       "        text-align: right;\n",
       "    }\n",
       "</style>\n",
       "<table border=\"1\" class=\"dataframe\">\n",
       "  <thead>\n",
       "    <tr style=\"text-align: right;\">\n",
       "      <th></th>\n",
       "      <th>sepal_length</th>\n",
       "      <th>sepal_width</th>\n",
       "      <th>petal_length</th>\n",
       "      <th>petal_width</th>\n",
       "      <th>species</th>\n",
       "    </tr>\n",
       "  </thead>\n",
       "  <tbody>\n",
       "    <tr>\n",
       "      <th>0</th>\n",
       "      <td>5.1</td>\n",
       "      <td>3.5</td>\n",
       "      <td>1.4</td>\n",
       "      <td>0.2</td>\n",
       "      <td>Iris-setosa</td>\n",
       "    </tr>\n",
       "    <tr>\n",
       "      <th>1</th>\n",
       "      <td>4.9</td>\n",
       "      <td>3.0</td>\n",
       "      <td>1.4</td>\n",
       "      <td>0.2</td>\n",
       "      <td>Iris-setosa</td>\n",
       "    </tr>\n",
       "    <tr>\n",
       "      <th>2</th>\n",
       "      <td>4.7</td>\n",
       "      <td>3.2</td>\n",
       "      <td>1.3</td>\n",
       "      <td>0.2</td>\n",
       "      <td>Iris-setosa</td>\n",
       "    </tr>\n",
       "    <tr>\n",
       "      <th>3</th>\n",
       "      <td>4.6</td>\n",
       "      <td>3.1</td>\n",
       "      <td>1.5</td>\n",
       "      <td>0.2</td>\n",
       "      <td>Iris-setosa</td>\n",
       "    </tr>\n",
       "    <tr>\n",
       "      <th>4</th>\n",
       "      <td>5.0</td>\n",
       "      <td>3.6</td>\n",
       "      <td>1.4</td>\n",
       "      <td>0.2</td>\n",
       "      <td>Iris-setosa</td>\n",
       "    </tr>\n",
       "  </tbody>\n",
       "</table>\n",
       "</div>"
      ],
      "text/plain": [
       "   sepal_length  sepal_width  petal_length  petal_width      species\n",
       "0           5.1          3.5           1.4          0.2  Iris-setosa\n",
       "1           4.9          3.0           1.4          0.2  Iris-setosa\n",
       "2           4.7          3.2           1.3          0.2  Iris-setosa\n",
       "3           4.6          3.1           1.5          0.2  Iris-setosa\n",
       "4           5.0          3.6           1.4          0.2  Iris-setosa"
      ]
     },
     "execution_count": 10,
     "metadata": {},
     "output_type": "execute_result"
    }
   ],
   "source": [
    "# read in data\n",
    "df = pd.read_csv (\"https://archive.ics.uci.edu/ml/machine-learning-databases/iris/iris.data\", names = [\"sepal_length\", \"sepal_width\", \"petal_length\", \"petal_width\", \"species\"])\n",
    "df.head()"
   ]
  },
  {
   "cell_type": "markdown",
   "metadata": {},
   "source": [
    "#### Example 1: Bivariate Prediction\n",
    "We want to fit a regession model that estimates sepal length from sepal width."
   ]
  },
  {
   "cell_type": "code",
   "execution_count": 11,
   "metadata": {},
   "outputs": [
    {
     "name": "stderr",
     "output_type": "stream",
     "text": [
      "/Users/hhk/anaconda3/lib/python3.7/site-packages/numpy/core/fromnumeric.py:2495: FutureWarning: Method .ptp is deprecated and will be removed in a future version. Use numpy.ptp instead.\n",
      "  return ptp(axis=axis, out=out, **kwargs)\n"
     ]
    },
    {
     "data": {
      "text/html": [
       "<div>\n",
       "<style scoped>\n",
       "    .dataframe tbody tr th:only-of-type {\n",
       "        vertical-align: middle;\n",
       "    }\n",
       "\n",
       "    .dataframe tbody tr th {\n",
       "        vertical-align: top;\n",
       "    }\n",
       "\n",
       "    .dataframe thead th {\n",
       "        text-align: right;\n",
       "    }\n",
       "</style>\n",
       "<table border=\"1\" class=\"dataframe\">\n",
       "  <thead>\n",
       "    <tr style=\"text-align: right;\">\n",
       "      <th></th>\n",
       "      <th>const</th>\n",
       "      <th>sepal_width</th>\n",
       "    </tr>\n",
       "  </thead>\n",
       "  <tbody>\n",
       "    <tr>\n",
       "      <th>0</th>\n",
       "      <td>1.0</td>\n",
       "      <td>3.5</td>\n",
       "    </tr>\n",
       "    <tr>\n",
       "      <th>1</th>\n",
       "      <td>1.0</td>\n",
       "      <td>3.0</td>\n",
       "    </tr>\n",
       "    <tr>\n",
       "      <th>2</th>\n",
       "      <td>1.0</td>\n",
       "      <td>3.2</td>\n",
       "    </tr>\n",
       "    <tr>\n",
       "      <th>3</th>\n",
       "      <td>1.0</td>\n",
       "      <td>3.1</td>\n",
       "    </tr>\n",
       "    <tr>\n",
       "      <th>4</th>\n",
       "      <td>1.0</td>\n",
       "      <td>3.6</td>\n",
       "    </tr>\n",
       "    <tr>\n",
       "      <th>5</th>\n",
       "      <td>1.0</td>\n",
       "      <td>3.9</td>\n",
       "    </tr>\n",
       "    <tr>\n",
       "      <th>6</th>\n",
       "      <td>1.0</td>\n",
       "      <td>3.4</td>\n",
       "    </tr>\n",
       "    <tr>\n",
       "      <th>7</th>\n",
       "      <td>1.0</td>\n",
       "      <td>3.4</td>\n",
       "    </tr>\n",
       "    <tr>\n",
       "      <th>8</th>\n",
       "      <td>1.0</td>\n",
       "      <td>2.9</td>\n",
       "    </tr>\n",
       "    <tr>\n",
       "      <th>9</th>\n",
       "      <td>1.0</td>\n",
       "      <td>3.1</td>\n",
       "    </tr>\n",
       "  </tbody>\n",
       "</table>\n",
       "</div>"
      ],
      "text/plain": [
       "   const  sepal_width\n",
       "0    1.0          3.5\n",
       "1    1.0          3.0\n",
       "2    1.0          3.2\n",
       "3    1.0          3.1\n",
       "4    1.0          3.6\n",
       "5    1.0          3.9\n",
       "6    1.0          3.4\n",
       "7    1.0          3.4\n",
       "8    1.0          2.9\n",
       "9    1.0          3.1"
      ]
     },
     "execution_count": 11,
     "metadata": {},
     "output_type": "execute_result"
    }
   ],
   "source": [
    "# specify predictors X and target Y\n",
    "Y = df.sepal_length\n",
    "X = df.sepal_width\n",
    "# most importantly: we have to add a constant term to estimate the intercept\n",
    "X = sm.add_constant(X)\n",
    "X[:10]"
   ]
  },
  {
   "cell_type": "code",
   "execution_count": 13,
   "metadata": {},
   "outputs": [
    {
     "data": {
      "text/html": [
       "<table class=\"simpletable\">\n",
       "<caption>OLS Regression Results</caption>\n",
       "<tr>\n",
       "  <th>Dep. Variable:</th>      <td>sepal_length</td>   <th>  R-squared:         </th> <td>   0.012</td>\n",
       "</tr>\n",
       "<tr>\n",
       "  <th>Model:</th>                   <td>OLS</td>       <th>  Adj. R-squared:    </th> <td>   0.005</td>\n",
       "</tr>\n",
       "<tr>\n",
       "  <th>Method:</th>             <td>Least Squares</td>  <th>  F-statistic:       </th> <td>   1.792</td>\n",
       "</tr>\n",
       "<tr>\n",
       "  <th>Date:</th>             <td>Thu, 07 Nov 2019</td> <th>  Prob (F-statistic):</th>  <td> 0.183</td> \n",
       "</tr>\n",
       "<tr>\n",
       "  <th>Time:</th>                 <td>17:54:59</td>     <th>  Log-Likelihood:    </th> <td> -183.14</td>\n",
       "</tr>\n",
       "<tr>\n",
       "  <th>No. Observations:</th>      <td>   150</td>      <th>  AIC:               </th> <td>   370.3</td>\n",
       "</tr>\n",
       "<tr>\n",
       "  <th>Df Residuals:</th>          <td>   148</td>      <th>  BIC:               </th> <td>   376.3</td>\n",
       "</tr>\n",
       "<tr>\n",
       "  <th>Df Model:</th>              <td>     1</td>      <th>                     </th>     <td> </td>   \n",
       "</tr>\n",
       "<tr>\n",
       "  <th>Covariance Type:</th>      <td>nonrobust</td>    <th>                     </th>     <td> </td>   \n",
       "</tr>\n",
       "</table>\n",
       "<table class=\"simpletable\">\n",
       "<tr>\n",
       "       <td></td>          <th>coef</th>     <th>std err</th>      <th>t</th>      <th>P>|t|</th>  <th>[0.025</th>    <th>0.975]</th>  \n",
       "</tr>\n",
       "<tr>\n",
       "  <th>const</th>       <td>    6.4812</td> <td>    0.481</td> <td>   13.466</td> <td> 0.000</td> <td>    5.530</td> <td>    7.432</td>\n",
       "</tr>\n",
       "<tr>\n",
       "  <th>sepal_width</th> <td>   -0.2089</td> <td>    0.156</td> <td>   -1.339</td> <td> 0.183</td> <td>   -0.517</td> <td>    0.099</td>\n",
       "</tr>\n",
       "</table>\n",
       "<table class=\"simpletable\">\n",
       "<tr>\n",
       "  <th>Omnibus:</th>       <td> 4.455</td> <th>  Durbin-Watson:     </th> <td>   0.941</td>\n",
       "</tr>\n",
       "<tr>\n",
       "  <th>Prob(Omnibus):</th> <td> 0.108</td> <th>  Jarque-Bera (JB):  </th> <td>   4.252</td>\n",
       "</tr>\n",
       "<tr>\n",
       "  <th>Skew:</th>          <td> 0.356</td> <th>  Prob(JB):          </th> <td>   0.119</td>\n",
       "</tr>\n",
       "<tr>\n",
       "  <th>Kurtosis:</th>      <td> 2.585</td> <th>  Cond. No.          </th> <td>    24.3</td>\n",
       "</tr>\n",
       "</table><br/><br/>Warnings:<br/>[1] Standard Errors assume that the covariance matrix of the errors is correctly specified."
      ],
      "text/plain": [
       "<class 'statsmodels.iolib.summary.Summary'>\n",
       "\"\"\"\n",
       "                            OLS Regression Results                            \n",
       "==============================================================================\n",
       "Dep. Variable:           sepal_length   R-squared:                       0.012\n",
       "Model:                            OLS   Adj. R-squared:                  0.005\n",
       "Method:                 Least Squares   F-statistic:                     1.792\n",
       "Date:                Thu, 07 Nov 2019   Prob (F-statistic):              0.183\n",
       "Time:                        17:54:59   Log-Likelihood:                -183.14\n",
       "No. Observations:                 150   AIC:                             370.3\n",
       "Df Residuals:                     148   BIC:                             376.3\n",
       "Df Model:                           1                                         \n",
       "Covariance Type:            nonrobust                                         \n",
       "===============================================================================\n",
       "                  coef    std err          t      P>|t|      [0.025      0.975]\n",
       "-------------------------------------------------------------------------------\n",
       "const           6.4812      0.481     13.466      0.000       5.530       7.432\n",
       "sepal_width    -0.2089      0.156     -1.339      0.183      -0.517       0.099\n",
       "==============================================================================\n",
       "Omnibus:                        4.455   Durbin-Watson:                   0.941\n",
       "Prob(Omnibus):                  0.108   Jarque-Bera (JB):                4.252\n",
       "Skew:                           0.356   Prob(JB):                        0.119\n",
       "Kurtosis:                       2.585   Cond. No.                         24.3\n",
       "==============================================================================\n",
       "\n",
       "Warnings:\n",
       "[1] Standard Errors assume that the covariance matrix of the errors is correctly specified.\n",
       "\"\"\""
      ]
     },
     "execution_count": 13,
     "metadata": {},
     "output_type": "execute_result"
    }
   ],
   "source": [
    "# initialize model: OLS = ordinary least squares\n",
    "model = sm.OLS(Y,X)\n",
    "# fit model: only now te model, i.e. the parameters are computed\n",
    "results = model.fit()\n",
    "\n",
    "# print a summary, i.e. an overview on parameters and diagnostics\n",
    "results.summary()"
   ]
  },
  {
   "cell_type": "code",
   "execution_count": 18,
   "metadata": {},
   "outputs": [
    {
     "data": {
      "text/plain": [
       "const          6.481223\n",
       "sepal_width   -0.208870\n",
       "dtype: float64"
      ]
     },
     "execution_count": 18,
     "metadata": {},
     "output_type": "execute_result"
    }
   ],
   "source": [
    "# get parameters of model, i.e. beta_0 and beta_1\n",
    "params = results.params\n",
    "params"
   ]
  },
  {
   "cell_type": "code",
   "execution_count": null,
   "metadata": {},
   "outputs": [],
   "source": [
    "# we can apply parameters to obtain the predictions of Y based on X\n",
    "np.dot(X,params)"
   ]
  },
  {
   "cell_type": "code",
   "execution_count": null,
   "metadata": {},
   "outputs": [],
   "source": [
    "# unsurprisingly, statsmodels also provides a direct prediction function:\n",
    "results.predict(X)"
   ]
  },
  {
   "cell_type": "markdown",
   "metadata": {},
   "source": [
    "#### Example 2: Multivariate Regression\n",
    "Now we want to include all other numerical columns from the data to fit to estimate sepal length."
   ]
  },
  {
   "cell_type": "code",
   "execution_count": 42,
   "metadata": {
    "scrolled": true
   },
   "outputs": [
    {
     "data": {
      "text/html": [
       "<table class=\"simpletable\">\n",
       "<caption>OLS Regression Results</caption>\n",
       "<tr>\n",
       "  <th>Dep. Variable:</th>      <td>sepal_length</td>   <th>  R-squared:         </th> <td>   0.859</td>\n",
       "</tr>\n",
       "<tr>\n",
       "  <th>Model:</th>                   <td>OLS</td>       <th>  Adj. R-squared:    </th> <td>   0.856</td>\n",
       "</tr>\n",
       "<tr>\n",
       "  <th>Method:</th>             <td>Least Squares</td>  <th>  F-statistic:       </th> <td>   297.0</td>\n",
       "</tr>\n",
       "<tr>\n",
       "  <th>Date:</th>             <td>Thu, 31 Oct 2019</td> <th>  Prob (F-statistic):</th> <td>6.28e-62</td>\n",
       "</tr>\n",
       "<tr>\n",
       "  <th>Time:</th>                 <td>10:12:28</td>     <th>  Log-Likelihood:    </th> <td> -37.000</td>\n",
       "</tr>\n",
       "<tr>\n",
       "  <th>No. Observations:</th>      <td>   150</td>      <th>  AIC:               </th> <td>   82.00</td>\n",
       "</tr>\n",
       "<tr>\n",
       "  <th>Df Residuals:</th>          <td>   146</td>      <th>  BIC:               </th> <td>   94.04</td>\n",
       "</tr>\n",
       "<tr>\n",
       "  <th>Df Model:</th>              <td>     3</td>      <th>                     </th>     <td> </td>   \n",
       "</tr>\n",
       "<tr>\n",
       "  <th>Covariance Type:</th>      <td>nonrobust</td>    <th>                     </th>     <td> </td>   \n",
       "</tr>\n",
       "</table>\n",
       "<table class=\"simpletable\">\n",
       "<tr>\n",
       "        <td></td>          <th>coef</th>     <th>std err</th>      <th>t</th>      <th>P>|t|</th>  <th>[0.025</th>    <th>0.975]</th>  \n",
       "</tr>\n",
       "<tr>\n",
       "  <th>Intercept</th>    <td>    1.8451</td> <td>    0.250</td> <td>    7.368</td> <td> 0.000</td> <td>    1.350</td> <td>    2.340</td>\n",
       "</tr>\n",
       "<tr>\n",
       "  <th>sepal_width</th>  <td>    0.6549</td> <td>    0.067</td> <td>    9.823</td> <td> 0.000</td> <td>    0.523</td> <td>    0.787</td>\n",
       "</tr>\n",
       "<tr>\n",
       "  <th>petal_width</th>  <td>   -0.5626</td> <td>    0.127</td> <td>   -4.426</td> <td> 0.000</td> <td>   -0.814</td> <td>   -0.311</td>\n",
       "</tr>\n",
       "<tr>\n",
       "  <th>petal_length</th> <td>    0.7111</td> <td>    0.057</td> <td>   12.560</td> <td> 0.000</td> <td>    0.599</td> <td>    0.823</td>\n",
       "</tr>\n",
       "</table>\n",
       "<table class=\"simpletable\">\n",
       "<tr>\n",
       "  <th>Omnibus:</th>       <td> 0.265</td> <th>  Durbin-Watson:     </th> <td>   2.053</td>\n",
       "</tr>\n",
       "<tr>\n",
       "  <th>Prob(Omnibus):</th> <td> 0.876</td> <th>  Jarque-Bera (JB):  </th> <td>   0.432</td>\n",
       "</tr>\n",
       "<tr>\n",
       "  <th>Skew:</th>          <td> 0.003</td> <th>  Prob(JB):          </th> <td>   0.806</td>\n",
       "</tr>\n",
       "<tr>\n",
       "  <th>Kurtosis:</th>      <td> 2.737</td> <th>  Cond. No.          </th> <td>    54.7</td>\n",
       "</tr>\n",
       "</table><br/><br/>Warnings:<br/>[1] Standard Errors assume that the covariance matrix of the errors is correctly specified."
      ],
      "text/plain": [
       "<class 'statsmodels.iolib.summary.Summary'>\n",
       "\"\"\"\n",
       "                            OLS Regression Results                            \n",
       "==============================================================================\n",
       "Dep. Variable:           sepal_length   R-squared:                       0.859\n",
       "Model:                            OLS   Adj. R-squared:                  0.856\n",
       "Method:                 Least Squares   F-statistic:                     297.0\n",
       "Date:                Thu, 31 Oct 2019   Prob (F-statistic):           6.28e-62\n",
       "Time:                        10:12:28   Log-Likelihood:                -37.000\n",
       "No. Observations:                 150   AIC:                             82.00\n",
       "Df Residuals:                     146   BIC:                             94.04\n",
       "Df Model:                           3                                         \n",
       "Covariance Type:            nonrobust                                         \n",
       "================================================================================\n",
       "                   coef    std err          t      P>|t|      [0.025      0.975]\n",
       "--------------------------------------------------------------------------------\n",
       "Intercept        1.8451      0.250      7.368      0.000       1.350       2.340\n",
       "sepal_width      0.6549      0.067      9.823      0.000       0.523       0.787\n",
       "petal_width     -0.5626      0.127     -4.426      0.000      -0.814      -0.311\n",
       "petal_length     0.7111      0.057     12.560      0.000       0.599       0.823\n",
       "==============================================================================\n",
       "Omnibus:                        0.265   Durbin-Watson:                   2.053\n",
       "Prob(Omnibus):                  0.876   Jarque-Bera (JB):                0.432\n",
       "Skew:                           0.003   Prob(JB):                        0.806\n",
       "Kurtosis:                       2.737   Cond. No.                         54.7\n",
       "==============================================================================\n",
       "\n",
       "Warnings:\n",
       "[1] Standard Errors assume that the covariance matrix of the errors is correctly specified.\n",
       "\"\"\""
      ]
     },
     "execution_count": 42,
     "metadata": {},
     "output_type": "execute_result"
    }
   ],
   "source": [
    "# statsmodels also provides a formula syntax, which requires an additional import\n",
    "from statsmodels.formula.api import ols\n",
    "\n",
    "# formula syntax: dependent variable ~ predictor1 + predictor2 +.....\n",
    "# note that intercept is fit automatically\n",
    "model = ols(\"sepal_length ~ sepal_width + petal_width + petal_length\", data=df)\n",
    "\n",
    "results = model.fit()\n",
    "results.summary()"
   ]
  },
  {
   "cell_type": "code",
   "execution_count": 45,
   "metadata": {},
   "outputs": [
    {
     "data": {
      "text/html": [
       "<table class=\"simpletable\">\n",
       "<caption>OLS Regression Results</caption>\n",
       "<tr>\n",
       "  <th>Dep. Variable:</th>      <td>sepal_length</td>   <th>  R-squared:         </th> <td>   0.866</td>\n",
       "</tr>\n",
       "<tr>\n",
       "  <th>Model:</th>                   <td>OLS</td>       <th>  Adj. R-squared:    </th> <td>   0.862</td>\n",
       "</tr>\n",
       "<tr>\n",
       "  <th>Method:</th>             <td>Least Squares</td>  <th>  F-statistic:       </th> <td>   186.9</td>\n",
       "</tr>\n",
       "<tr>\n",
       "  <th>Date:</th>             <td>Thu, 31 Oct 2019</td> <th>  Prob (F-statistic):</th> <td>4.20e-61</td>\n",
       "</tr>\n",
       "<tr>\n",
       "  <th>Time:</th>                 <td>10:16:02</td>     <th>  Log-Likelihood:    </th> <td> -33.031</td>\n",
       "</tr>\n",
       "<tr>\n",
       "  <th>No. Observations:</th>      <td>   150</td>      <th>  AIC:               </th> <td>   78.06</td>\n",
       "</tr>\n",
       "<tr>\n",
       "  <th>Df Residuals:</th>          <td>   144</td>      <th>  BIC:               </th> <td>   96.13</td>\n",
       "</tr>\n",
       "<tr>\n",
       "  <th>Df Model:</th>              <td>     5</td>      <th>                     </th>     <td> </td>   \n",
       "</tr>\n",
       "<tr>\n",
       "  <th>Covariance Type:</th>      <td>nonrobust</td>    <th>                     </th>     <td> </td>   \n",
       "</tr>\n",
       "</table>\n",
       "<table class=\"simpletable\">\n",
       "<tr>\n",
       "             <td></td>                <th>coef</th>     <th>std err</th>      <th>t</th>      <th>P>|t|</th>  <th>[0.025</th>    <th>0.975]</th>  \n",
       "</tr>\n",
       "<tr>\n",
       "  <th>Intercept</th>               <td>    2.0983</td> <td>    0.476</td> <td>    4.408</td> <td> 0.000</td> <td>    1.157</td> <td>    3.039</td>\n",
       "</tr>\n",
       "<tr>\n",
       "  <th>sepal_width:petal_width</th> <td>   -0.1255</td> <td>    0.100</td> <td>   -1.250</td> <td> 0.213</td> <td>   -0.324</td> <td>    0.073</td>\n",
       "</tr>\n",
       "<tr>\n",
       "  <th>np.square(petal_length)</th> <td>    0.0333</td> <td>    0.013</td> <td>    2.571</td> <td> 0.011</td> <td>    0.008</td> <td>    0.059</td>\n",
       "</tr>\n",
       "<tr>\n",
       "  <th>sepal_width</th>             <td>    0.6790</td> <td>    0.123</td> <td>    5.541</td> <td> 0.000</td> <td>    0.437</td> <td>    0.921</td>\n",
       "</tr>\n",
       "<tr>\n",
       "  <th>petal_width</th>             <td>   -0.1154</td> <td>    0.344</td> <td>   -0.335</td> <td> 0.738</td> <td>   -0.796</td> <td>    0.565</td>\n",
       "</tr>\n",
       "<tr>\n",
       "  <th>petal_length</th>            <td>    0.4470</td> <td>    0.117</td> <td>    3.821</td> <td> 0.000</td> <td>    0.216</td> <td>    0.678</td>\n",
       "</tr>\n",
       "</table>\n",
       "<table class=\"simpletable\">\n",
       "<tr>\n",
       "  <th>Omnibus:</th>       <td> 0.119</td> <th>  Durbin-Watson:     </th> <td>   1.996</td>\n",
       "</tr>\n",
       "<tr>\n",
       "  <th>Prob(Omnibus):</th> <td> 0.942</td> <th>  Jarque-Bera (JB):  </th> <td>   0.276</td>\n",
       "</tr>\n",
       "<tr>\n",
       "  <th>Skew:</th>          <td> 0.021</td> <th>  Prob(JB):          </th> <td>   0.871</td>\n",
       "</tr>\n",
       "<tr>\n",
       "  <th>Kurtosis:</th>      <td> 2.794</td> <th>  Cond. No.          </th> <td>    483.</td>\n",
       "</tr>\n",
       "</table><br/><br/>Warnings:<br/>[1] Standard Errors assume that the covariance matrix of the errors is correctly specified."
      ],
      "text/plain": [
       "<class 'statsmodels.iolib.summary.Summary'>\n",
       "\"\"\"\n",
       "                            OLS Regression Results                            \n",
       "==============================================================================\n",
       "Dep. Variable:           sepal_length   R-squared:                       0.866\n",
       "Model:                            OLS   Adj. R-squared:                  0.862\n",
       "Method:                 Least Squares   F-statistic:                     186.9\n",
       "Date:                Thu, 31 Oct 2019   Prob (F-statistic):           4.20e-61\n",
       "Time:                        10:16:02   Log-Likelihood:                -33.031\n",
       "No. Observations:                 150   AIC:                             78.06\n",
       "Df Residuals:                     144   BIC:                             96.13\n",
       "Df Model:                           5                                         \n",
       "Covariance Type:            nonrobust                                         \n",
       "===========================================================================================\n",
       "                              coef    std err          t      P>|t|      [0.025      0.975]\n",
       "-------------------------------------------------------------------------------------------\n",
       "Intercept                   2.0983      0.476      4.408      0.000       1.157       3.039\n",
       "sepal_width:petal_width    -0.1255      0.100     -1.250      0.213      -0.324       0.073\n",
       "np.square(petal_length)     0.0333      0.013      2.571      0.011       0.008       0.059\n",
       "sepal_width                 0.6790      0.123      5.541      0.000       0.437       0.921\n",
       "petal_width                -0.1154      0.344     -0.335      0.738      -0.796       0.565\n",
       "petal_length                0.4470      0.117      3.821      0.000       0.216       0.678\n",
       "==============================================================================\n",
       "Omnibus:                        0.119   Durbin-Watson:                   1.996\n",
       "Prob(Omnibus):                  0.942   Jarque-Bera (JB):                0.276\n",
       "Skew:                           0.021   Prob(JB):                        0.871\n",
       "Kurtosis:                       2.794   Cond. No.                         483.\n",
       "==============================================================================\n",
       "\n",
       "Warnings:\n",
       "[1] Standard Errors assume that the covariance matrix of the errors is correctly specified.\n",
       "\"\"\""
      ]
     },
     "execution_count": 45,
     "metadata": {},
     "output_type": "execute_result"
    }
   ],
   "source": [
    "# formula syntax: dependent variable ~ predictor1 + predictor2 +.....\n",
    "# note that intercept is fit automatically\n",
    "\n",
    "# add interaction and squared term\n",
    "model = ols(\"sepal_length ~ sepal_width:petal_width + np.square(petal_length) + sepal_width + petal_width + petal_length\", data=df)\n",
    "\n",
    "results = model.fit()\n",
    "results.summary()"
   ]
  },
  {
   "cell_type": "markdown",
   "metadata": {},
   "source": [
    "### Task 1: Fitting an artificial data set\n",
    "\n",
    "We want to implement OLS regression and test it on artificial data. Thus, in this task you may not yet use the statsmodels functions (except for checking results)."
   ]
  },
  {
   "cell_type": "markdown",
   "metadata": {},
   "source": [
    "#### a) Creating artificial data\n",
    "Create an artificial dataset which consists of:\n",
    "* a vector $x$ consisting of 100 (float) values between 0 and 1\n",
    "* a vector $y = 10x +\\varepsilon$, in which for each element, the error $\\varepsilon_i$ is drawn from the standard normal distribution.\n",
    "Create a scatterplot of x against y!"
   ]
  },
  {
   "cell_type": "code",
   "execution_count": 36,
   "metadata": {},
   "outputs": [
    {
     "name": "stdout",
     "output_type": "stream",
     "text": [
      "[-0.2806968   0.85644284 -0.13996351 -0.16077434  1.46420113 -0.34373081\n",
      "  1.13562799 -1.25988352  2.32788702  2.35059923  0.60832687  3.01003147\n",
      "  1.17759161  3.22356122  2.32061993  1.39800174  0.39503254  0.90989027\n",
      "  0.15871341  2.21389405  1.64872314  0.7842687   2.56454891  1.2406135\n",
      "  2.99243051  2.51432471  2.12474373  4.02347229  2.65998085  3.05386063\n",
      "  2.52474427  3.56055795  3.52990333  4.14495612  3.43446118  3.75436067\n",
      "  1.90491829  3.26297992  4.43546378  3.20584776  2.76938243  4.65842151\n",
      "  5.19013624  3.25215454  4.06691074  5.94717155  4.32589161  4.93097271\n",
      "  4.92150931  4.70656622  7.14337256  3.14534216  7.79236961  6.25673465\n",
      "  5.80839115  5.95002585  3.26279881  5.25932554  5.90115771  4.5117352\n",
      "  6.15983326  6.26817187  6.21736732  4.00299534  4.49300868  5.36209739\n",
      "  8.04859094  5.73481044  5.35904809  6.97038958  4.32812878  7.76778182\n",
      "  6.20246843  9.02432529  7.72679846  7.87506642  6.95077226  7.13725046\n",
      "  5.12149618  6.89924872  7.09772486  8.21130346  9.18687472  9.76825021\n",
      "  6.76785045  8.77616328  7.09191273  7.26622826  7.58105945  9.22500117\n",
      "  8.63880864  8.90345099 10.462797    8.4054678  10.05601429  7.3679209\n",
      "  7.61051156  9.46037448  9.42382339 10.01057102]\n"
     ]
    },
    {
     "data": {
      "image/png": "[encoded data removed]",
      "text/plain": [
       "<Figure size 576x360 with 1 Axes>"
      ]
     },
     "metadata": {
      "needs_background": "light"
     },
     "output_type": "display_data"
    }
   ],
   "source": [
    "# X = np.random.rand(1,100)\n",
    "X = np.arange(0,1,0.01)\n",
    "epsilon = np.random.normal(0, 1, 100)\n",
    "Y = 10*X + epsilon\n",
    "print(Y)\n",
    "plt.figure(figsize=(8, 5))\n",
    "plt.scatter(X,Y)\n",
    "plt.show()"
   ]
  },
  {
   "cell_type": "markdown",
   "metadata": {},
   "source": [
    "#### b) Implementing OLS regression\n",
    "Write a function that takes as input a numpy vector of target values $y$, and a matrix of predictors $X$, and returns the parameter vector $\\beta$ resulting from OLS regression. Apply this function to fit a model on your artificial data, compute the predictions, and add the resulting regression line to the plot from a). Remember to add a constant term!"
   ]
  },
  {
   "cell_type": "code",
   "execution_count": 37,
   "metadata": {},
   "outputs": [
    {
     "data": {
      "text/html": [
       "<table class=\"simpletable\">\n",
       "<caption>OLS Regression Results</caption>\n",
       "<tr>\n",
       "  <th>Dep. Variable:</th>            <td>y</td>        <th>  R-squared (uncentered):</th>      <td>   0.962</td>\n",
       "</tr>\n",
       "<tr>\n",
       "  <th>Model:</th>                   <td>OLS</td>       <th>  Adj. R-squared (uncentered):</th> <td>   0.961</td>\n",
       "</tr>\n",
       "<tr>\n",
       "  <th>Method:</th>             <td>Least Squares</td>  <th>  F-statistic:       </th>          <td>   2483.</td>\n",
       "</tr>\n",
       "<tr>\n",
       "  <th>Date:</th>             <td>Thu, 31 Oct 2019</td> <th>  Prob (F-statistic):</th>          <td>6.35e-72</td>\n",
       "</tr>\n",
       "<tr>\n",
       "  <th>Time:</th>                 <td>16:07:39</td>     <th>  Log-Likelihood:    </th>          <td> -150.65</td>\n",
       "</tr>\n",
       "<tr>\n",
       "  <th>No. Observations:</th>      <td>   100</td>      <th>  AIC:               </th>          <td>   303.3</td>\n",
       "</tr>\n",
       "<tr>\n",
       "  <th>Df Residuals:</th>          <td>    99</td>      <th>  BIC:               </th>          <td>   305.9</td>\n",
       "</tr>\n",
       "<tr>\n",
       "  <th>Df Model:</th>              <td>     1</td>      <th>                     </th>              <td> </td>   \n",
       "</tr>\n",
       "<tr>\n",
       "  <th>Covariance Type:</th>      <td>nonrobust</td>    <th>                     </th>              <td> </td>   \n",
       "</tr>\n",
       "</table>\n",
       "<table class=\"simpletable\">\n",
       "<tr>\n",
       "   <td></td>     <th>coef</th>     <th>std err</th>      <th>t</th>      <th>P>|t|</th>  <th>[0.025</th>    <th>0.975]</th>  \n",
       "</tr>\n",
       "<tr>\n",
       "  <th>x1</th> <td>    9.5396</td> <td>    0.191</td> <td>   49.830</td> <td> 0.000</td> <td>    9.160</td> <td>    9.919</td>\n",
       "</tr>\n",
       "</table>\n",
       "<table class=\"simpletable\">\n",
       "<tr>\n",
       "  <th>Omnibus:</th>       <td> 0.271</td> <th>  Durbin-Watson:     </th> <td>   2.160</td>\n",
       "</tr>\n",
       "<tr>\n",
       "  <th>Prob(Omnibus):</th> <td> 0.873</td> <th>  Jarque-Bera (JB):  </th> <td>   0.449</td>\n",
       "</tr>\n",
       "<tr>\n",
       "  <th>Skew:</th>          <td>-0.019</td> <th>  Prob(JB):          </th> <td>   0.799</td>\n",
       "</tr>\n",
       "<tr>\n",
       "  <th>Kurtosis:</th>      <td> 2.674</td> <th>  Cond. No.          </th> <td>    1.00</td>\n",
       "</tr>\n",
       "</table><br/><br/>Warnings:<br/>[1] Standard Errors assume that the covariance matrix of the errors is correctly specified."
      ],
      "text/plain": [
       "<class 'statsmodels.iolib.summary.Summary'>\n",
       "\"\"\"\n",
       "                                 OLS Regression Results                                \n",
       "=======================================================================================\n",
       "Dep. Variable:                      y   R-squared (uncentered):                   0.962\n",
       "Model:                            OLS   Adj. R-squared (uncentered):              0.961\n",
       "Method:                 Least Squares   F-statistic:                              2483.\n",
       "Date:                Thu, 31 Oct 2019   Prob (F-statistic):                    6.35e-72\n",
       "Time:                        16:07:39   Log-Likelihood:                         -150.65\n",
       "No. Observations:                 100   AIC:                                      303.3\n",
       "Df Residuals:                      99   BIC:                                      305.9\n",
       "Df Model:                           1                                                  \n",
       "Covariance Type:            nonrobust                                                  \n",
       "==============================================================================\n",
       "                 coef    std err          t      P>|t|      [0.025      0.975]\n",
       "------------------------------------------------------------------------------\n",
       "x1             9.5396      0.191     49.830      0.000       9.160       9.919\n",
       "==============================================================================\n",
       "Omnibus:                        0.271   Durbin-Watson:                   2.160\n",
       "Prob(Omnibus):                  0.873   Jarque-Bera (JB):                0.449\n",
       "Skew:                          -0.019   Prob(JB):                        0.799\n",
       "Kurtosis:                       2.674   Cond. No.                         1.00\n",
       "==============================================================================\n",
       "\n",
       "Warnings:\n",
       "[1] Standard Errors assume that the covariance matrix of the errors is correctly specified.\n",
       "\"\"\""
      ]
     },
     "execution_count": 37,
     "metadata": {},
     "output_type": "execute_result"
    }
   ],
   "source": [
    "# initialize model: OLS = ordinary least squares\n",
    "model = sm.OLS(Y,X)\n",
    "# fit model: only now te model, i.e. the parameters are computed\n",
    "results = model.fit()\n",
    "h\n",
    "# print a summary, i.e. an overview on parameters and diagnostics\n",
    "results.summary()"
   ]
  },
  {
   "cell_type": "markdown",
   "metadata": {},
   "source": [
    "#### c) Diagnostics 1: The Bootstrap\n",
    "\n",
    "Based on your regression function, write a function that again takes as input a predictor matrix $X$ and a target column $y$, plus a integer $N$, and bootstraps the data $N$ times to compute the 95% confidence interval for each parameter. Specifically, return one parameter vector for the bottom beta values, and one parameter vector for the top values. \n",
    "Apply this function to estimate the confidence intervals on our artificial data."
   ]
  },
  {
   "cell_type": "code",
   "execution_count": null,
   "metadata": {},
   "outputs": [],
   "source": []
  },
  {
   "cell_type": "markdown",
   "metadata": {},
   "source": [
    "#### d) Diagnostics 2: The $R^2$ score.\n",
    "\n",
    "Write a function that takes as input a ground truth vector y, its prediction y_hat, and computes the $R^2$ value of that prediction! Does your model explain most of the variance in the artificial data?"
   ]
  },
  {
   "cell_type": "code",
   "execution_count": null,
   "metadata": {},
   "outputs": [],
   "source": []
  },
  {
   "cell_type": "markdown",
   "metadata": {},
   "source": [
    "### Task 2: Predicting Student Performance\n",
    "\n",
    "We revisit the student performance dataset from last week's exercise and aim to estimate the exam performance in math. In this task you may use statsmodels!"
   ]
  },
  {
   "cell_type": "markdown",
   "metadata": {},
   "source": [
    "#### a) Data Preprocessing\n",
    "\n",
    "Load the student performance data into a dataframe. Since we want to estimate students performance in math, separate this column from the dataframe. On the remaining columns, transform, i.e. dummy-code all categorical columns as explained in lecture. Further, check for collinearities. If a pair of highly correlated columns (i.e. pearson correlation > 0.9) is given, remove one of these columns from the predictors. Remember to add a constant term afterwards."
   ]
  },
  {
   "cell_type": "code",
   "execution_count": null,
   "metadata": {},
   "outputs": [],
   "source": []
  },
  {
   "cell_type": "markdown",
   "metadata": {},
   "source": [
    "#### b) Learning a simple regression model\n",
    "\n",
    "Apply statsmodels to estimate the exam performance in math from all other columns, without any column interactions. Remember to use a constant term, and properly transform categorical variables. Which significant effects do you observe?"
   ]
  },
  {
   "cell_type": "code",
   "execution_count": null,
   "metadata": {},
   "outputs": [],
   "source": []
  },
  {
   "cell_type": "markdown",
   "metadata": {},
   "source": [
    "#### c) Adding interactions\n",
    "Apply statsmodels to fit a regression model that in addition to the previous model further considers an interaction term between the test preparation curse and each of the continuous columns that are left from the preprocessing. Thus, first add these columns to your predictor matrix, and then compute the corresponding model.\n",
    "Does this interaction yield an improvement or rather cause problems?"
   ]
  },
  {
   "cell_type": "code",
   "execution_count": null,
   "metadata": {},
   "outputs": [],
   "source": []
  },
  {
   "cell_type": "markdown",
   "metadata": {},
   "source": [
    "#### d) Optimizing adjusted R^2\n",
    "\n",
    "Implement a forward selection routine that takes as input a matrix $X$ of predictors, the index of the constant column in $X$, and a target vector $y$, and returns a submatrix of predictors that produces the optimal adjusted R^2 value, plus a vector of the corresponding column indices, the corresponding parameter vector beta, and the optimal adjusted R² value.\n",
    "Apply this function on the predictor matrix from part c). Which predictors are left?"
   ]
  },
  {
   "cell_type": "code",
   "execution_count": null,
   "metadata": {},
   "outputs": [],
   "source": []
  },
  {
   "cell_type": "markdown",
   "metadata": {},
   "source": [
    "#### e) Checking residuals\n",
    "Create a residual plot of your final model and give an interpretation of what you observe!"
   ]
  },
  {
   "cell_type": "code",
   "execution_count": null,
   "metadata": {},
   "outputs": [],
   "source": []
  }
 ],
 "metadata": {
  "kernelspec": {
   "display_name": "Python 3",
   "language": "python",
   "name": "python3"
  },
  "language_info": {
   "codemirror_mode": {
    "name": "ipython",
    "version": 3
   },
   "file_extension": ".py",
   "mimetype": "text/x-python",
   "name": "python",
   "nbconvert_exporter": "python",
   "pygments_lexer": "ipython3",
   "version": "3.7.0"
  }
 },
 "nbformat": 4,
 "nbformat_minor": 2
}
