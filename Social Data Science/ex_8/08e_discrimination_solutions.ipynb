{
 "cells": [
  {
   "cell_type": "markdown",
   "metadata": {},
   "source": [
    "## Exercise 8: Discrimination"
   ]
  },
  {
   "cell_type": "markdown",
   "metadata": {},
   "source": [
    "### Task 1: Assessing Algorithmic Unfairness"
   ]
  },
  {
   "cell_type": "markdown",
   "metadata": {},
   "source": [
    "In this task we are using the German credit dataset that was introduced in lecture. Note that this is already an adaptation from the original data that can be found at the UCI ML library. A documentation regarding the categorical values can also be found here: https://archive.ics.uci.edu/ml/datasets/Statlog+(German+Credit+Data)  \n",
    "Note that we adapt the target \"credit\" attribute such that a '1' indicates a good credit risk, and a '0' indicates a bad credit risk.  \n",
    "Recall that an age-based discrimination was found to exist in the dataset."
   ]
  },
  {
   "cell_type": "code",
   "execution_count": 1,
   "metadata": {},
   "outputs": [
    {
     "data": {
      "text/html": [
       "<div>\n",
       "<style scoped>\n",
       "    .dataframe tbody tr th:only-of-type {\n",
       "        vertical-align: middle;\n",
       "    }\n",
       "\n",
       "    .dataframe tbody tr th {\n",
       "        vertical-align: top;\n",
       "    }\n",
       "\n",
       "    .dataframe thead th {\n",
       "        text-align: right;\n",
       "    }\n",
       "</style>\n",
       "<table border=\"1\" class=\"dataframe\">\n",
       "  <thead>\n",
       "    <tr style=\"text-align: right;\">\n",
       "      <th></th>\n",
       "      <th>status</th>\n",
       "      <th>month</th>\n",
       "      <th>credit_history</th>\n",
       "      <th>purpose</th>\n",
       "      <th>credit_amount</th>\n",
       "      <th>savings</th>\n",
       "      <th>employment</th>\n",
       "      <th>investment_as_income_percentage</th>\n",
       "      <th>sex</th>\n",
       "      <th>other_debtors</th>\n",
       "      <th>...</th>\n",
       "      <th>property</th>\n",
       "      <th>age</th>\n",
       "      <th>installment_plans</th>\n",
       "      <th>housing</th>\n",
       "      <th>number_of_credits</th>\n",
       "      <th>skill_level</th>\n",
       "      <th>people_liable_for</th>\n",
       "      <th>telephone</th>\n",
       "      <th>foreign_worker</th>\n",
       "      <th>credit</th>\n",
       "    </tr>\n",
       "  </thead>\n",
       "  <tbody>\n",
       "    <tr>\n",
       "      <th>0</th>\n",
       "      <td>A11</td>\n",
       "      <td>6</td>\n",
       "      <td>A34</td>\n",
       "      <td>A43</td>\n",
       "      <td>1169</td>\n",
       "      <td>A65</td>\n",
       "      <td>A75</td>\n",
       "      <td>4</td>\n",
       "      <td>male</td>\n",
       "      <td>A101</td>\n",
       "      <td>...</td>\n",
       "      <td>A121</td>\n",
       "      <td>67</td>\n",
       "      <td>A143</td>\n",
       "      <td>A152</td>\n",
       "      <td>2</td>\n",
       "      <td>A173</td>\n",
       "      <td>1</td>\n",
       "      <td>A192</td>\n",
       "      <td>A201</td>\n",
       "      <td>1</td>\n",
       "    </tr>\n",
       "    <tr>\n",
       "      <th>1</th>\n",
       "      <td>A12</td>\n",
       "      <td>48</td>\n",
       "      <td>A32</td>\n",
       "      <td>A43</td>\n",
       "      <td>5951</td>\n",
       "      <td>A61</td>\n",
       "      <td>A73</td>\n",
       "      <td>2</td>\n",
       "      <td>female</td>\n",
       "      <td>A101</td>\n",
       "      <td>...</td>\n",
       "      <td>A121</td>\n",
       "      <td>22</td>\n",
       "      <td>A143</td>\n",
       "      <td>A152</td>\n",
       "      <td>1</td>\n",
       "      <td>A173</td>\n",
       "      <td>1</td>\n",
       "      <td>A191</td>\n",
       "      <td>A201</td>\n",
       "      <td>0</td>\n",
       "    </tr>\n",
       "    <tr>\n",
       "      <th>2</th>\n",
       "      <td>A14</td>\n",
       "      <td>12</td>\n",
       "      <td>A34</td>\n",
       "      <td>A46</td>\n",
       "      <td>2096</td>\n",
       "      <td>A61</td>\n",
       "      <td>A74</td>\n",
       "      <td>2</td>\n",
       "      <td>male</td>\n",
       "      <td>A101</td>\n",
       "      <td>...</td>\n",
       "      <td>A121</td>\n",
       "      <td>49</td>\n",
       "      <td>A143</td>\n",
       "      <td>A152</td>\n",
       "      <td>1</td>\n",
       "      <td>A172</td>\n",
       "      <td>2</td>\n",
       "      <td>A191</td>\n",
       "      <td>A201</td>\n",
       "      <td>1</td>\n",
       "    </tr>\n",
       "    <tr>\n",
       "      <th>3</th>\n",
       "      <td>A11</td>\n",
       "      <td>42</td>\n",
       "      <td>A32</td>\n",
       "      <td>A42</td>\n",
       "      <td>7882</td>\n",
       "      <td>A61</td>\n",
       "      <td>A74</td>\n",
       "      <td>2</td>\n",
       "      <td>male</td>\n",
       "      <td>A103</td>\n",
       "      <td>...</td>\n",
       "      <td>A122</td>\n",
       "      <td>45</td>\n",
       "      <td>A143</td>\n",
       "      <td>A153</td>\n",
       "      <td>1</td>\n",
       "      <td>A173</td>\n",
       "      <td>2</td>\n",
       "      <td>A191</td>\n",
       "      <td>A201</td>\n",
       "      <td>1</td>\n",
       "    </tr>\n",
       "    <tr>\n",
       "      <th>4</th>\n",
       "      <td>A11</td>\n",
       "      <td>24</td>\n",
       "      <td>A33</td>\n",
       "      <td>A40</td>\n",
       "      <td>4870</td>\n",
       "      <td>A61</td>\n",
       "      <td>A73</td>\n",
       "      <td>3</td>\n",
       "      <td>male</td>\n",
       "      <td>A101</td>\n",
       "      <td>...</td>\n",
       "      <td>A124</td>\n",
       "      <td>53</td>\n",
       "      <td>A143</td>\n",
       "      <td>A153</td>\n",
       "      <td>2</td>\n",
       "      <td>A173</td>\n",
       "      <td>2</td>\n",
       "      <td>A191</td>\n",
       "      <td>A201</td>\n",
       "      <td>0</td>\n",
       "    </tr>\n",
       "  </tbody>\n",
       "</table>\n",
       "<p>5 rows × 21 columns</p>\n",
       "</div>"
      ],
      "text/plain": [
       "  status  month credit_history purpose  credit_amount savings employment  \\\n",
       "0    A11      6            A34     A43           1169     A65        A75   \n",
       "1    A12     48            A32     A43           5951     A61        A73   \n",
       "2    A14     12            A34     A46           2096     A61        A74   \n",
       "3    A11     42            A32     A42           7882     A61        A74   \n",
       "4    A11     24            A33     A40           4870     A61        A73   \n",
       "\n",
       "   investment_as_income_percentage     sex other_debtors  ...  property age  \\\n",
       "0                                4    male          A101  ...      A121  67   \n",
       "1                                2  female          A101  ...      A121  22   \n",
       "2                                2    male          A101  ...      A121  49   \n",
       "3                                2    male          A103  ...      A122  45   \n",
       "4                                3    male          A101  ...      A124  53   \n",
       "\n",
       "   installment_plans housing number_of_credits  skill_level people_liable_for  \\\n",
       "0               A143    A152                 2         A173                 1   \n",
       "1               A143    A152                 1         A173                 1   \n",
       "2               A143    A152                 1         A172                 2   \n",
       "3               A143    A153                 1         A173                 2   \n",
       "4               A143    A153                 2         A173                 2   \n",
       "\n",
       "   telephone foreign_worker credit  \n",
       "0       A192           A201      1  \n",
       "1       A191           A201      0  \n",
       "2       A191           A201      1  \n",
       "3       A191           A201      1  \n",
       "4       A191           A201      0  \n",
       "\n",
       "[5 rows x 21 columns]"
      ]
     },
     "execution_count": 1,
     "metadata": {},
     "output_type": "execute_result"
    }
   ],
   "source": [
    "import numpy as np\n",
    "import pandas as pd\n",
    "df = pd.read_csv (\"german_credit.csv\")\n",
    "df.credit = df.credit.replace(2,0)\n",
    "df.head()"
   ]
  },
  {
   "cell_type": "markdown",
   "metadata": {},
   "source": [
    "#### a) Analysing Age Disparity\n",
    "We want to split all individuals in the data in two age groups, namely people that are older than 25 years, and people that are not. How many people are in each group, and what is the ratio of good credit scores among each group?"
   ]
  },
  {
   "cell_type": "code",
   "execution_count": 4,
   "metadata": {},
   "outputs": [
    {
     "name": "stdout",
     "output_type": "stream",
     "text": [
      "810\n",
      "190\n",
      "0.7283950617283951\n",
      "0.5789473684210527\n"
     ]
    }
   ],
   "source": [
    "n_old = sum(df.age>25)\n",
    "n_young = sum(df.age<=25)\n",
    "\n",
    "print(n_old)\n",
    "print(n_young)\n",
    "\n",
    "n_old_good = sum((df.age>25) & (df.credit == 1))\n",
    "n_young_good = sum((df.age<=25) & (df.credit == 1))\n",
    "\n",
    "\n",
    "old_ratio = n_old_good/n_old\n",
    "young_ratio = n_young_good/n_young\n",
    "print(old_ratio)\n",
    "print(young_ratio)"
   ]
  },
  {
   "cell_type": "markdown",
   "metadata": {},
   "source": [
    "#### b) Predicting Credit Score\n",
    "Train a logistic regression classifier to predict the class attribute using all other attributes as predictor. Remember to dummy-code and scale your data first. Train the classifier on the whole training data and keep its prediction on the training data."
   ]
  },
  {
   "cell_type": "code",
   "execution_count": 5,
   "metadata": {},
   "outputs": [],
   "source": [
    "from sklearn import preprocessing\n",
    "from sklearn.linear_model import LogisticRegression"
   ]
  },
  {
   "cell_type": "code",
   "execution_count": 6,
   "metadata": {
    "scrolled": true
   },
   "outputs": [
    {
     "data": {
      "text/plain": [
       "array([[-1.23647786, -0.74513141,  0.91847717, ...,  1.21459768,\n",
       "         0.19601428, -0.19601428],\n",
       "       [ 2.24819436,  0.94981679, -0.87018333, ..., -0.82331789,\n",
       "         0.19601428, -0.19601428],\n",
       "       [-0.73866754, -0.41656241, -0.87018333, ..., -0.82331789,\n",
       "         0.19601428, -0.19601428],\n",
       "       ...,\n",
       "       [-0.73866754, -0.87450324,  0.91847717, ..., -0.82331789,\n",
       "         0.19601428, -0.19601428],\n",
       "       [ 1.9992892 , -0.50552769,  0.91847717, ...,  1.21459768,\n",
       "         0.19601428, -0.19601428],\n",
       "       [ 1.9992892 ,  0.46245715,  0.02414692, ..., -0.82331789,\n",
       "         0.19601428, -0.19601428]])"
      ]
     },
     "execution_count": 6,
     "metadata": {},
     "output_type": "execute_result"
    }
   ],
   "source": [
    "#the vector for the class attribute\n",
    "y = df ['credit'].values\n",
    "#y = preprocessing.LabelEncoder().fit_transform(y)\n",
    "\n",
    "#The vector for the features\n",
    "df_features = df.drop(\"credit\", axis=1)\n",
    "df_features = pd.get_dummies(df_features)\n",
    "X = preprocessing.scale(df_features)\n",
    "X"
   ]
  },
  {
   "cell_type": "code",
   "execution_count": 7,
   "metadata": {},
   "outputs": [
    {
     "name": "stderr",
     "output_type": "stream",
     "text": [
      "C:\\Users\\Admin\\Anaconda3\\lib\\site-packages\\sklearn\\linear_model\\logistic.py:432: FutureWarning: Default solver will be changed to 'lbfgs' in 0.22. Specify a solver to silence this warning.\n",
      "  FutureWarning)\n"
     ]
    }
   ],
   "source": [
    "clf = LogisticRegression()\n",
    "clf.fit (X,y)\n",
    "y_pred = clf.predict(X)"
   ]
  },
  {
   "cell_type": "markdown",
   "metadata": {},
   "source": [
    "#### c) Measuring Algorithmic Fairness \n",
    "\n",
    "For each of the following measures, write a functions that computes the following measures. \n",
    "* Disparate Impact\n",
    "* Calders and Verwers' measure\n",
    "* s-Accuracy\n",
    "* s-TPR and s-TNR\n",
    "* s-BCR\n",
    "\n",
    "You may assume that both the class attribute as well as the sensitive attribute is binary, with '1' indicating the 'good class' and the privileged group, respectively.\n",
    "Apply these measures on your predictions from b).\n",
    "What do you observe?"
   ]
  },
  {
   "cell_type": "code",
   "execution_count": 8,
   "metadata": {},
   "outputs": [],
   "source": [
    "# INPUT PARAMETERS:\n",
    "# y_pred: numpy array of binary predicted classes\n",
    "# y: numpy array of true classes\n",
    "# s_arr: numpy array of the sensitive attribute\n",
    "# s: attribute value to compute s-accuracy/tpr/tnr for\n",
    "\n",
    "\n",
    "def disparate_impact(y_pred, s_arr):\n",
    "    pos_mask = s_arr==1\n",
    "    neg_mask = s_arr==0\n",
    "    \n",
    "    return np.sum(y_pred[neg_mask])/np.sum(neg_mask)/np.sum(y_pred[pos_mask])*np.sum(pos_mask)\n",
    "\n",
    "\n",
    "def cv_measure(y_pred, s_arr):\n",
    "    pos_mask = s_arr==1\n",
    "    neg_mask = s_arr==0\n",
    "    \n",
    "    return 1 - np.sum(y_pred[pos_mask])/np.sum(pos_mask) + np.sum(y_pred[neg_mask])/np.sum(neg_mask)\n",
    "    \n",
    "\n",
    "def s_acc(y,y_pred, s_arr, s):\n",
    "    mask = s_arr==s\n",
    "    return np.sum((y==y_pred)[mask])/np.sum(mask)\n",
    "\n",
    "# return the tuple (s-TPR,s_TNR)\n",
    "def s_true_rates(y,y_pred, s_arr, s):\n",
    "    mask_1 = (s_arr==s) & (y == 1)\n",
    "    mask_0 = (s_arr==s) & (y == 0)\n",
    "    return np.sum(((y_pred==1))[mask_1])/np.sum(mask_1),np.sum(((y_pred==0))[mask_0])/np.sum(mask_0)\n",
    "\n",
    "def s_bcr(y,y_pred, s_arr, s):\n",
    "    rates = s_true_rates(y,y_pred, s_arr, s)\n",
    "    return .5*(rates[0]+rates[1])\n"
   ]
  },
  {
   "cell_type": "code",
   "execution_count": 9,
   "metadata": {},
   "outputs": [
    {
     "name": "stdout",
     "output_type": "stream",
     "text": [
      "0.8139362490733877\n",
      "0.8532163742690059\n",
      "0.808641975308642\n",
      "0.6947368421052632\n",
      "(0.9101694915254237, 0.5363636363636364)\n",
      "(0.7909090909090909, 0.5625)\n",
      "0.72326656394453\n",
      "0.6767045454545455\n"
     ]
    }
   ],
   "source": [
    "s_arr = (df.age>25).to_numpy().astype(int)\n",
    "\n",
    "print(disparate_impact(y_pred,s_arr))\n",
    "print(cv_measure(y_pred,s_arr))\n",
    "print(s_acc(y,y_pred,s_arr,1))\n",
    "print(s_acc(y,y_pred,s_arr,0))\n",
    "print(s_true_rates(y,y_pred,s_arr,1))\n",
    "print(s_true_rates(y,y_pred,s_arr,0))\n",
    "print(s_bcr(y,y_pred,s_arr,1))\n",
    "print(s_bcr(y,y_pred,s_arr,0))"
   ]
  },
  {
   "cell_type": "markdown",
   "metadata": {},
   "source": [
    "#### d) Omitting the Sensitive Attribute \n",
    "\n",
    "Train another classifier without the age attribute for your classifier, and recompute the values of all fairness measures from c). Do the values change significantly?"
   ]
  },
  {
   "cell_type": "code",
   "execution_count": 10,
   "metadata": {
    "scrolled": true
   },
   "outputs": [
    {
     "name": "stderr",
     "output_type": "stream",
     "text": [
      "C:\\Users\\Admin\\Anaconda3\\lib\\site-packages\\sklearn\\linear_model\\logistic.py:432: FutureWarning: Default solver will be changed to 'lbfgs' in 0.22. Specify a solver to silence this warning.\n",
      "  FutureWarning)\n"
     ]
    }
   ],
   "source": [
    "from sklearn.ensemble import RandomForestClassifier\n",
    "clf = LogisticRegression()\n",
    "X1 = preprocessing.scale(df_features.drop(\"age\",axis=1))\n",
    "clf.fit (X1,y)\n",
    "y_pred1 = clf.predict(X1)"
   ]
  },
  {
   "cell_type": "code",
   "execution_count": 11,
   "metadata": {},
   "outputs": [
    {
     "name": "stdout",
     "output_type": "stream",
     "text": [
      "0.8378848063555115\n",
      "0.8727095516569201\n",
      "0.8074074074074075\n",
      "0.7\n",
      "(0.9067796610169492, 0.5409090909090909)\n",
      "(0.8090909090909091, 0.55)\n",
      "0.72384437596302\n",
      "0.6795454545454546\n"
     ]
    }
   ],
   "source": [
    "print(disparate_impact(y_pred1,s_arr))\n",
    "print(cv_measure(y_pred1,s_arr))\n",
    "print(s_acc(y,y_pred1,s_arr,1))\n",
    "print(s_acc(y,y_pred1,s_arr,0))\n",
    "print(s_true_rates(y,y_pred1,s_arr,1))\n",
    "print(s_true_rates(y,y_pred1,s_arr,0))\n",
    "print(s_bcr(y,y_pred1,s_arr,1))\n",
    "print(s_bcr(y,y_pred1,s_arr,0))"
   ]
  },
  {
   "cell_type": "markdown",
   "metadata": {},
   "source": [
    "__Answer:__ The changes we observe are only marginal."
   ]
  },
  {
   "cell_type": "markdown",
   "metadata": {},
   "source": [
    "### Task 2: Fair Ranking\n",
    "\n",
    "Consider the two lists in the cell below, which represent the members of a majority group and a minority group.\n",
    "Every tuple per list represents a group member, where the first element identifies the group member, and the second elements represent the score based on which we would like to rank the members of each group against each other in a fair manner.  \n",
    "Note that these lists are already sorted/ranked by their score, which you can also implicitly assume to be the case in the upcoming subtasks."
   ]
  },
  {
   "cell_type": "code",
   "execution_count": 12,
   "metadata": {},
   "outputs": [],
   "source": [
    "scores_majority = [('majority_0', 0.96807446469624236),\n",
    " ('majority_1', 0.95419384037453137),\n",
    " ('majority_2', 0.93211641632869746),\n",
    " ('majority_3', 0.9182712009369044),\n",
    " ('majority_4', 0.90938858688860358),\n",
    " ('majority_5', 0.89292152918031786),\n",
    " ('majority_6', 0.84448834214088997),\n",
    " ('majority_7', 0.84443217447581942),\n",
    " ('majority_8', 0.79877688788630141),\n",
    " ('majority_9', 0.72247591245073473),\n",
    " ('majority_10', 0.69229468159176299),\n",
    " ('majority_11', 0.65357596960054976),\n",
    " ('majority_12', 0.58813714673468209),\n",
    " ('majority_13', 0.56708226044663301),\n",
    " ('majority_14', 0.56489951776292002),\n",
    " ('majority_15', 0.52643423000490386),\n",
    " ('majority_16', 0.48127524553556911),\n",
    " ('majority_17', 0.42980570045372379),\n",
    " ('majority_18', 0.39275842622357748),\n",
    " ('majority_19', 0.33121051753313779),\n",
    " ('majority_20', 0.32231417740354318),\n",
    " ('majority_21', 0.31066018022909625),\n",
    " ('majority_22', 0.30898366593860171),\n",
    " ('majority_23', 0.25933833855712163),\n",
    " ('majority_24', 0.2504469397048189),\n",
    " ('majority_25', 0.24394092885783314),\n",
    " ('majority_26', 0.21407896534542137),\n",
    " ('majority_27', 0.20145807259008808),\n",
    " ('majority_28', 0.16928016568204085),\n",
    " ('majority_29', 0.14953531474810089),\n",
    " ('majority_30', 0.14179052094927069),\n",
    " ('majority_31', 0.13812332959151996),\n",
    " ('majority_32', 0.12545008434640159),\n",
    " ('majority_33', 0.11349156356515289),\n",
    " ('majority_34', 0.1077974496597377),\n",
    " ('majority_35', 0.10044678297249221),\n",
    " ('majority_36', 0.091348281546486554),\n",
    " ('majority_37', 0.061912827392595737),\n",
    " ('majority_38', 0.052371984692786588),\n",
    " ('majority_39', 0.026194153696491584)]\n",
    "\n",
    "scores_minority = [('minority_0', 0.50446739782758911),\n",
    " ('minority_1', 0.34613151169850636),\n",
    " ('minority_2', 0.13144603620260447),\n",
    " ('minority_3', 0.12642371774573849),\n",
    " ('minority_4', 0.09909433134008121),\n",
    " ('minority_5', 0.0750708981671464),\n",
    " ('minority_6', 0.05135236597003786),\n",
    " ('minority_7', 0.04519179427505781),\n",
    " ('minority_8', 0.03729934154197691),\n",
    " ('minority_9', 0.035886146647779346)]"
   ]
  },
  {
   "cell_type": "markdown",
   "metadata": {},
   "source": [
    "#### a) Ranking by Score\n",
    "Write a function that compiles a list of tuples from a majority group and a minority group, which are ranked simply based on their score, without considering group membership. Apply your function on the lists given above."
   ]
  },
  {
   "cell_type": "code",
   "execution_count": 14,
   "metadata": {},
   "outputs": [],
   "source": [
    "# INPUT VALUES:\n",
    "# majority: list of tuples indicating members in majority (non-protected) group.\n",
    "# minority: list of tuples indicating members in minority (protected) group.\n",
    "\n",
    "def rank_by_score(majority, minority):\n",
    "    majority = majority.copy()\n",
    "    minority = minority.copy()\n",
    "    \n",
    "    # fastest solution: concat and sort lists\n",
    "    result = majority+minority\n",
    "    result.sort(key=lambda x: x[1], reverse=True)\n",
    "    return result"
   ]
  },
  {
   "cell_type": "code",
   "execution_count": 15,
   "metadata": {},
   "outputs": [
    {
     "data": {
      "text/plain": [
       "[('majority_0', 0.9680744646962424),\n",
       " ('majority_1', 0.9541938403745314),\n",
       " ('majority_2', 0.9321164163286975),\n",
       " ('majority_3', 0.9182712009369044),\n",
       " ('majority_4', 0.9093885868886036),\n",
       " ('majority_5', 0.8929215291803179),\n",
       " ('majority_6', 0.84448834214089),\n",
       " ('majority_7', 0.8444321744758194),\n",
       " ('majority_8', 0.7987768878863014),\n",
       " ('majority_9', 0.7224759124507347),\n",
       " ('majority_10', 0.692294681591763),\n",
       " ('majority_11', 0.6535759696005498),\n",
       " ('majority_12', 0.5881371467346821),\n",
       " ('majority_13', 0.567082260446633),\n",
       " ('majority_14', 0.56489951776292),\n",
       " ('majority_15', 0.5264342300049039),\n",
       " ('minority_0', 0.5044673978275891),\n",
       " ('majority_16', 0.4812752455355691),\n",
       " ('majority_17', 0.4298057004537238),\n",
       " ('majority_18', 0.3927584262235775),\n",
       " ('minority_1', 0.34613151169850637),\n",
       " ('majority_19', 0.3312105175331378),\n",
       " ('majority_20', 0.3223141774035432),\n",
       " ('majority_21', 0.31066018022909625),\n",
       " ('majority_22', 0.3089836659386017),\n",
       " ('majority_23', 0.25933833855712163),\n",
       " ('majority_24', 0.2504469397048189),\n",
       " ('majority_25', 0.24394092885783314),\n",
       " ('majority_26', 0.21407896534542137),\n",
       " ('majority_27', 0.20145807259008808),\n",
       " ('majority_28', 0.16928016568204085),\n",
       " ('majority_29', 0.1495353147481009),\n",
       " ('majority_30', 0.1417905209492707),\n",
       " ('majority_31', 0.13812332959151996),\n",
       " ('minority_2', 0.13144603620260448),\n",
       " ('minority_3', 0.1264237177457385),\n",
       " ('majority_32', 0.1254500843464016),\n",
       " ('majority_33', 0.11349156356515289),\n",
       " ('majority_34', 0.1077974496597377),\n",
       " ('majority_35', 0.10044678297249221),\n",
       " ('minority_4', 0.09909433134008121),\n",
       " ('majority_36', 0.09134828154648655),\n",
       " ('minority_5', 0.0750708981671464),\n",
       " ('majority_37', 0.06191282739259574),\n",
       " ('majority_38', 0.05237198469278659),\n",
       " ('minority_6', 0.05135236597003786),\n",
       " ('minority_7', 0.04519179427505781),\n",
       " ('minority_8', 0.03729934154197691),\n",
       " ('minority_9', 0.035886146647779345),\n",
       " ('majority_39', 0.026194153696491584)]"
      ]
     },
     "execution_count": 15,
     "metadata": {},
     "output_type": "execute_result"
    }
   ],
   "source": [
    "r1 = rank_by_score(scores_majority, scores_minority)\n",
    "r1"
   ]
  },
  {
   "cell_type": "markdown",
   "metadata": {},
   "source": [
    "#### b) The _rND_ score\n",
    "Write a function that computes the _rND_ score of a given ranking, using the signature in the cell below. Then apply this function to measure the fairness of your ranking resulting from a)!"
   ]
  },
  {
   "cell_type": "code",
   "execution_count": 16,
   "metadata": {},
   "outputs": [],
   "source": [
    "# tau: list of binary values which indicate whether an element is in the protected group or not\n",
    "# -> ranking is implicitly given by the order of elements in this vector\n",
    "# step: integer indicating the distance between all cut-off points\n",
    "def rND(tau, step = 10):\n",
    "    \n",
    "    def rnd_sum(tau,step):\n",
    "        i = step\n",
    "        res = 0\n",
    "        while i <= N:\n",
    "            res += 1/np.log2(i)*np.abs(np.sum(tau[:i])/i - r_S)\n",
    "            i += step\n",
    "        return res\n",
    "    \n",
    "    N = len(tau)\n",
    "    n_S = np.sum(tau)\n",
    "    r_S = n_S/N\n",
    "    \n",
    "    # compute Z\n",
    "    Z = rnd_sum(np.sort(tau),step)\n",
    "    \n",
    "    return (1/Z*rnd_sum(tau,step))"
   ]
  },
  {
   "cell_type": "code",
   "execution_count": 17,
   "metadata": {},
   "outputs": [
    {
     "data": {
      "text/plain": [
       "0.7622270966633158"
      ]
     },
     "execution_count": 17,
     "metadata": {},
     "output_type": "execute_result"
    }
   ],
   "source": [
    "tau1 = [0 if \"majo\" in t[0] else 1 for t in r1]\n",
    "rND(tau1)"
   ]
  },
  {
   "cell_type": "markdown",
   "metadata": {},
   "source": [
    "#### c) Randomized Ranking\n",
    "\n",
    "Write a function that computes a randomized ranking according to the ranking generator presented in lecture. Use the signature in the cell below, i.e. in the input we assume that the ranking has already been split into protected and non-protected group.  \n",
    "Apply this function on the given scores ad compute the rND score of the resulting ranking!"
   ]
  },
  {
   "cell_type": "code",
   "execution_count": 18,
   "metadata": {},
   "outputs": [],
   "source": [
    "def rank_fair_random(majority, minority, fairness_prob = None):\n",
    "    \n",
    "    majority = majority.copy()\n",
    "    minority = minority.copy()\n",
    "    result = []\n",
    "    \n",
    "    N = len(minority) + len(majority)\n",
    "    \n",
    "    if fairness_prob is None:\n",
    "        fairness_prob = len (minority) / N\n",
    "        \n",
    "    minority_in_result = 0\n",
    "    \n",
    "    next_elem_majority = majority.pop(0)\n",
    "    next_elem_minority = minority.pop(0)\n",
    "    while next_elem_minority is not None or next_elem_majority is not None:\n",
    "        \n",
    "        p = np.random.uniform()\n",
    "        if p < fairness_prob and not next_elem_minority is None:\n",
    "            result.append(next_elem_minority)\n",
    "            if len(minority) > 0:\n",
    "                next_elem_minority = minority.pop(0)\n",
    "            else:\n",
    "                next_elem_minority = None\n",
    "        elif not next_elem_majority is None:\n",
    "            result.append(next_elem_majority)\n",
    "            if len(majority) > 0:\n",
    "                next_elem_majority = majority.pop(0)\n",
    "            else:\n",
    "                next_elem_majority = None\n",
    "        else:\n",
    "            result.append(next_elem_minority)\n",
    "            if len(minority) > 0:\n",
    "                next_elem_minority = minority.pop(0)\n",
    "            else:\n",
    "                next_elem_minority = None\n",
    "                \n",
    "    return result"
   ]
  },
  {
   "cell_type": "code",
   "execution_count": 23,
   "metadata": {},
   "outputs": [
    {
     "data": {
      "text/plain": [
       "[('majority_0', 0.9680744646962424),\n",
       " ('majority_1', 0.9541938403745314),\n",
       " ('minority_0', 0.5044673978275891),\n",
       " ('majority_2', 0.9321164163286975),\n",
       " ('majority_3', 0.9182712009369044),\n",
       " ('minority_1', 0.34613151169850637),\n",
       " ('majority_4', 0.9093885868886036),\n",
       " ('majority_5', 0.8929215291803179),\n",
       " ('minority_2', 0.13144603620260448),\n",
       " ('majority_6', 0.84448834214089),\n",
       " ('majority_7', 0.8444321744758194),\n",
       " ('majority_8', 0.7987768878863014),\n",
       " ('minority_3', 0.1264237177457385),\n",
       " ('majority_9', 0.7224759124507347),\n",
       " ('majority_10', 0.692294681591763),\n",
       " ('majority_11', 0.6535759696005498),\n",
       " ('majority_12', 0.5881371467346821),\n",
       " ('majority_13', 0.567082260446633),\n",
       " ('majority_14', 0.56489951776292),\n",
       " ('majority_15', 0.5264342300049039),\n",
       " ('minority_4', 0.09909433134008121),\n",
       " ('minority_5', 0.0750708981671464),\n",
       " ('majority_16', 0.4812752455355691),\n",
       " ('majority_17', 0.4298057004537238),\n",
       " ('majority_18', 0.3927584262235775),\n",
       " ('majority_19', 0.3312105175331378),\n",
       " ('majority_20', 0.3223141774035432),\n",
       " ('majority_21', 0.31066018022909625),\n",
       " ('minority_6', 0.05135236597003786),\n",
       " ('majority_22', 0.3089836659386017),\n",
       " ('majority_23', 0.25933833855712163),\n",
       " ('majority_24', 0.2504469397048189),\n",
       " ('majority_25', 0.24394092885783314),\n",
       " ('majority_26', 0.21407896534542137),\n",
       " ('minority_7', 0.04519179427505781),\n",
       " ('majority_27', 0.20145807259008808),\n",
       " ('minority_8', 0.03729934154197691),\n",
       " ('minority_9', 0.035886146647779345),\n",
       " ('majority_28', 0.16928016568204085),\n",
       " ('majority_29', 0.1495353147481009),\n",
       " ('majority_30', 0.1417905209492707),\n",
       " ('majority_31', 0.13812332959151996),\n",
       " ('majority_32', 0.1254500843464016),\n",
       " ('majority_33', 0.11349156356515289),\n",
       " ('majority_34', 0.1077974496597377),\n",
       " ('majority_35', 0.10044678297249221),\n",
       " ('majority_36', 0.09134828154648655),\n",
       " ('majority_37', 0.06191282739259574),\n",
       " ('majority_38', 0.05237198469278659),\n",
       " ('majority_39', 0.026194153696491584)]"
      ]
     },
     "execution_count": 23,
     "metadata": {},
     "output_type": "execute_result"
    }
   ],
   "source": [
    "r2 = rank_fair_random(scores_majority, scores_minority)\n",
    "r2"
   ]
  },
  {
   "cell_type": "code",
   "execution_count": 24,
   "metadata": {
    "scrolled": true
   },
   "outputs": [
    {
     "name": "stdout",
     "output_type": "stream",
     "text": [
      "[0, 0, 1, 0, 0, 1, 0, 0, 1, 0, 0, 0, 1, 0, 0, 0, 0, 0, 0, 0, 1, 1, 0, 0, 0, 0, 0, 0, 1, 0, 0, 0, 0, 0, 1, 0, 1, 1, 0, 0, 0, 0, 0, 0, 0, 0, 0, 0, 0, 0]\n"
     ]
    },
    {
     "data": {
      "text/plain": [
       "0.2504653421393267"
      ]
     },
     "execution_count": 24,
     "metadata": {},
     "output_type": "execute_result"
    }
   ],
   "source": [
    "tau2 = [0 if \"majo\" in t[0] else 1 for t in r2]\n",
    "rND(tau2)"
   ]
  },
  {
   "cell_type": "markdown",
   "metadata": {},
   "source": [
    "#### d) Deterministic Ranking \n",
    "Another approach to creating a fair ranking is based on computing the number of protected group members at each rank which would be required to not obtain significant unfairness with respect to according to a statistical test.  \n",
    "Thus, for each rank i, you would have a minimum number $m(i)$ of members of the protected class required in the ranking.\n",
    "The ranking algorithm would then, at every rank $i$:\n",
    "* Check if the minimum mumber m(i) of protected group members has occured in the class, and \n",
    "    * if yes, place the best remaining candidate of all at rank $i$\n",
    "    * if no, place the best remaining member of the minority group at rank $i$\n",
    "    \n",
    "The function in the cell below computes the minimum number of occurences of protected class members at a fixed position with respect to a _binomial test_ with significance threshold $\\alpha = 0.01$."
   ]
  },
  {
   "cell_type": "code",
   "execution_count": 25,
   "metadata": {},
   "outputs": [
    {
     "data": {
      "text/plain": [
       "6"
      ]
     },
     "execution_count": 25,
     "metadata": {},
     "output_type": "execute_result"
    }
   ],
   "source": [
    "from scipy.stats import binom_test\n",
    "\n",
    "def minimum_occurrence (position, fairness_prob, threshold=0.1):\n",
    "    for i in range (position):\n",
    "        if binom_test(i, position, p=fairness_prob) > threshold:\n",
    "            return i\n",
    "    return position\n",
    "\n",
    "# test functionality to get minimum number required at rank 50\n",
    "proportion = len (scores_minority) / (len(scores_minority) + len(scores_majority))\n",
    "minimum_occurrence (50, proportion)"
   ]
  },
  {
   "cell_type": "markdown",
   "metadata": {},
   "source": [
    "Apply this function to write a deterministic ranking algorithm which ensures that at each position in the ranking, the minimum number of protected class members according to the given test has occurred. Again, use the signature in the cell below, and again evaluate the ranking by computing the rND score!"
   ]
  },
  {
   "cell_type": "code",
   "execution_count": 30,
   "metadata": {},
   "outputs": [],
   "source": [
    "def rank_fair_deterministic (majority, minority, fairness_prob = None):\n",
    "    majority = majority.copy()\n",
    "    minority = minority.copy()\n",
    "    result = []\n",
    "    if fairness_prob is None:\n",
    "        fairness_prob = len (scores_minority) / (len(scores_minority) + len(scores_majority))\n",
    "        \n",
    "    minority_in_result = 0\n",
    "    no_elements = len(majority) + len(minority)\n",
    "    \n",
    "    next_elem_majority = majority.pop(0)\n",
    "    next_elem_minority = minority.pop(0)\n",
    "    while len(result) < no_elements:\n",
    "        minority_required = minimum_occurrence(len(result) + 1, fairness_prob)\n",
    "        if not next_elem_minority is None and (next_elem_majority is None or minority_in_result < minority_required or next_elem_minority[1] > next_elem_majority[1]):\n",
    "            result.append(next_elem_minority)\n",
    "            minority_in_result = minority_in_result + 1\n",
    "            if len(minority) > 0:\n",
    "                next_elem_minority = minority.pop(0)\n",
    "            else:\n",
    "                next_elem_minority = None\n",
    "        else:\n",
    "            result.append(next_elem_majority)\n",
    "            if len(majority) > 0:\n",
    "                next_elem_majority = majority.pop(0)\n",
    "            else:\n",
    "                next_elem_majority = None\n",
    "    return result\n",
    "    "
   ]
  },
  {
   "cell_type": "code",
   "execution_count": 33,
   "metadata": {},
   "outputs": [
    {
     "data": {
      "text/plain": [
       "0.7254717082405626"
      ]
     },
     "execution_count": 33,
     "metadata": {},
     "output_type": "execute_result"
    }
   ],
   "source": [
    "r3 = rank_fair_deterministic(scores_majority, scores_minority)\n",
    "tau3 = [0 if \"majo\" in t[0] else 1 for t in r3]\n",
    "rND(tau3) "
   ]
  },
  {
   "cell_type": "markdown",
   "metadata": {},
   "source": [
    "__Note:__ This score is slightly better than than what results from the first ranking, but this deterministiv ranking approach including that statistical test does not reflect the premise of the rND score."
   ]
  }
 ],
 "metadata": {
  "kernelspec": {
   "display_name": "Python 3",
   "language": "python",
   "name": "python3"
  },
  "language_info": {
   "codemirror_mode": {
    "name": "ipython",
    "version": 3
   },
   "file_extension": ".py",
   "mimetype": "text/x-python",
   "name": "python",
   "nbconvert_exporter": "python",
   "pygments_lexer": "ipython3",
   "version": "3.7.0"
  },
  "toc": {
   "base_numbering": 1,
   "nav_menu": {},
   "number_sections": true,
   "sideBar": true,
   "skip_h1_title": false,
   "title_cell": "Table of Contents",
   "title_sidebar": "Contents",
   "toc_cell": false,
   "toc_position": {},
   "toc_section_display": true,
   "toc_window_display": false
  }
 },
 "nbformat": 4,
 "nbformat_minor": 2
}
