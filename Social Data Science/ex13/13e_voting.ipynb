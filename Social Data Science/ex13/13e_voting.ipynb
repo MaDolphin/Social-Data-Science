{
 "cells": [
  {
   "cell_type": "markdown",
   "metadata": {},
   "source": [
    "## Exercise 13: Voting\n",
    "\n",
    "In this exercise we are exploring the difficulties in voting and aggregating the votes of a population. We will work with a set of 25 rankings of options A-G, which are loaded in the cell below."
   ]
  },
  {
   "cell_type": "code",
   "execution_count": 81,
   "metadata": {},
   "outputs": [
    {
     "data": {
      "text/plain": [
       "[['F', 'H', 'D', 'B', 'A', 'E', 'C', 'G'],\n",
       " ['C', 'A', 'B', 'E', 'F', 'H', 'D', 'G'],\n",
       " ['C', 'G', 'B', 'E', 'A', 'F', 'H', 'D'],\n",
       " ['E', 'F', 'D', 'G', 'A', 'H', 'B', 'C'],\n",
       " ['G', 'A', 'E', 'D', 'C', 'H', 'F', 'B'],\n",
       " ['A', 'H', 'D', 'G', 'B', 'E', 'C', 'F'],\n",
       " ['B', 'C', 'G', 'H', 'A', 'F', 'E', 'D'],\n",
       " ['G', 'E', 'H', 'B', 'C', 'F', 'A', 'D'],\n",
       " ['C', 'B', 'D', 'G', 'E', 'H', 'A', 'F'],\n",
       " ['E', 'G', 'B', 'C', 'F', 'H', 'D', 'A'],\n",
       " ['D', 'G', 'F', 'C', 'B', 'E', 'A', 'H'],\n",
       " ['G', 'D', 'B', 'C', 'H', 'F', 'E', 'A'],\n",
       " ['D', 'H', 'C', 'F', 'B', 'G', 'E', 'A'],\n",
       " ['H', 'E', 'A', 'B', 'F', 'C', 'D', 'G'],\n",
       " ['F', 'H', 'D', 'E', 'A', 'C', 'G', 'B'],\n",
       " ['H', 'E', 'C', 'D', 'F', 'B', 'A', 'G'],\n",
       " ['H', 'A', 'B', 'F', 'C', 'E', 'G', 'D'],\n",
       " ['G', 'B', 'H', 'C', 'A', 'E', 'D', 'F'],\n",
       " ['E', 'A', 'F', 'G', 'B', 'H', 'C', 'D'],\n",
       " ['C', 'F', 'A', 'D', 'B', 'G', 'E', 'H'],\n",
       " ['D', 'E', 'F', 'G', 'H', 'B', 'A', 'C'],\n",
       " ['F', 'A', 'H', 'E', 'C', 'D', 'B', 'G'],\n",
       " ['F', 'C', 'G', 'H', 'A', 'B', 'E', 'D'],\n",
       " ['H', 'G', 'B', 'A', 'E', 'D', 'F', 'C'],\n",
       " ['E', 'C', 'G', 'A', 'H', 'D', 'F', 'B']]"
      ]
     },
     "execution_count": 81,
     "metadata": {},
     "output_type": "execute_result"
    }
   ],
   "source": [
    "import pickle\n",
    "\n",
    "# list of voting options\n",
    "opts = ['A','B','C','D','E','F','G','H']\n",
    "\n",
    "# load list of rankings\n",
    "rankings = pickle.load(open(\"rankings.pickle\",'rb'))\n",
    "rankings"
   ]
  },
  {
   "cell_type": "markdown",
   "metadata": {},
   "source": [
    "### Task 1: The Majority Rule and Condorcet's Paradox"
   ]
  },
  {
   "cell_type": "markdown",
   "metadata": {},
   "source": [
    "Write a function that impements the majority rule based on a set of rankings, using the signature in the cell below. Apply this function on the given ranking data, by computing the majority winner of all pairs of the ranked options. Do you observe Condorcet's paradox?"
   ]
  },
  {
   "cell_type": "code",
   "execution_count": null,
   "metadata": {},
   "outputs": [],
   "source": [
    "# INPUT PARAMETERS\n",
    "# pair: tuple of 2 elements on which we want to determine the majority vote\n",
    "# rankings: List of individual rankings\n",
    "#\n",
    "# return: winner of majority vote\n",
    "def majority_vote(pair,rankings):\n",
    "    # your code here"
   ]
  },
  {
   "cell_type": "code",
   "execution_count": null,
   "metadata": {},
   "outputs": [],
   "source": []
  },
  {
   "cell_type": "markdown",
   "metadata": {},
   "source": [
    "### Task 2: Voting Systems\n",
    "\n",
    "Write two functions which implement the sequential and the tournament voting systems, using the signatures in the cell below.\n",
    "For each system, simulate 1000 runs based on different permutations of the input list, and count the number of times each element wins (note that when ranking $n$ elements, there are $O(n!)$ possible sequential agendas).  \n",
    "Does every option get to win once in sequential and tournament voting? Is there an element that dominates the votes? Which voting system would you generally prefer and why?"
   ]
  },
  {
   "cell_type": "code",
   "execution_count": null,
   "metadata": {},
   "outputs": [],
   "source": [
    "# INPUT PARAMETERS\n",
    "# rankings: List of individual rankings\n",
    "# seq: sequence specifying the agenda. first two elements are voted against each other, \n",
    "#      and then the winner is voted against the next element in the sequence, e.g. in \n",
    "#      [A,C,B,D], first A and B are voted against each other, then the winner is voted \n",
    "#      against C, and this winner is voted against D\n",
    "#\n",
    "# return: winner of sequential vote\n",
    "def seq_vote(rankings, seq):\n",
    "    # your code here"
   ]
  },
  {
   "cell_type": "code",
   "execution_count": null,
   "metadata": {},
   "outputs": [],
   "source": [
    "# INPUT PARAMETERS\n",
    "# rankings: List of individual rankings\n",
    "# tree: list specifying tournament tree, i.e., the lowest level of the tournament tree.\n",
    "# Example: with tree = [A,C,B,D], in first round we have the votes A vs c and B vs D. In the next round,\n",
    "# the winner of these are then voted against each other\n",
    "# -> you may assume that there are always 2^i elements to rank\n",
    "#\n",
    "# return: winner of tournament vote\n",
    "def tournament_vote(rankings, tree):\n",
    "    # your code here"
   ]
  },
  {
   "cell_type": "code",
   "execution_count": null,
   "metadata": {},
   "outputs": [],
   "source": []
  },
  {
   "cell_type": "code",
   "execution_count": null,
   "metadata": {},
   "outputs": [],
   "source": []
  },
  {
   "cell_type": "markdown",
   "metadata": {},
   "source": [
    "### Task 3: Positional Voting\n",
    "\n",
    "#### a) Borda Count\n",
    "\n",
    "Write a function that implements the Borda count, using the signature in the cell below, which also allows for optional allocation of weights. Apply this function on the giving rankings, using\n",
    "* standard weights, i.e., for a ranking of $k$ elements, the first gets $k$ points, the scond $k-t$ points, and so on\n",
    "* top 5 weights, i.e., in every ranking only the top 5 get points, with 5 points for the first, 4 points for the second, etc\n",
    "* Step-wise halving weights, i.e. the first element gets $2k$ points, the second $k$ points, the third $k/2$ points, etc\n",
    "\n",
    "Are the resulting rankings identical, and do they correspond to what you would expect from your solution in task 2?"
   ]
  },
  {
   "cell_type": "code",
   "execution_count": null,
   "metadata": {},
   "outputs": [],
   "source": [
    "import numpy as np\n",
    "\n",
    "# INPUT PARAMETERS:\n",
    "# rankings: list of lists of individual rankings\n",
    "# weights: list of k descending weights that are used to score/aggregate individual rankings.\n",
    "# By default, the standard weights [k,k-1,k-2,...] should be used.\n",
    "#\n",
    "# return a list of (element,score) tuples, in descending order by given score\n",
    "def borda_count(rankings, weights = None):\n",
    "    #your code here"
   ]
  },
  {
   "cell_type": "code",
   "execution_count": null,
   "metadata": {},
   "outputs": [],
   "source": []
  },
  {
   "cell_type": "markdown",
   "metadata": {},
   "source": [
    "#### b) Arrow's Impossibility\n",
    "\n",
    "Implement a function subrank, which, for a given single person's ranking, only extracts the relative ranking of a given subset of options. E.g., if we consider the first persons ranking (F, H, D, B, A, E, C, G), the subrank with respect to the subset {A,B,C} would be (B,A,C).  \n",
    "Apply this function to grow the given set of rankings, i.e., initially you compute all subranks with respect to {A,B}, then all subranks with respect to {A,B,C}, and so on, until we have the original individual rankings.  \n",
    "At each step, compute the Borda Count ranking over all current individual subranks. Do you observe a violation of the IIA assumption?"
   ]
  },
  {
   "cell_type": "code",
   "execution_count": 93,
   "metadata": {},
   "outputs": [],
   "source": [
    "# INPUT PARAMETERS:\n",
    "# ranking: list of an individual person's ranking\n",
    "# elems: subset of all elements based on which we compute the subrank\n",
    "#\n",
    "# return a list which represents the current subrank\n",
    "def subrank(ranking, opts):\n",
    "    # your code here"
   ]
  },
  {
   "cell_type": "code",
   "execution_count": null,
   "metadata": {},
   "outputs": [],
   "source": []
  }
 ],
 "metadata": {
  "kernelspec": {
   "display_name": "Python 3",
   "language": "python",
   "name": "python3"
  },
  "language_info": {
   "codemirror_mode": {
    "name": "ipython",
    "version": 3
   },
   "file_extension": ".py",
   "mimetype": "text/x-python",
   "name": "python",
   "nbconvert_exporter": "python",
   "pygments_lexer": "ipython3",
   "version": "3.7.3"
  }
 },
 "nbformat": 4,
 "nbformat_minor": 2
}
