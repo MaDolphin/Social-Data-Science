{
 "cells": [
  {
   "cell_type": "markdown",
   "metadata": {},
   "source": [
    "## Exercise 13: Voting\n",
    "\n",
    "In this exercise we are exploring the difficulties in voting and aggregating the votes of a population. We will work with a set of 25 rankings of options A-G, which are loaded in the cell below."
   ]
  },
  {
   "cell_type": "code",
   "execution_count": 81,
   "metadata": {},
   "outputs": [
    {
     "data": {
      "text/plain": [
       "[['F', 'H', 'D', 'B', 'A', 'E', 'C', 'G'],\n",
       " ['C', 'A', 'B', 'E', 'F', 'H', 'D', 'G'],\n",
       " ['C', 'G', 'B', 'E', 'A', 'F', 'H', 'D'],\n",
       " ['E', 'F', 'D', 'G', 'A', 'H', 'B', 'C'],\n",
       " ['G', 'A', 'E', 'D', 'C', 'H', 'F', 'B'],\n",
       " ['A', 'H', 'D', 'G', 'B', 'E', 'C', 'F'],\n",
       " ['B', 'C', 'G', 'H', 'A', 'F', 'E', 'D'],\n",
       " ['G', 'E', 'H', 'B', 'C', 'F', 'A', 'D'],\n",
       " ['C', 'B', 'D', 'G', 'E', 'H', 'A', 'F'],\n",
       " ['E', 'G', 'B', 'C', 'F', 'H', 'D', 'A'],\n",
       " ['D', 'G', 'F', 'C', 'B', 'E', 'A', 'H'],\n",
       " ['G', 'D', 'B', 'C', 'H', 'F', 'E', 'A'],\n",
       " ['D', 'H', 'C', 'F', 'B', 'G', 'E', 'A'],\n",
       " ['H', 'E', 'A', 'B', 'F', 'C', 'D', 'G'],\n",
       " ['F', 'H', 'D', 'E', 'A', 'C', 'G', 'B'],\n",
       " ['H', 'E', 'C', 'D', 'F', 'B', 'A', 'G'],\n",
       " ['H', 'A', 'B', 'F', 'C', 'E', 'G', 'D'],\n",
       " ['G', 'B', 'H', 'C', 'A', 'E', 'D', 'F'],\n",
       " ['E', 'A', 'F', 'G', 'B', 'H', 'C', 'D'],\n",
       " ['C', 'F', 'A', 'D', 'B', 'G', 'E', 'H'],\n",
       " ['D', 'E', 'F', 'G', 'H', 'B', 'A', 'C'],\n",
       " ['F', 'A', 'H', 'E', 'C', 'D', 'B', 'G'],\n",
       " ['F', 'C', 'G', 'H', 'A', 'B', 'E', 'D'],\n",
       " ['H', 'G', 'B', 'A', 'E', 'D', 'F', 'C'],\n",
       " ['E', 'C', 'G', 'A', 'H', 'D', 'F', 'B']]"
      ]
     },
     "execution_count": 81,
     "metadata": {},
     "output_type": "execute_result"
    }
   ],
   "source": [
    "import pickle\n",
    "\n",
    "# list of voting options\n",
    "opts = ['A','B','C','D','E','F','G','H']\n",
    "\n",
    "# load list of rankings\n",
    "rankings = pickle.load(open(\"rankings.pickle\",'rb'))\n",
    "rankings"
   ]
  },
  {
   "cell_type": "markdown",
   "metadata": {},
   "source": [
    "### Task 1: The Majority Rule and Condorcet's Paradox"
   ]
  },
  {
   "cell_type": "markdown",
   "metadata": {},
   "source": [
    "Write a function that impements the majority rule based on a set of rankings, using the signature in the cell below. Apply this function on the given ranking data, by computing the majority winner of all pairs of the ranked options. Do you observe Condorcet's paradox?"
   ]
  },
  {
   "cell_type": "code",
   "execution_count": 1,
   "metadata": {},
   "outputs": [],
   "source": [
    "# INPUT PARAMETERS\n",
    "# pair: tuple of 2 elements on which we want to determine the majority vote\n",
    "# rankings: List of individual rankings\n",
    "#\n",
    "# return: winner of majority vote\n",
    "def majority_vote(pair,rankings):\n",
    "    \n",
    "    def single_pref(alt1,alt2,ranking):\n",
    "        for e in ranking:\n",
    "            if e == alt1:\n",
    "                return alt1\n",
    "            if e == alt2:\n",
    "                return alt2\n",
    "    alt1, alt2 = pair[0],pair[1]\n",
    "    \n",
    "    votes = dict({alt1: 0,\n",
    "                  alt2: 0})\n",
    "    for ranking in rankings:\n",
    "        votes[single_pref(alt1,alt2,ranking)] += 1\n",
    "    \n",
    "    return max(votes, key=votes.get)"
   ]
  },
  {
   "cell_type": "code",
   "execution_count": 14,
   "metadata": {},
   "outputs": [
    {
     "data": {
      "text/plain": [
       "'E'"
      ]
     },
     "execution_count": 14,
     "metadata": {},
     "output_type": "execute_result"
    }
   ],
   "source": [
    "majority_vote(('E','B'),rankings)"
   ]
  },
  {
   "cell_type": "code",
   "execution_count": 41,
   "metadata": {},
   "outputs": [
    {
     "name": "stdout",
     "output_type": "stream",
     "text": [
      "('E', 'F'): E\n",
      "('G', 'H'): G\n",
      "('D', 'F'): F\n",
      "('A', 'E'): E\n",
      "('B', 'G'): G\n",
      "('C', 'E'): E\n",
      "('A', 'G'): G\n",
      "('B', 'E'): B\n",
      "('C', 'G'): C\n",
      "('A', 'D'): A\n",
      "('D', 'E'): E\n",
      "('B', 'F'): F\n",
      "('C', 'D'): C\n",
      "('B', 'C'): B\n",
      "('F', 'H'): H\n",
      "('A', 'C'): C\n",
      "('E', 'H'): H\n",
      "('E', 'G'): G\n",
      "('A', 'H'): H\n",
      "('B', 'H'): H\n",
      "('B', 'D'): D\n",
      "('C', 'H'): H\n",
      "('D', 'G'): D\n",
      "('D', 'H'): H\n",
      "('A', 'B'): B\n",
      "('C', 'F'): C\n",
      "('A', 'F'): F\n",
      "('F', 'G'): F\n"
     ]
    }
   ],
   "source": [
    "import itertools\n",
    "pairs = set(itertools.combinations(opts, 2))\n",
    "for pair in pairs:\n",
    "    print(str(pair) + \": \" + str(majority_vote(pair,rankings)))"
   ]
  },
  {
   "cell_type": "markdown",
   "metadata": {},
   "source": [
    "__Answer:__ We observe Condorcet's paradox multiple times. For instance, G is preferred over H, and H is preferred over F, but F is preferred over G."
   ]
  },
  {
   "cell_type": "markdown",
   "metadata": {},
   "source": [
    "### Task 2: Voting Systems\n",
    "\n",
    "Write two functions which implement the sequential and the tournament voting systems, using the signatures in the cell below.\n",
    "For each system, simulate 1000 runs based on different permutations of the input list, and count the number of times each element wins (note that when ranking $n$ elements, there are $O(n!)$ possible sequential agendas).  \n",
    "Does every option get to win once in sequential and tournament voting? Is there an element that dominates the votes? Which voting system would you generally prefer and why?"
   ]
  },
  {
   "cell_type": "code",
   "execution_count": 66,
   "metadata": {},
   "outputs": [],
   "source": [
    "# INPUT PARAMETERS\n",
    "# rankings: List of individual rankings\n",
    "# seq: sequence specifying the agenda. first two elements are voted against each other, \n",
    "#      and then the winner is voted against the next element in the sequence, e.g. in \n",
    "#      [A,C,B,D], first A and B are voted against each other, then the winner is voted \n",
    "#      against C, and this winner is voted against D\n",
    "#\n",
    "# return: winner of sequential vote\n",
    "def seq_vote(rankings, seq):\n",
    "    sq = seq.copy()\n",
    "    alt1 = sq.pop(0)\n",
    "    alt2 = sq.pop(0)\n",
    "    \n",
    "    winner = majority_vote((alt1,alt2),rankings)\n",
    "    while sq:\n",
    "        winner = majority_vote((winner,sq.pop(0)),rankings)\n",
    "        \n",
    "    return winner"
   ]
  },
  {
   "cell_type": "code",
   "execution_count": 67,
   "metadata": {},
   "outputs": [
    {
     "data": {
      "text/plain": [
       "'G'"
      ]
     },
     "execution_count": 67,
     "metadata": {},
     "output_type": "execute_result"
    }
   ],
   "source": [
    "seq_vote(rankings,opts)"
   ]
  },
  {
   "cell_type": "code",
   "execution_count": 74,
   "metadata": {},
   "outputs": [],
   "source": [
    "# INPUT PARAMETERS\n",
    "# rankings: List of individual rankings\n",
    "# tree: list specifying tournament tree, i.e., the lowest level of the tournament tree.\n",
    "# Example: with tree = [A,C,B,D], in first round we have the votes A vs c and B vs D. In the next round,\n",
    "# the winner of these are then voted against each other\n",
    "# -> you may assume that there are always 2^i elements to rank\n",
    "#\n",
    "# return: winner of tournament vote\n",
    "def tournament_vote(rankings, tree):\n",
    "    curr_tree = tree.copy()\n",
    "    next_tree = []\n",
    "    while len(curr_tree)>2:\n",
    "        while curr_tree:\n",
    "            alt1 = curr_tree.pop(0)\n",
    "            alt2 = curr_tree.pop(0)\n",
    "            next_tree.append(majority_vote((alt1,alt2),rankings))\n",
    "        \n",
    "        curr_tree = next_tree.copy()\n",
    "        next_tree = []\n",
    "        \n",
    "    return majority_vote((curr_tree[0],curr_tree[1]),rankings)"
   ]
  },
  {
   "cell_type": "code",
   "execution_count": 75,
   "metadata": {},
   "outputs": [
    {
     "data": {
      "text/plain": [
       "'G'"
      ]
     },
     "execution_count": 75,
     "metadata": {},
     "output_type": "execute_result"
    }
   ],
   "source": [
    "tournament_vote(rankings,opts)"
   ]
  },
  {
   "cell_type": "code",
   "execution_count": 87,
   "metadata": {},
   "outputs": [
    {
     "name": "stdout",
     "output_type": "stream",
     "text": [
      "{'A': 6, 'B': 50, 'C': 118, 'D': 47, 'E': 76, 'F': 91, 'G': 221, 'H': 391}\n"
     ]
    }
   ],
   "source": [
    "import random\n",
    "seq_counts = dict({key : 0 for key in opts})\n",
    "for _ in range(1000):\n",
    "    w = seq_vote(rankings,random.sample(opts, 8))\n",
    "    seq_counts[w]+=1\n",
    "\n",
    "print(seq_counts)"
   ]
  },
  {
   "cell_type": "code",
   "execution_count": 88,
   "metadata": {},
   "outputs": [
    {
     "name": "stdout",
     "output_type": "stream",
     "text": [
      "{'A': 0, 'B': 12, 'C': 75, 'D': 0, 'E': 32, 'F': 50, 'G': 240, 'H': 591}\n"
     ]
    }
   ],
   "source": [
    "t_counts = dict({key : 0 for key in opts})\n",
    "for _ in range(1000):\n",
    "    w = tournament_vote(rankings,random.sample(opts, 8))\n",
    "    t_counts[w]+=1\n",
    "\n",
    "print(t_counts)"
   ]
  },
  {
   "cell_type": "markdown",
   "metadata": {},
   "source": [
    "__Answer:__ In general, H seems to dominate noth vting systems, though this trend is much stronger for elimination tournaments. \n",
    "Elimination tournaments is arguably fairer, as in that setting it is not possible to win the tournament if by majority vote you only beat one out of all other options. "
   ]
  },
  {
   "cell_type": "markdown",
   "metadata": {},
   "source": [
    "### Task 3: Positional Voting\n",
    "\n",
    "#### a) Borda Count\n",
    "\n",
    "Write a function that implements the Borda count, using the signature in the cell below, which also allows for optional allocation of weights. Apply this function on the giving rankings, using\n",
    "* standard weights, i.e., for a ranking of $k$ elements, the first gets $k$ points, the scond $k-t$ points, and so on\n",
    "* top 5 weights, i.e., in every ranking only the top 5 get points, with 5 points for the first, 4 points for the second, etc\n",
    "* Step-wise halving weights, i.e. the first element gets $2k$ points, the second $k$ points, the third $k/2$ points, etc\n",
    "\n",
    "Are the resulting rankings identical, and do they correspond to what you would expect from your solution in task 2?"
   ]
  },
  {
   "cell_type": "code",
   "execution_count": 22,
   "metadata": {},
   "outputs": [],
   "source": [
    "import numpy as np\n",
    "\n",
    "# INPUT PARAMETERS:\n",
    "# rankings: list of lists of individual rankings\n",
    "# weights: list of k descending weights that are used to score/aggregate individual rankings.\n",
    "# By default, the standard weights [k,k-1,k-2,...] should be used.\n",
    "#\n",
    "# return a list of (element,score) tuples, in descending order by given score\n",
    "def borda_count(rankings, weights = None):\n",
    "    keys = list(set(rankings[0]))\n",
    "    scores = {key : 0 for key in keys}\n",
    "    k = len(keys)\n",
    "    \n",
    "    if weights is None:\n",
    "        weights = np.arange(k,0,step = -1)\n",
    "    \n",
    "    for ranking in rankings:\n",
    "        for i in range(k):\n",
    "            e = ranking[i]\n",
    "            scores[e] += weights[i]\n",
    "            \n",
    "    return [(k,v) for k,v in sorted(scores.items(), key=lambda item: item[1], reverse=True)] "
   ]
  },
  {
   "cell_type": "code",
   "execution_count": 89,
   "metadata": {},
   "outputs": [
    {
     "data": {
      "text/plain": [
       "[('H', 122),\n",
       " ('E', 119),\n",
       " ('G', 118),\n",
       " ('C', 116),\n",
       " ('F', 111),\n",
       " ('B', 109),\n",
       " ('A', 106),\n",
       " ('D', 99)]"
      ]
     },
     "execution_count": 89,
     "metadata": {},
     "output_type": "execute_result"
    }
   ],
   "source": [
    "pos_voting(rankings)"
   ]
  },
  {
   "cell_type": "code",
   "execution_count": 90,
   "metadata": {},
   "outputs": [
    {
     "data": {
      "text/plain": [
       "[('G', 55),\n",
       " ('H', 52),\n",
       " ('C', 50),\n",
       " ('E', 49),\n",
       " ('F', 45),\n",
       " ('A', 42),\n",
       " ('B', 42),\n",
       " ('D', 40)]"
      ]
     },
     "execution_count": 90,
     "metadata": {},
     "output_type": "execute_result"
    }
   ],
   "source": [
    "pos_voting(rankings, weights = [5,4,3,2,1,0,0,0])"
   ]
  },
  {
   "cell_type": "code",
   "execution_count": 91,
   "metadata": {},
   "outputs": [
    {
     "data": {
      "text/plain": [
       "[('G', 120.125),\n",
       " ('H', 118.5),\n",
       " ('E', 113.75),\n",
       " ('C', 110.125),\n",
       " ('F', 103.125),\n",
       " ('D', 85.25),\n",
       " ('A', 76.625),\n",
       " ('B', 69.375)]"
      ]
     },
     "execution_count": 91,
     "metadata": {},
     "output_type": "execute_result"
    }
   ],
   "source": [
    "pos_voting(rankings, weights = [16,8,4,2,1,.5,0.25,0.125])"
   ]
  },
  {
   "cell_type": "markdown",
   "metadata": {},
   "source": [
    "__Answer:__ It becomes apparent that different weights yield diffrent rankings. Surprisingly, exect for the standard Borda count, these rankings do not display the trend towards H as the most popular element that we observed in task 2."
   ]
  },
  {
   "cell_type": "markdown",
   "metadata": {},
   "source": [
    "#### b) Arrow's Impossibility\n",
    "\n",
    "Implement a function subrank, which, for a given single person's ranking, only extracts the relative ranking of a given subset of options. E.g., if we consider the first persons ranking (F, H, D, B, A, E, C, G), the subrank with respect to the subset {A,B,C} would be (B,A,C).  \n",
    "Apply this function to grow the given set of rankings, i.e., initially you compute all subranks with respect to {A,B}, then all subranks with respect to {A,B,C}, and so on, until we have the original individual rankings.  \n",
    "At each step, compute the Borda Count ranking over all current individual subranks. Do you observe a violation of the IIA assumption?"
   ]
  },
  {
   "cell_type": "code",
   "execution_count": 93,
   "metadata": {},
   "outputs": [],
   "source": [
    "# INPUT PARAMETERS:\n",
    "# ranking: list of an individual person's ranking\n",
    "# elems: subset of all elements based on which we compute the subrank\n",
    "#\n",
    "# return a list which represents the current subrank\n",
    "def subrank(ranking, opts):\n",
    "    res = []\n",
    "    for r in ranking:\n",
    "        if r in opts:\n",
    "            res.append(r)\n",
    "    return res"
   ]
  },
  {
   "cell_type": "code",
   "execution_count": 95,
   "metadata": {},
   "outputs": [
    {
     "name": "stdout",
     "output_type": "stream",
     "text": [
      "[('B', 38), ('A', 37)]\n",
      "[('B', 51), ('C', 51), ('A', 48)]\n",
      "[('C', 66), ('B', 63), ('A', 63), ('D', 58)]\n",
      "[('E', 80), ('C', 77), ('B', 77), ('A', 74), ('D', 67)]\n",
      "[('E', 95), ('C', 91), ('B', 89), ('F', 86), ('A', 86), ('D', 78)]\n",
      "[('E', 107), ('C', 105), ('G', 103), ('F', 99), ('B', 99), ('A', 96), ('D', 91)]\n",
      "[('H', 122), ('E', 119), ('G', 118), ('C', 116), ('F', 111), ('B', 109), ('A', 106), ('D', 99)]\n"
     ]
    }
   ],
   "source": [
    "for i in np.arange(2,9):\n",
    "    curr_rankings = [subrank(r,opts[:i]) for r in rankings]\n",
    "    print(pos_voting(curr_rankings))"
   ]
  },
  {
   "cell_type": "markdown",
   "metadata": {},
   "source": [
    "__Answer__: The IIA assumption is violated with respect to elements B and F, where initially B is ranked over F, but in the end their ranking is swapped. "
   ]
  }
 ],
 "metadata": {
  "kernelspec": {
   "display_name": "Python 3",
   "language": "python",
   "name": "python3"
  },
  "language_info": {
   "codemirror_mode": {
    "name": "ipython",
    "version": 3
   },
   "file_extension": ".py",
   "mimetype": "text/x-python",
   "name": "python",
   "nbconvert_exporter": "python",
   "pygments_lexer": "ipython3",
   "version": "3.7.3"
  }
 },
 "nbformat": 4,
 "nbformat_minor": 2
}
