{
 "cells": [
  {
   "cell_type": "markdown",
   "metadata": {},
   "source": [
    "## Exercise 10: Random Networks\n"
   ]
  },
  {
   "cell_type": "code",
   "execution_count": 1,
   "metadata": {},
   "outputs": [],
   "source": [
    "import numpy as np\n",
    "import networkx as nx\n",
    "from matplotlib import pyplot as plt"
   ]
  },
  {
   "cell_type": "markdown",
   "metadata": {},
   "source": [
    "### Task 1: Erdős-Renyi Graphs\n",
    "\n",
    "#### a) Implementing Erdős-Renyi Graphs\n",
    "Implement the Erdős-Renyi random graph model, using the signature in the cell below."
   ]
  },
  {
   "cell_type": "code",
   "execution_count": null,
   "metadata": {},
   "outputs": [],
   "source": [
    "# n: number of nodes\n",
    "# p: edge probability in [0,1]\n",
    "# return a networkx graph\n",
    "def er_graph(n,p):\n",
    "    # your code here"
   ]
  },
  {
   "cell_type": "markdown",
   "metadata": {},
   "source": [
    "#### b) Diameter\n",
    "\n",
    "Use your implementation to create a random graph with 1000 nodes and average degree 10. What is the diameter of the resulting network? Do you oberve the small-world effect?"
   ]
  },
  {
   "cell_type": "code",
   "execution_count": null,
   "metadata": {},
   "outputs": [],
   "source": []
  },
  {
   "cell_type": "markdown",
   "metadata": {},
   "source": [
    "#### c) Degree Distribution\n",
    "\n",
    "Make use of histograms to plot the degree distribution of the network from b).\n",
    "After that, draw 1000 times from a poisson distribution and plot the histogram of outcomes. Are the resulting plots similar?"
   ]
  },
  {
   "cell_type": "code",
   "execution_count": null,
   "metadata": {},
   "outputs": [],
   "source": []
  },
  {
   "cell_type": "code",
   "execution_count": null,
   "metadata": {},
   "outputs": [],
   "source": []
  },
  {
   "cell_type": "markdown",
   "metadata": {},
   "source": [
    "#### d) Emergence of a Giant Component\n",
    "\n",
    "Use the random graph generator from NetworkX to create 100 random graphs with 300 nodes and average degrees linearly increaing from $c = 0.1$ to $c = 4$.\n",
    "Using these graphs, plot the share of nodes in the largest connected component (on the y-axis) as a function of the average degree (on the x-axis).\n",
    "At what average degree do you observe the emergence of a giant component?"
   ]
  },
  {
   "cell_type": "code",
   "execution_count": null,
   "metadata": {},
   "outputs": [],
   "source": []
  },
  {
   "cell_type": "code",
   "execution_count": null,
   "metadata": {},
   "outputs": [],
   "source": []
  },
  {
   "cell_type": "markdown",
   "metadata": {},
   "source": [
    "### Task 2: The Barabasi-Albert Model\n"
   ]
  },
  {
   "cell_type": "markdown",
   "metadata": {},
   "source": [
    "####  a) Implementing Preferential Attachment\n",
    "Write your own implementation of the Barabasi-Albert (BA) model, using the signature in the cell below. As an initial condition, start with a network with $m$ nodes and no edges."
   ]
  },
  {
   "cell_type": "code",
   "execution_count": null,
   "metadata": {},
   "outputs": [],
   "source": [
    "# n: number of nodes\n",
    "# m: number of edges per incoming node\n",
    "# return a networkx graph\n",
    "def ba_graph(n,m):\n",
    "    # your code here"
   ]
  },
  {
   "cell_type": "markdown",
   "metadata": {},
   "source": [
    "#### b) Basic Statistics\n",
    "Using your implementation, create a BA network with 1000 nodes, and number of edges per joining node $m = 4$. What is the average, minimum and maximum degree of the network? What is its diameter?"
   ]
  },
  {
   "cell_type": "code",
   "execution_count": null,
   "metadata": {},
   "outputs": [],
   "source": []
  },
  {
   "cell_type": "code",
   "execution_count": null,
   "metadata": {},
   "outputs": [],
   "source": []
  },
  {
   "cell_type": "markdown",
   "metadata": {},
   "source": [
    "#### c) Local Clustering\n",
    "For all integer values of $m$ between 5 and 30 create a Barabasi-Albert graph with 300 nodes and $m$ edges per incoming node. Further, for each value $m$, create an Erdős-Renyi graph with (roughly) the same degree as the corresponding Barabasi-Albert graph.  Plot the average local clustering coefficient per network type against the average degree. What do you observe?"
   ]
  },
  {
   "cell_type": "code",
   "execution_count": null,
   "metadata": {},
   "outputs": [],
   "source": []
  },
  {
   "cell_type": "code",
   "execution_count": null,
   "metadata": {},
   "outputs": [],
   "source": []
  },
  {
   "cell_type": "markdown",
   "metadata": {},
   "source": [
    "#### d) Degree Distribution\n",
    "Use your implementation to plot the degree distributions of a BA model with 1000 nodes and m=5. Create a _linear_ and a _log-log_ plot of the degree distribution, where y represents the share of nodes in the graph of a degree x. Do you observe a power-law degree distribution?"
   ]
  },
  {
   "cell_type": "code",
   "execution_count": null,
   "metadata": {},
   "outputs": [],
   "source": []
  },
  {
   "cell_type": "code",
   "execution_count": null,
   "metadata": {},
   "outputs": [],
   "source": []
  }
 ],
 "metadata": {
  "kernelspec": {
   "display_name": "Python 3",
   "language": "python",
   "name": "python3"
  },
  "language_info": {
   "codemirror_mode": {
    "name": "ipython",
    "version": 3
   },
   "file_extension": ".py",
   "mimetype": "text/x-python",
   "name": "python",
   "nbconvert_exporter": "python",
   "pygments_lexer": "ipython3",
   "version": "3.7.3"
  }
 },
 "nbformat": 4,
 "nbformat_minor": 2
}
