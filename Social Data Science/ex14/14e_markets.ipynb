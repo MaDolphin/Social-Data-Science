{
 "cells": [
  {
   "cell_type": "markdown",
   "metadata": {},
   "source": [
    "## Exercise 14: Markets and Crowds\n",
    "\n",
    "Note that in this exercise, the first two tasks are pen&paper exercises (Source: Ch. 22 of _Networks, Crowds, and Markets_ by Easley and Kleinberg)"
   ]
  },
  {
   "cell_type": "markdown",
   "metadata": {},
   "source": [
    "### Task 1: Betting Markets\n",
    "\n",
    "__1.1__ Consider a betting market with two horses A and B and two bettors 1 and 2, as illustrated in lecture. Let’s suppose that each bettor has wealth $w$. Bettor 1 believes there is a probability of 1/2 that horse A will win, and a probability of 1/2 that horse B will win. Bettor 2 believes there is a probability of 1/4 that horse A will win, and a probability\n",
    "of 3/4 that horse B will win. Both bettors have logarithmic utility for wealth, and\n",
    "they each choose bets to maximize expected utility of wealth given their beliefs.  \n",
    "\n",
    "__a)__ How much money should bettors 1 and 2 each bet on horses A and B respectively?  \n",
    "__b)__ Find the equilibrium inverse odds on horse A and on horse B.  \n",
    "__c)__ How much money will bettor 1 have after the race if horse A wins? How about if\n",
    "horse B wins?"
   ]
  },
  {
   "cell_type": "markdown",
   "metadata": {},
   "source": [
    "__1.2__  Again consider the betting market that we considered in 1.1. Let’s suppose that each bettor has wealth w. Bettor 1’s beliefs are $(a_1, b_1)$, where the first number in the pair is bettor 1’s probability of horse A winning the race.\n",
    "Both bettors have logarithmic utility for wealth. Bettor 1 chooses his bets to maximize his expected utility of wealth using his beliefs, as in the chapter. Bettor 2, however, behaves differently, he believes that the inverse odds are the correct probabilities and he maximizes his expected utility using these inverse odds.  \n",
    "__a)__ Bettor 1’s optimal bet on horse A is some function of his wealth and his beliefs.\n",
    "Let’s call this function $f_1(w, a_1)$. Determine this function.  \n",
    "__b)__ Suppose that bettor 2 knows the equilibrium inverse odds on horse A, which we\n",
    "will call $\\rho_A$. Bettor 2’s optimal bet on horse A is some function of his wealth\n",
    "and the equilibrium inverse odds on horse A. Let’s call this function $f_2(w, \\rho_A)$.\n",
    "Determine this function.  \n",
    "__c)__ Using your results from (a) and (b), compute the equilibrium inverse odds on horse A.   \n",
    "__d)__ We want to generalize this idea to many bettors. Suppose that most bettors are like bettor 2, they trust that the inverse odds are in some sense correct and they use them in deciding how to bet. Only a few bettors are like bettor 1, they have\n",
    "beliefs and they bet according to their beliefs. Would you expect the ”Wisdom of Crowds” idea to be more or less likely to be true in this market than in a market in which each bettor has beliefs and bets according to their own beliefs?"
   ]
  },
  {
   "cell_type": "markdown",
   "metadata": {},
   "source": [
    "### Task 2: A Market for Lemons\n",
    "\n",
    "__2.1__ Consider the model of the market for lemons which was presented in lecture. Suppose that there are two types of used\n",
    "cars, good ones and lemons, and that sellers know which type of car they have. Buyers\n",
    "do not know which type of car a seller has. The fraction of used cars that are good\n",
    "cars is $g$ and buyers know this fraction. Let’s suppose that a seller who has a good car\n",
    "values it at 10,000€ and that a seller with a lemon values the lemon at 4,000€. A seller\n",
    "is willing to sell his car for any price greater than or equal to his value for the car, the\n",
    "seller is not willing to sell the car at a price below the value of the car. Buyers values\n",
    "for good cars and lemons are, 12,000€ and 5,000€, respectively. Note that we assume that buyers are risk neutral, that is, they are willing to pay their expected\n",
    "value of a car.  \n",
    "__a)__ Suppose that you observe that used cars sell for a price of 10,000€. What can you\n",
    "say about the fraction of used cars that are lemons?  \n",
    "__b)__ Suppose, instead that the fraction of used cars that are lemons is $g = 0.5$. What\n",
    "is the maximum selling price for used cars?"
   ]
  },
  {
   "cell_type": "markdown",
   "metadata": {},
   "source": [
    "__2.2__ . In this question we are going to examine how a tax on the purchase of used cars might\n",
    "affect the price and quantity of used cars traded. Suppose that there are two types\n",
    "of used cars: good ones and bad ones. Sellers of used cars know the type of car that\n",
    "they own. Buyers do not know which type of car any particular seller has. Buyers do\n",
    "know that there are good and bad used cars, and they know that of the 100 people\n",
    "who own used cars and are interested in selling their car, 50 have good cars and 50\n",
    "have bad cars. Let’s suppose that there are 200 possible buyers of used cars. A seller who has a good used car values it at 8,000€ and a seller who has a bad used car values it at 3,000€. A seller is willing to sell his car for\n",
    "any price greater than or equal to his value for the car, no seller is willing to sell his\n",
    "car for a price less than his value for the car. Buyers values for good and bad used\n",
    "cars are 10,000€ and 6,000€, respectively. Again, we assume that buyers\n",
    "each want at most one used car and they are willing to pay their expected value for a\n",
    "used car. \n",
    "\n",
    "__a)__ Find all of the equilibria in the market for used cars. For each equilibrium provide\n",
    "the price of used cars and the number of used cars traded.  \n",
    "__b)__ Now suppose that the government places a tax of 100€ on the purchase of used\n",
    "cars. That is, anyone who buys a used car must pay a tax of 100€ on the purchase of\n",
    "the car. This effectively lowers the values that buyers place on any type of used car by\n",
    "100€. Find all of the equilibria in the market for used cars.\n",
    "__c)__ Now let’s change the setup of the problem a bit so that there are three types of\n",
    "used cars: good ones, bad ones and lemons. There are 50 sellers with good cars, 50\n",
    "with bad cars and 50 with lemons. Buyers and sellers values for good and bad used\n",
    "cars are the same as before. Everyone (both buyers and sellers) values a lemon at 0.\n",
    "There are still 200 buyers.  \n",
    "(i) There is no tax on the purchase of used cars. Find all\n",
    "of the equilibria in the market for used cars.  \n",
    "(ii) Now the government imposes a tax of $100 on the purchase of used cars. Find all of the equilibria in the market for used\n",
    "cars."
   ]
  },
  {
   "cell_type": "markdown",
   "metadata": {},
   "source": [
    "### Task 3: Kirman's Model\n",
    "\n",
    "Implement Kirman's model as presented in lecture, using the signature in the cell below. Note that you simulate $N$ timesteps where two ants meet, and adapt the number of ants $k$ that visit the black pile at each of these points in time depending on the given probabilities $\\epsilon$ and $\\delta$.\n",
    "Test your model by plotting the distribution of ants over time, using the given default values for $N$, $k0$, and $T$, and the following different values for $\\epsilon$ and $\\delta$ that were introduced in $\\delta$:\n",
    "1. $\\epsilon = 1/2$, $\\delta = 1$,\n",
    "2. $\\epsilon = \\delta = 0$,\n",
    "3. $\\epsilon = 0.005, \\delta = 0.01$,\n",
    "4. $\\epsilon = 0.01, \\delta = 0.02$,\n",
    "5. $\\epsilon = 0.15, \\delta = 0.3$.\n",
    "\n",
    "What do you observe in these cases?"
   ]
  },
  {
   "cell_type": "code",
   "execution_count": null,
   "metadata": {},
   "outputs": [],
   "source": [
    "import numpy as np\n",
    "\n",
    "# INPUT PARAMETERS:\n",
    "# N: number of ants\n",
    "# k0: initial number of ants\n",
    "# eps, delta: random change/herding parameter as presented in lecture\n",
    "# T: number of total timesteps\n",
    "# \n",
    "# RETURN: list K with T elements, namely the number of ants at the black pile at each timestep\n",
    "def kirman(N=100, k0=50, eps = 0.01, delta=0.1, T=10000):\n",
    "   # your code here"
   ]
  },
  {
   "cell_type": "code",
   "execution_count": null,
   "metadata": {},
   "outputs": [],
   "source": []
  }
 ],
 "metadata": {
  "kernelspec": {
   "display_name": "Python 3",
   "language": "python",
   "name": "python3"
  },
  "language_info": {
   "codemirror_mode": {
    "name": "ipython",
    "version": 3
   },
   "file_extension": ".py",
   "mimetype": "text/x-python",
   "name": "python",
   "nbconvert_exporter": "python",
   "pygments_lexer": "ipython3",
   "version": "3.7.3"
  }
 },
 "nbformat": 4,
 "nbformat_minor": 2
}
