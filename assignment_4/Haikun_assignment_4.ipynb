{
 "cells": [
  {
   "cell_type": "markdown",
   "metadata": {},
   "source": [
    "## Home Assignment 4\n",
    "\n",
    "Submit your solution via Moodle until 23.59pm on Wednesday, January 22nd. Late submissions are accepted for 12 hours following the deadline, with 1/3 of the total possible points deducted from the score.\n",
    "\n",
    "Submit your solutions in teams of up 2-3 members. **Single student submissions will not be graded anymore**.\n",
    "Please denote all members of the team with their student ID and full name in the notebook. In this home assignment, you only have to submit a .ipynb notebook. Do not submit anything else than this file!\n",
    "\n",
    "Cite ALL your sources for coding this home assignment. In case of plagiarism (copying solutions from other teams or from the internet) ALL team members will be expelled from the course without warning."
   ]
  },
  {
   "cell_type": "markdown",
   "metadata": {},
   "source": [
    "##### List team members, including all student IDs here:\n",
    "1. Student 1 (123456)\n",
    "2. Student 2 (123457)\n",
    "3. (optional) Student 3 (123458)"
   ]
  },
  {
   "cell_type": "code",
   "execution_count": 1,
   "metadata": {},
   "outputs": [],
   "source": [
    "import numpy as np\n",
    "import networkx as nx"
   ]
  },
  {
   "cell_type": "markdown",
   "metadata": {},
   "source": [
    "### Task 1: Robustness Attacks (2 pts)\n"
   ]
  },
  {
   "cell_type": "markdown",
   "metadata": {},
   "source": [
    "#### a) Random Attacks (0.5 pts)\n",
    "\n",
    "Implement a function that performs a random attack of deleting $n$ nodes on a given graph. Use the signature in the cell below."
   ]
  },
  {
   "cell_type": "code",
   "execution_count": 56,
   "metadata": {},
   "outputs": [],
   "source": [
    "# INPUT VALUES\n",
    "# G: networkx Graph\n",
    "# n: number of deleted nodes\n",
    "# \n",
    "# return G without deleted nodes\n",
    "\n",
    "def random_attack(G,n):\n",
    "    #your code here"
   ]
  },
  {
   "cell_type": "markdown",
   "metadata": {},
   "source": [
    "#### b) Targeted Attacks  (0.5 pts)\n",
    "\n",
    "Implement a function that performs a targeted attack of deleting the $n$ highest-degree nodes on a given graph. Use the signature in the cell below."
   ]
  },
  {
   "cell_type": "code",
   "execution_count": 20,
   "metadata": {},
   "outputs": [],
   "source": [
    "# INPUT VALUES\n",
    "# G: networkx Graph\n",
    "# n: number of deleted nodes\n",
    "#\n",
    "# return G without deleted nodes\n",
    "\n",
    "def target_attack(G,n):\n",
    "    # your code here"
   ]
  },
  {
   "cell_type": "markdown",
   "metadata": {},
   "source": [
    "#### c) Attacking Empirical and Random Graphs (1 pt)\n",
    "\n",
    "Create an Erdos-Renyi and a Barabasi-Albert graph with 1000 nodes and average degree 2.\n",
    "\n",
    "For both graphs and attack types, conduct 50 consecutive attacks of removing 10 nodes, and plot the number of removed nodes against the share of the biggest connected component in the graph. For each graph, include the curves of both attacks in the same plot. What do you observe?"
   ]
  },
  {
   "cell_type": "code",
   "execution_count": null,
   "metadata": {},
   "outputs": [],
   "source": []
  },
  {
   "cell_type": "code",
   "execution_count": null,
   "metadata": {},
   "outputs": [],
   "source": []
  },
  {
   "cell_type": "markdown",
   "metadata": {},
   "source": [
    "###  Task 2: Schelling's Model of Segregation            (3 pts)\n",
    "\n",
    "In this task we implement a simulation of Schelling's model of segregation.  \n",
    "A concise explanation on how the model is specified as well as another simulation can, for instance, be found here:\n",
    "\n",
    "http://nifty.stanford.edu/2014/mccown-schelling-model-segregation/"
   ]
  },
  {
   "cell_type": "markdown",
   "metadata": {},
   "source": [
    "#### a) Grid creation (0.25 pts)\n",
    "Using the signature in the cell below, write a function that returns a numpy array of the given shape (rows, columns). Cells with a red agent should be marked with the value 1, cells with a blue agent with value 2, empty cells with a 0."
   ]
  },
  {
   "cell_type": "code",
   "execution_count": 14,
   "metadata": {},
   "outputs": [
    {
     "name": "stdout",
     "output_type": "stream",
     "text": [
      "[[1. 2. 0. ... 2. 1. 1.]\n",
      " [1. 1. 2. ... 1. 1. 2.]\n",
      " [2. 2. 0. ... 1. 1. 0.]\n",
      " ...\n",
      " [1. 1. 1. ... 2. 0. 1.]\n",
      " [1. 2. 1. ... 1. 1. 1.]\n",
      " [1. 0. 0. ... 1. 0. 2.]]\n"
     ]
    }
   ],
   "source": [
    "# INPUT VALUES:\n",
    "# shape: integer tuple, shape of grid\n",
    "# share_red: percent share of red nodes in the data\n",
    "# share_blue: percent share of blue nodes in the data \n",
    "# -> note that blue+red shares should be <1 aas empty cell are needed\n",
    "\n",
    "import random\n",
    "\n",
    "def create_grid (shape, share_red, share_blue):\n",
    "    # your code here\n",
    "    shape_x = shape[0]\n",
    "    shape_y = shape[1]\n",
    "    tmap = np.zeros((shape_x,shape_y))\n",
    "    num_red = shape_x*shape_y*share_red\n",
    "    num_blue = shape_x*shape_y*share_blue\n",
    "    \n",
    "    while(num_red != 0):\n",
    "        p_x = random.randint(0, shape_x-1)\n",
    "        p_y = random.randint(0, shape_y-1)\n",
    "        if tmap[p_x,p_y] == 0:\n",
    "            tmap[p_x,p_y] = 1\n",
    "            num_red = num_red-1\n",
    "            \n",
    "    while(num_blue != 0):\n",
    "        p_x = random.randint(0, shape_x-1)\n",
    "        p_y = random.randint(0, shape_y-1)\n",
    "        if tmap[p_x,p_y] == 0:\n",
    "            tmap[p_x,p_y] = 2\n",
    "            num_blue = num_blue-1\n",
    "            \n",
    "    print(tmap)\n",
    "    \n",
    "create_grid((60,70),0.5,0.3)"
   ]
  },
  {
   "cell_type": "markdown",
   "metadata": {},
   "source": [
    "#### b) Visualization (0.25 pts)\n",
    "\n",
    "Write a function that takes a numpy grid and plots it. We recommend to use matplotlib for this"
   ]
  },
  {
   "cell_type": "code",
   "execution_count": null,
   "metadata": {},
   "outputs": [],
   "source": [
    "# grid: 2D numpy array\n",
    "import matplotlib.pyplot as plt\n",
    "plt.ion()\n",
    "plt.figure()\n",
    "\n",
    "def visualize(grid):\n",
    "    # your code here"
   ]
  },
  {
   "cell_type": "markdown",
   "metadata": {},
   "source": [
    "#### c) Simulating the model (1.5 pts)\n",
    "\n",
    "Write a function that performs a full simulation of Schelling's model given a specific initial state, by performing steps until the maximum number of steps is reached or there was no change for the given amount of steps. Every n_viz steps, as well as at the very end, a visualization of the model should be plotted.\n",
    "Use a model where in case that a particular agent is unhappy, he moves a to a randomly chosen vacant place."
   ]
  },
  {
   "cell_type": "code",
   "execution_count": null,
   "metadata": {},
   "outputs": [],
   "source": [
    "# INPUT VALUES: \n",
    "# grid: initial grid to start simulation with (2D numpy array)\n",
    "# pp: preferred poportion of neighbors of own class\n",
    "# n_max: maximum number of iteration steps\n",
    "# no_changes_steps: number of simulation steps after which one has to stop if no change in the grid occurs\n",
    "# n_viz: number of iteration steps after which current state is plotted\n",
    "\n",
    "# RETURN:\n",
    "# final_grid: 2D numpy array representing the grid at the end of your simulation\n",
    "\n",
    "def simulate(grid, preferred_proportion, n_max, no_changes_steps, n_viz):\n",
    "    # your code here\n",
    "    return final_grid"
   ]
  },
  {
   "cell_type": "markdown",
   "metadata": {},
   "source": [
    "#### d) Model Extension (1 pt)\n",
    "\n",
    "Adaptt your functions such that they support multiple groups (instead of just red and blue), and each group can have a separate preferred proportion. Use the signatures from the cells below, where changes from the signatures in 2c) are explained."
   ]
  },
  {
   "cell_type": "code",
   "execution_count": null,
   "metadata": {},
   "outputs": [],
   "source": [
    "# shares: list of shares for each color, entries in return matrix from 0 (empty cell) to number of colors.\n",
    "def create_grid_ext(shape, shares):\n",
    "    # your code here"
   ]
  },
  {
   "cell_type": "code",
   "execution_count": null,
   "metadata": {},
   "outputs": [],
   "source": [
    "# adapt color selection\n",
    "def visualize_ext(grid):\n",
    "# your code here"
   ]
  },
  {
   "cell_type": "code",
   "execution_count": null,
   "metadata": {},
   "outputs": [],
   "source": [
    "# preferred_proportions: give a list of preferred proportions for each color\n",
    "def simulate_ext(grid, preferred_proportion, max_steps, no_changes_steps, iterations_to_next_vizualization):\n",
    "    # your coder here"
   ]
  }
 ],
 "metadata": {
  "kernelspec": {
   "display_name": "Python 3",
   "language": "python",
   "name": "python3"
  },
  "language_info": {
   "codemirror_mode": {
    "name": "ipython",
    "version": 3
   },
   "file_extension": ".py",
   "mimetype": "text/x-python",
   "name": "python",
   "nbconvert_exporter": "python",
   "pygments_lexer": "ipython3",
   "version": "3.7.0"
  },
  "toc": {
   "base_numbering": 1,
   "nav_menu": {},
   "number_sections": true,
   "sideBar": true,
   "skip_h1_title": false,
   "title_cell": "Table of Contents",
   "title_sidebar": "Contents",
   "toc_cell": false,
   "toc_position": {},
   "toc_section_display": true,
   "toc_window_display": false
  }
 },
 "nbformat": 4,
 "nbformat_minor": 2
}
