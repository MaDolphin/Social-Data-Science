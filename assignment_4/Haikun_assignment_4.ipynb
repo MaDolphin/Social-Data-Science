{
 "cells": [
  {
   "cell_type": "markdown",
   "metadata": {},
   "source": [
    "## Home Assignment 4\n",
    "\n",
    "Submit your solution via Moodle until 23.59pm on Wednesday, January 22nd. Late submissions are accepted for 12 hours following the deadline, with 1/3 of the total possible points deducted from the score.\n",
    "\n",
    "Submit your solutions in teams of up 2-3 members. **Single student submissions will not be graded anymore**.\n",
    "Please denote all members of the team with their student ID and full name in the notebook. In this home assignment, you only have to submit a .ipynb notebook. Do not submit anything else than this file!\n",
    "\n",
    "Cite ALL your sources for coding this home assignment. In case of plagiarism (copying solutions from other teams or from the internet) ALL team members will be expelled from the course without warning."
   ]
  },
  {
   "cell_type": "markdown",
   "metadata": {},
   "source": [
    "##### List team members, including all student IDs here:\n",
    "1. Student 1 (123456)\n",
    "2. Student 2 (123457)\n",
    "3. (optional) Student 3 (123458)"
   ]
  },
  {
   "cell_type": "code",
   "execution_count": 1,
   "metadata": {},
   "outputs": [],
   "source": [
    "import numpy as np\n",
    "import networkx as nx"
   ]
  },
  {
   "cell_type": "markdown",
   "metadata": {},
   "source": [
    "### Task 1: Robustness Attacks (2 pts)\n"
   ]
  },
  {
   "cell_type": "markdown",
   "metadata": {},
   "source": [
    "#### a) Random Attacks (0.5 pts)\n",
    "\n",
    "Implement a function that performs a random attack of deleting $n$ nodes on a given graph. Use the signature in the cell below."
   ]
  },
  {
   "cell_type": "code",
   "execution_count": 56,
   "metadata": {},
   "outputs": [],
   "source": [
    "# INPUT VALUES\n",
    "# G: networkx Graph\n",
    "# n: number of deleted nodes\n",
    "# \n",
    "# return G without deleted nodes\n",
    "\n",
    "def random_attack(G,n):\n",
    "    #your code here"
   ]
  },
  {
   "cell_type": "markdown",
   "metadata": {},
   "source": [
    "#### b) Targeted Attacks  (0.5 pts)\n",
    "\n",
    "Implement a function that performs a targeted attack of deleting the $n$ highest-degree nodes on a given graph. Use the signature in the cell below."
   ]
  },
  {
   "cell_type": "code",
   "execution_count": 20,
   "metadata": {},
   "outputs": [],
   "source": [
    "# INPUT VALUES\n",
    "# G: networkx Graph\n",
    "# n: number of deleted nodes\n",
    "#\n",
    "# return G without deleted nodes\n",
    "\n",
    "def target_attack(G,n):\n",
    "    # your code here"
   ]
  },
  {
   "cell_type": "markdown",
   "metadata": {},
   "source": [
    "#### c) Attacking Empirical and Random Graphs (1 pt)\n",
    "\n",
    "Create an Erdos-Renyi and a Barabasi-Albert graph with 1000 nodes and average degree 2.\n",
    "\n",
    "For both graphs and attack types, conduct 50 consecutive attacks of removing 10 nodes, and plot the number of removed nodes against the share of the biggest connected component in the graph. For each graph, include the curves of both attacks in the same plot. What do you observe?"
   ]
  },
  {
   "cell_type": "code",
   "execution_count": null,
   "metadata": {},
   "outputs": [],
   "source": []
  },
  {
   "cell_type": "code",
   "execution_count": null,
   "metadata": {},
   "outputs": [],
   "source": []
  },
  {
   "cell_type": "markdown",
   "metadata": {},
   "source": [
    "###  Task 2: Schelling's Model of Segregation            (3 pts)\n",
    "\n",
    "In this task we implement a simulation of Schelling's model of segregation.  \n",
    "A concise explanation on how the model is specified as well as another simulation can, for instance, be found here:\n",
    "\n",
    "http://nifty.stanford.edu/2014/mccown-schelling-model-segregation/"
   ]
  },
  {
   "cell_type": "markdown",
   "metadata": {},
   "source": [
    "#### a) Grid creation (0.25 pts)\n",
    "Using the signature in the cell below, write a function that returns a numpy array of the given shape (rows, columns). Cells with a red agent should be marked with the value 1, cells with a blue agent with value 2, empty cells with a 0."
   ]
  },
  {
   "cell_type": "code",
   "execution_count": 2,
   "metadata": {},
   "outputs": [],
   "source": [
    "%matplotlib inline\n",
    "import numpy as np\n",
    "import random\n",
    "\n",
    "# INPUT VALUES:\n",
    "# shape: integer tuple, shape of grid\n",
    "# share_red: percent share of red nodes in the data\n",
    "# share_blue: percent share of blue nodes in the data \n",
    "# -> note that blue+red shares should be <1 aas empty cell are needed\n",
    "def create_grid (shape, share_red, share_blue):\n",
    "    # your code here\n",
    "    shape_x = shape[0]\n",
    "    shape_y = shape[1]\n",
    "    tmap = np.zeros((shape_x,shape_y))\n",
    "    num_red = int(shape_x*shape_y*share_red)\n",
    "    num_blue = int(shape_x*shape_y*share_blue)\n",
    "    \n",
    "    while(num_red != 0):\n",
    "        p_x = random.randint(0, shape_x-1)\n",
    "        p_y = random.randint(0, shape_y-1)\n",
    "        if tmap[p_x,p_y] == 0:\n",
    "            tmap[p_x,p_y] = 1\n",
    "            num_red = num_red-1\n",
    "            \n",
    "    while(num_blue != 0):\n",
    "        p_x = random.randint(0, shape_x-1)\n",
    "        p_y = random.randint(0, shape_y-1)\n",
    "        if tmap[p_x,p_y] == 0:\n",
    "            tmap[p_x,p_y] = 2\n",
    "            num_blue = num_blue-1\n",
    "            \n",
    "    return tmap\n",
    "    \n",
    "# create_grid((60,70),0.5,0.3)"
   ]
  },
  {
   "cell_type": "markdown",
   "metadata": {},
   "source": [
    "#### b) Visualization (0.25 pts)\n",
    "\n",
    "Write a function that takes a numpy grid and plots it. We recommend to use matplotlib for this"
   ]
  },
  {
   "cell_type": "code",
   "execution_count": 3,
   "metadata": {},
   "outputs": [
    {
     "data": {
      "image/png": "[encoded data removed]",
      "text/plain": [
       "<Figure size 1440x720 with 1 Axes>"
      ]
     },
     "metadata": {
      "needs_background": "light"
     },
     "output_type": "display_data"
    }
   ],
   "source": [
    "%matplotlib inline\n",
    "import matplotlib.pyplot as plt\n",
    "from matplotlib.colors import LinearSegmentedColormap\n",
    "\n",
    "# grid: 2D numpy array\n",
    "def visualize(grid):\n",
    "    # your code here\n",
    "    colors = [(1, 0, 0), (0, 0, 1)]\n",
    "    cm = LinearSegmentedColormap.from_list('RaB', colors)\n",
    "    grid[grid==0] = None\n",
    "    plt.figure(figsize=(20,10))\n",
    "    plt.imshow(grid, cmap=cm, interpolation='nearest')\n",
    "    plt.show()\n",
    "\n",
    "visualize(create_grid((30,30),0.5,0.3))\n"
   ]
  },
  {
   "cell_type": "markdown",
   "metadata": {},
   "source": [
    "#### c) Simulating the model (1.5 pts)\n",
    "\n",
    "Write a function that performs a full simulation of Schelling's model given a specific initial state, by performing steps until the maximum number of steps is reached or there was no change for the given amount of steps. Every n_viz steps, as well as at the very end, a visualization of the model should be plotted.\n",
    "Use a model where in case that a particular agent is unhappy, he moves a to a randomly chosen vacant place."
   ]
  },
  {
   "cell_type": "code",
   "execution_count": 4,
   "metadata": {
    "scrolled": false
   },
   "outputs": [
    {
     "name": "stdout",
     "output_type": "stream",
     "text": [
      "Using matplotlib backend: MacOSX\n",
      "Iteration number is 86\n",
      "END\n"
     ]
    },
    {
     "data": {
      "image/png": "[encoded data removed]",
      "text/plain": [
       "<Figure size 2880x1440 with 1 Axes>"
      ]
     },
     "metadata": {
      "needs_background": "light"
     },
     "output_type": "display_data"
    }
   ],
   "source": [
    "%matplotlib auto\n",
    "import matplotlib.pyplot as plt\n",
    "from matplotlib.colors import LinearSegmentedColormap\n",
    "import copy\n",
    "\n",
    "def is_move_neighbors(matrix, row, col, percent):\n",
    "    val_point = matrix[row,col]\n",
    "    \n",
    "    list_neighbors = []\n",
    "    for i in row-1, row, row+1:\n",
    "        if i < 0 or i == len(matrix): continue\n",
    "        for j in col-1, col, col+1:\n",
    "            if j < 0 or j == len(matrix[i]): continue\n",
    "            if i == row and j == col: continue\n",
    "            if matrix[i,j] != 0:\n",
    "                list_neighbors.append(matrix[i,j])\n",
    "\n",
    "    count_point = list_neighbors.count(val_point)\n",
    "    if len(list_neighbors) == 0:\n",
    "        return True\n",
    "    percent_point = count_point/len(list_neighbors)\n",
    "    \n",
    "    if percent_point < percent:\n",
    "        return True\n",
    "    else:\n",
    "        return False\n",
    "    \n",
    "    \n",
    "def show_grid(plt,grid,cm):\n",
    "    plt.clf()\n",
    "    show_grid = copy.deepcopy(grid)\n",
    "    show_grid[show_grid==0] = None\n",
    "    plt.imshow(show_grid, cmap=cm, interpolation='nearest')\n",
    "    plt.draw()\n",
    "    plt.pause(0.001)\n",
    "\n",
    "# INPUT VALUES: \n",
    "# grid: initial grid to start simulation with (2D numpy array)\n",
    "# pp: preferred poportion of neighbors of own class\n",
    "# n_max: maximum number of iteration steps\n",
    "# no_changes_steps: number of simulation steps after which one has to stop if no change in the grid occurs\n",
    "# n_viz: number of iteration steps after which current state is plotted\n",
    "\n",
    "# RETURN:\n",
    "# final_grid: 2D numpy array representing the grid at the end of your simulation\n",
    "\n",
    "def simulate(grid, preferred_proportion, n_max, no_changes_steps, n_viz):\n",
    "    # your code here\n",
    "    \n",
    "    plt.ion()\n",
    "    plt.figure(figsize=(20,10))\n",
    "    colors = [(1, 0, 0), (0, 0, 1)]\n",
    "    cm = LinearSegmentedColormap.from_list('RaB', colors)\n",
    "        \n",
    "    show_grid(plt,grid,cm)\n",
    "\n",
    "    num_no_changes_steps = 0\n",
    "    flag_changes_steps = False\n",
    "    num_viz = 0\n",
    "    [rows, cols] = grid.shape\n",
    "    \n",
    "    for it in range(n_max):\n",
    "        if num_no_changes_steps != no_changes_steps:   \n",
    "            for i in range(rows):\n",
    "                for j in range(cols):\n",
    "                    val_point = grid[i,j]\n",
    "                    if val_point != 0 :\n",
    "                        if is_move_neighbors(grid,i,j,preferred_proportion) == True:\n",
    "                            list_grid_zero = np.where(grid == 0)  \n",
    "                            rand = random.randint(0, len(list_grid_zero[0])-1)\n",
    "                            rand_row = list_grid_zero[0][rand]\n",
    "                            rand_col = list_grid_zero[1][rand]\n",
    "                            grid[rand_row,rand_col] = val_point\n",
    "                            grid[i,j] = 0\n",
    "                            flag_changes_steps = True\n",
    "            \n",
    "            if flag_changes_steps == False:\n",
    "                num_no_changes_steps = num_no_changes_steps + 1\n",
    "#                 print(it, num_no_changes_steps)\n",
    "            else:\n",
    "                flag_changes_steps = False\n",
    "            \n",
    "            num_viz = num_viz + 1 \n",
    "            if num_viz == n_viz:\n",
    "\n",
    "                show_grid(plt,grid,cm)\n",
    "                \n",
    "                num_viz = 0\n",
    "        else:\n",
    "            break\n",
    "            \n",
    "    final_grid = grid\n",
    "    \n",
    "    show_grid(plt,grid,cm)\n",
    "    \n",
    "    plt.ioff()\n",
    "    print(\"Iteration number is\", it+1-num_no_changes_steps)\n",
    "    print(\"END\")\n",
    "    return final_grid\n",
    "\n",
    "init_grid = create_grid((30,30),0.5,0.4)\n",
    "final_grid = simulate(grid=init_grid, preferred_proportion=0.69, n_max=200, no_changes_steps=10, n_viz=1)"
   ]
  },
  {
   "cell_type": "markdown",
   "metadata": {},
   "source": [
    "#### d) Model Extension (1 pt)\n",
    "\n",
    "Adaptt your functions such that they support multiple groups (instead of just red and blue), and each group can have a separate preferred proportion. Use the signatures from the cells below, where changes from the signatures in 2c) are explained."
   ]
  },
  {
   "cell_type": "code",
   "execution_count": 5,
   "metadata": {},
   "outputs": [],
   "source": [
    "# shares: list of shares for each color, entries in return matrix from 0 (empty cell) to number of colors.\n",
    "def create_grid_ext(shape, shares):\n",
    "    # your code here\n",
    "    shape_x = shape[0]\n",
    "    shape_y = shape[1]\n",
    "    tmap = np.zeros((shape_x,shape_y))\n",
    "    \n",
    "    list_number = []\n",
    "    for percent in shares:\n",
    "        list_number.append(int(shape_x*shape_y*percent))\n",
    "\n",
    "    num_item = 1\n",
    "    for t in list_number:\n",
    "        count = t\n",
    "        while(count != 0):\n",
    "            p_x = random.randint(0, shape_x-1)\n",
    "            p_y = random.randint(0, shape_y-1)\n",
    "            if tmap[p_x,p_y] == 0:\n",
    "                tmap[p_x,p_y] = num_item\n",
    "                count = count - 1\n",
    "        num_item = num_item + 1\n",
    "        \n",
    "    return tmap\n"
   ]
  },
  {
   "cell_type": "code",
   "execution_count": 6,
   "metadata": {},
   "outputs": [
    {
     "data": {
      "image/png": "[encoded data removed]",
      "text/plain": [
       "<Figure size 1440x720 with 1 Axes>"
      ]
     },
     "metadata": {
      "needs_background": "light"
     },
     "output_type": "display_data"
    }
   ],
   "source": [
    "%matplotlib inline\n",
    "\n",
    "# adapt color selection\n",
    "def visualize_ext(grid):\n",
    "    # your code here\n",
    "    grid[grid==0] = None\n",
    "    plt.figure(figsize=(20,10))\n",
    "    plt.imshow(grid, cmap='tab20', interpolation='nearest')\n",
    "    plt.show()\n",
    "    \n",
    "color_shares = [0.2, 0.3, 0.1, 0.05]\n",
    "init_grid = create_grid_ext((40,40), color_shares)\n",
    "visualize_ext(init_grid)"
   ]
  },
  {
   "cell_type": "code",
   "execution_count": 7,
   "metadata": {},
   "outputs": [
    {
     "name": "stdout",
     "output_type": "stream",
     "text": [
      "Using matplotlib backend: MacOSX\n",
      "Iteration number is 37\n",
      "END\n"
     ]
    },
    {
     "data": {
      "image/png": "[encoded data removed]",
      "text/plain": [
       "<Figure size 2880x1440 with 1 Axes>"
      ]
     },
     "metadata": {
      "needs_background": "light"
     },
     "output_type": "display_data"
    }
   ],
   "source": [
    "%matplotlib auto\n",
    "# preferred_proportions: give a list of preferred proportions for each color\n",
    "\n",
    "def is_move_neighbors_ext(matrix, row, col, percent):\n",
    "    val_point = matrix[row,col]\n",
    "#     print(val_point)\n",
    "    list_neighbors = []\n",
    "    for i in row-1, row, row+1:\n",
    "        if i < 0 or i == len(matrix): continue\n",
    "        for j in col-1, col, col+1:\n",
    "            if j < 0 or j == len(matrix[i]): continue\n",
    "            if i == row and j == col: continue\n",
    "            if matrix[i,j] != 0:\n",
    "                list_neighbors.append(matrix[i,j])\n",
    "\n",
    "    count_point = list_neighbors.count(val_point)\n",
    "    if len(list_neighbors) == 0:\n",
    "        return True\n",
    "    percent_point = count_point/len(list_neighbors)\n",
    "    \n",
    "#     print()\n",
    "    \n",
    "    if percent_point < percent[int(val_point-1)]:\n",
    "        return True\n",
    "    else:\n",
    "        return False\n",
    "\n",
    "\n",
    "def show_grid_ext(plt,grid):\n",
    "    plt.clf()\n",
    "    show_grid = copy.deepcopy(grid)\n",
    "    show_grid[show_grid==0] = None\n",
    "    plt.imshow(show_grid, cmap='tab20', interpolation='nearest')\n",
    "    plt.draw()\n",
    "    plt.pause(0.001)\n",
    "\n",
    "\n",
    "def simulate_ext(grid, preferred_proportion, max_steps, no_changes_steps, iterations_to_next_vizualization):\n",
    "    n_max = max_steps\n",
    "    n_viz = iterations_to_next_vizualization\n",
    "    \n",
    "    plt.ion()\n",
    "    plt.figure(figsize=(20,10))\n",
    "        \n",
    "    show_grid_ext(plt,grid)\n",
    "\n",
    "    num_no_changes_steps = 0\n",
    "    flag_changes_steps = False\n",
    "    num_viz = 0\n",
    "    [rows, cols] = grid.shape\n",
    "    \n",
    "    for it in range(n_max):\n",
    "        if num_no_changes_steps != no_changes_steps:   \n",
    "            for i in range(rows):\n",
    "                for j in range(cols):\n",
    "                    val_point = grid[i,j]\n",
    "                    if val_point != 0 :\n",
    "                        if is_move_neighbors_ext(grid,i,j,preferred_proportion) == True:\n",
    "                            list_grid_zero = np.where(grid == 0)\n",
    "                            rand = random.randint(0, len(list_grid_zero[0])-1)\n",
    "                            rand_row = list_grid_zero[0][rand]\n",
    "                            rand_col = list_grid_zero[1][rand]\n",
    "                            grid[rand_row,rand_col] = val_point\n",
    "                            grid[i,j] = 0\n",
    "                            flag_changes_steps = True\n",
    "            \n",
    "            if flag_changes_steps == False:\n",
    "                num_no_changes_steps = num_no_changes_steps + 1\n",
    "#                 print(it, num_no_changes_steps)\n",
    "            else:\n",
    "                flag_changes_steps = False\n",
    "            \n",
    "            num_viz = num_viz + 1 \n",
    "            if num_viz == n_viz:\n",
    "\n",
    "                show_grid_ext(plt,grid)\n",
    "                \n",
    "                num_viz = 0\n",
    "        else:\n",
    "            break\n",
    "            \n",
    "    final_grid = grid\n",
    "    \n",
    "    show_grid_ext(plt,grid)\n",
    "    \n",
    "    plt.ioff()\n",
    "    print(\"Iteration number is\", it+1-num_no_changes_steps)\n",
    "    print(\"END\")\n",
    "    return final_grid\n",
    "\n",
    "color_shares = [0.2, 0.3, 0.1, 0.05]\n",
    "init_grid = create_grid_ext((40,40), color_shares)\n",
    "pp = [0.5, 0.6, 0.6, 0.4]\n",
    "final_grid = simulate_ext(grid=init_grid, preferred_proportion=pp, max_steps=500, no_changes_steps=10, iterations_to_next_vizualization=1)\n",
    "    "
   ]
  },
  {
   "cell_type": "code",
   "execution_count": null,
   "metadata": {},
   "outputs": [],
   "source": []
  }
 ],
 "metadata": {
  "kernelspec": {
   "display_name": "Python 3",
   "language": "python",
   "name": "python3"
  },
  "language_info": {
   "codemirror_mode": {
    "name": "ipython",
    "version": 3
   },
   "file_extension": ".py",
   "mimetype": "text/x-python",
   "name": "python",
   "nbconvert_exporter": "python",
   "pygments_lexer": "ipython3",
   "version": "3.7.0"
  },
  "toc": {
   "base_numbering": 1,
   "nav_menu": {},
   "number_sections": true,
   "sideBar": true,
   "skip_h1_title": false,
   "title_cell": "Table of Contents",
   "title_sidebar": "Contents",
   "toc_cell": false,
   "toc_position": {},
   "toc_section_display": true,
   "toc_window_display": false
  }
 },
 "nbformat": 4,
 "nbformat_minor": 2
}
