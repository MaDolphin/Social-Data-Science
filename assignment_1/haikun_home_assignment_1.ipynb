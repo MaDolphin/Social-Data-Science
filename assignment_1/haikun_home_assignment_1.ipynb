{
 "cells": [
  {
   "cell_type": "markdown",
   "metadata": {},
   "source": [
    "Social Data Science WS19/20\n",
    "\n",
    "# Home Assignment 1\n",
    "\n"
   ]
  },
  {
   "cell_type": "markdown",
   "metadata": {},
   "source": [
    "Submit your solution via Moodle until 23.59pm on Wednesday, November 6th. Late submissions are accepted for 12 hours following the deadline, with 1/3 of the total possible points deducted from the score.\n",
    "\n",
    "You can (and should!) submit solutions in teams of up 2-3 members.\n",
    "Please denote all members of the team with their student id and full name in the notebook. Please submit only one notebook per team. Only submit a notebook, do not submit the dataset(s) you used.\n",
    "\n",
    "Cite ALL your sources for coding this home assignment. In case of plagiarism (copying solutions from other teams or from the internet) ALL team members will be expelled from the course without warning."
   ]
  },
  {
   "cell_type": "markdown",
   "metadata": {},
   "source": [
    "##### List team members, including all student IDs here:\n",
    "1. Student 1 (123456)\n",
    "2. Student 2 (123457)\n",
    "3. (optional) Student 3 (123458)"
   ]
  },
  {
   "cell_type": "markdown",
   "metadata": {},
   "source": [
    "## Exploring the Quality of Government Dataset\n",
    "\n",
    "In this home assignment we are going to explore the 2019 Quality of Government dataset(s) that has been assembled by the QOG institute from University of Gothenburg.\n",
    "All data as well as documentation can be found here: https://www.qogdata.pol.gu.se/data/\n",
    "\n",
    "Note that we only consider the data that has been published in January 2019, i.e. the data files that contain the suffix \"jan19\". Do NOT use any other dataset other than those that can be found in this online repo, except for the data file that we refer to in task 1."
   ]
  },
  {
   "cell_type": "markdown",
   "metadata": {},
   "source": [
    "#### Coding guidelines:\n",
    "* Make sure that your code is executable, any task for which the code does directly not run on our machine will be graded with 0 points.\n",
    "* In that regard, do not rename the dataset you use, and load it from the same directory that your ipynb-notebook is located in, i.e., your working directory. In particular, when loading your file via a pandas or numpy command, make sure that it has the form `pd.read_csv(\"qog_file.csv\")` instead of `pd.read_csv(\"C:/User/Path/to/your/Homework/qog_file.csv\")` so that the code directly works from our machines.\n",
    "* Make sure you clean up your code before submission, e.g., properly align your code, and delete every line of code that you do not need anymore, even if you may have experimented with it\n",
    "* Feel free to use comments in the code. While we do not require them to get full marks, they may help us in case your code has minor errors\n",
    "* You may create as many additional cells as you want, just make sure that the solutions to the individual tasks can be found near the corresponding assignment.\n",
    "\n",
    "#### Plotting guidelines:\n",
    "* For both visualization tasks, you may only create ONE graphic. Thus, if you want to convey much information, think properly about how you can approach this. If you have more than one visualization per task, we will only count the LAST one. You may however use auxiliary plots or textual outputs to illustrate how you came to your final plot. \n",
    "* To get full marks for your plots, we require that you consider the principles taught in lecture. In particular, your plot and the message they convey should be easy to understand. No chart-junk. Optimize the data to ink ratio!\n",
    "* Write a brief summary (<=5 sentences) of your plot in a markdown cell directly below it. \n",
    "* Make sure you also pay attention to details such as properly calibrated axes, understandable labels, properly placed legends, etc."
   ]
  },
  {
   "cell_type": "code",
   "execution_count": 1,
   "metadata": {},
   "outputs": [],
   "source": [
    "# General preprocessing may go here\n",
    "import numpy as np\n",
    "import pandas as pd\n",
    "import math\n",
    "import seaborn as sns\n",
    "import matplotlib.pyplot as plt\n",
    "from scipy import stats\n",
    "import geopandas\n",
    "from mpl_toolkits.axes_grid1 import make_axes_locatable"
   ]
  },
  {
   "cell_type": "markdown",
   "metadata": {},
   "source": [
    "### Task 1: Analyzing Life Expectancy (2 pts)\n",
    "\n",
    "It is widely known that in most countries in Africa, the life expectancy is much lower than in well-developed countries such as Germany. In this first part of the homework, we are looking into this issue.\n",
    "\n",
    "We are going to investigate differences with respect to continents, and we consider five continents: Africa, Americas, Asia, Europe, Oceania. We use the following reference allocation from countries to continents:  \n",
    "https://github.com/lukes/ISO-3166-Countries-with-Regional-Codes/blob/master/all/all.csv\n",
    "\n",
    "Note that loading this file into your notebook will also yield the easiest way to add continent information to the QOG data. Again, keep the existing file name \"all.csv\"."
   ]
  },
  {
   "cell_type": "code",
   "execution_count": 2,
   "metadata": {},
   "outputs": [
    {
     "name": "stdout",
     "output_type": "stream",
     "text": [
      "     ccode        cname ccodealp  ccodecow  ccodewb        version  aid_cpnc  \\\n",
      "0        4  Afghanistan      AFG     700.0      4.0  QoGStdCSJan19       NaN   \n",
      "1        8      Albania      ALB     339.0      8.0  QoGStdCSJan19       NaN   \n",
      "2       12      Algeria      DZA     615.0     12.0  QoGStdCSJan19       NaN   \n",
      "3       20      Andorra      AND     232.0     20.0  QoGStdCSJan19       NaN   \n",
      "4       24       Angola      AGO     540.0     24.0  QoGStdCSJan19       NaN   \n",
      "..     ...          ...      ...       ...      ...            ...       ...   \n",
      "189    860   Uzbekistan      UZB     704.0    860.0  QoGStdCSJan19       NaN   \n",
      "190    862    Venezuela      VEN     101.0    862.0  QoGStdCSJan19       NaN   \n",
      "191    882        Samoa      WSM     990.0    882.0  QoGStdCSJan19       NaN   \n",
      "192    887        Yemen      YEM     679.0    887.0  QoGStdCSJan19       NaN   \n",
      "193    894       Zambia      ZMB     551.0    894.0  QoGStdCSJan19       NaN   \n",
      "\n",
      "     aid_cpsc  aid_crnc  aid_crnio  ...  alpha-2  alpha-3  country-code  \\\n",
      "0         NaN      29.0       13.0  ...       AF      AFG             4   \n",
      "1         NaN      26.0       13.0  ...       AL      ALB             8   \n",
      "2         NaN      21.0        6.0  ...       DZ      DZA            12   \n",
      "3         NaN       NaN        NaN  ...       AD      AND            20   \n",
      "4         NaN      22.0       13.0  ...       AO      AGO            24   \n",
      "..        ...       ...        ...  ...      ...      ...           ...   \n",
      "189       NaN      21.0       16.0  ...       UZ      UZB           860   \n",
      "190       NaN      20.0        6.0  ...       VE      VEN           862   \n",
      "191       NaN      10.0        7.0  ...       WS      WSM           882   \n",
      "192       NaN      26.0       16.0  ...       YE      YEM           887   \n",
      "193       NaN      22.0       18.0  ...       ZM      ZMB           894   \n",
      "\n",
      "        iso_3166-2    region                       sub-region  \\\n",
      "0    ISO 3166-2:AF      Asia                    Southern Asia   \n",
      "1    ISO 3166-2:AL    Europe                  Southern Europe   \n",
      "2    ISO 3166-2:DZ    Africa                  Northern Africa   \n",
      "3    ISO 3166-2:AD    Europe                  Southern Europe   \n",
      "4    ISO 3166-2:AO    Africa               Sub-Saharan Africa   \n",
      "..             ...       ...                              ...   \n",
      "189  ISO 3166-2:UZ      Asia                     Central Asia   \n",
      "190  ISO 3166-2:VE  Americas  Latin America and the Caribbean   \n",
      "191  ISO 3166-2:WS   Oceania                        Polynesia   \n",
      "192  ISO 3166-2:YE      Asia                     Western Asia   \n",
      "193  ISO 3166-2:ZM    Africa               Sub-Saharan Africa   \n",
      "\n",
      "     intermediate-region  region-code  sub-region-code  \\\n",
      "0                    NaN        142.0             34.0   \n",
      "1                    NaN        150.0             39.0   \n",
      "2                    NaN          2.0             15.0   \n",
      "3                    NaN        150.0             39.0   \n",
      "4          Middle Africa          2.0            202.0   \n",
      "..                   ...          ...              ...   \n",
      "189                  NaN        142.0            143.0   \n",
      "190        South America         19.0            419.0   \n",
      "191                  NaN          9.0             61.0   \n",
      "192                  NaN        142.0            145.0   \n",
      "193       Eastern Africa          2.0            202.0   \n",
      "\n",
      "     intermediate-region-code  \n",
      "0                         NaN  \n",
      "1                         NaN  \n",
      "2                         NaN  \n",
      "3                         NaN  \n",
      "4                        17.0  \n",
      "..                        ...  \n",
      "189                       NaN  \n",
      "190                       5.0  \n",
      "191                       NaN  \n",
      "192                       NaN  \n",
      "193                      14.0  \n",
      "\n",
      "[194 rows x 1994 columns]\n"
     ]
    }
   ],
   "source": [
    "# General preprocessing may go here\n",
    "data_country = pd.read_csv(\"all.csv\",delimiter=',')\n",
    "df_country = pd.DataFrame(data_country)\n",
    "data_qog = pd.read_csv(\"qog_std_cs_jan19.csv\",delimiter=',')\n",
    "df_qog = pd.DataFrame(data_qog)\n",
    "df_all = pd.merge(data_qog,df_country,left_on='ccodealp',right_on='alpha-3')\n",
    "\n",
    "print(df_all)"
   ]
  },
  {
   "cell_type": "markdown",
   "metadata": {},
   "source": [
    "#### a) Hypothesis testing (1 pt)\n",
    "Based on the QOG 2019 data, apply a hypothesis test to show that in African countries, the life expectancy is significantly lower than in European countries. Explicitly state the null hypothesis that you choose, including the test statistic you are using, and explain your approach."
   ]
  },
  {
   "cell_type": "markdown",
   "metadata": {},
   "source": [
    "_Use this Markdown cell to formulate your hypothesis and explain your testing procedure._\n",
    "\n",
    "null hypothesis = life expectancy in Africa is significantly lower than in European\n",
    "a hypothesis = life expectancy in Africa is significantly larger than or equal to in European\n",
    "\n",
    "I compute the corresponding p-value by shuffling the class labels ['who_let'] 100000 times and computing the difference in means each of these times.\n",
    "\n",
    "The solution = life expectancy in Africa is not significantly lower than in European"
   ]
  },
  {
   "cell_type": "code",
   "execution_count": 3,
   "metadata": {},
   "outputs": [
    {
     "name": "stdout",
     "output_type": "stream",
     "text": [
      "14.826243655555551\n",
      "Empirical p-value: 0.97792\n"
     ]
    }
   ],
   "source": [
    "# Code to a) goes here\n",
    "# who_lef Life Expectancy, Female\n",
    "# who_lem Life Expectancy, Male\n",
    "# who_let Life Expectancy, Total\n",
    "df_africa = df_all.loc[df_all.loc[:,\"region\"] == \"Africa\"]\n",
    "df_europe = df_all.loc[df_all.loc[:,\"region\"] == \"Europe\"]\n",
    "\n",
    "mean_africa = df_africa.ihme_lifexp_allt.mean()\n",
    "mean_europe = df_europe.ihme_lifexp_allt.mean()\n",
    "\n",
    "mean_diff = mean_africa - mean_europe\n",
    "print(np.abs(mean_diff))\n",
    "\n",
    "col_africa = df_africa.dropna(axis=0, how='any', subset=['ihme_lifexp_allt'])['ihme_lifexp_allt'].to_numpy()\n",
    "col_europe = df_europe.dropna(axis=0, how='any', subset=['ihme_lifexp_allt'])['ihme_lifexp_allt'].to_numpy()\n",
    "\n",
    "ct = 0\n",
    "for i in range(100000):\n",
    "    np.random.shuffle(col_africa)\n",
    "    np.random.shuffle(col_europe)\n",
    "    diff = np.mean(col_africa[:int(len(col_africa)/30)]) - np.mean(col_europe[:int(len(col_europe)/30)])\n",
    "    if diff < 0:\n",
    "        ct+=1\n",
    "p_value = ct/100000\n",
    "print(\"Empirical p-value: \" + str(p_value))\n"
   ]
  },
  {
   "cell_type": "markdown",
   "metadata": {},
   "source": [
    "#### b) Visualization  (1 pt):\n",
    "We now consider the life expectancies over all continents. Create an informative visualization that points out how the life expectancies over all five continents differ.\n",
    "\n",
    "50% baseline: Plotting life expectancy means by continent against each other."
   ]
  },
  {
   "cell_type": "code",
   "execution_count": 4,
   "metadata": {},
   "outputs": [
    {
     "data": {
      "image/png": "[encoded data removed]",
      "text/plain": [
       "<Figure size 576x360 with 1 Axes>"
      ]
     },
     "metadata": {
      "needs_background": "light"
     },
     "output_type": "display_data"
    }
   ],
   "source": [
    "# Code to b) goes here\n",
    "\n",
    "df_asia = df_all.loc[df_all.loc[:,\"region\"] == \"Asia\"]\n",
    "df_oceania = df_all.loc[df_all.loc[:,\"region\"] == \"Oceania\"]\n",
    "df_americas = df_all.loc[df_all.loc[:,\"region\"] == \"Americas\"]\n",
    "\n",
    "# col_asia = df_asia.dropna(axis=0, how='any', subset=['who_let'])['who_let'].to_numpy()\n",
    "# col_oceania = df_oceania.dropna(axis=0, how='any', subset=['who_let'])['who_let'].to_numpy()\n",
    "# col_americas = df_americas.dropna(axis=0, how='any', subset=['who_let'])['who_let'].to_numpy()\n",
    "\n",
    "plt.figure(figsize=(8, 5))\n",
    "name_list = ['Africa','Europe','Asia','Oceania','Americas']\n",
    "num_list = [df_africa.ihme_lifexp_allt.mean(),df_europe.ihme_lifexp_allt.mean(),df_asia.ihme_lifexp_allt.mean(),df_oceania.ihme_lifexp_allt.mean(),df_americas.ihme_lifexp_allt.mean()]\n",
    "plt.bar(range(len(num_list)),num_list,color=['black', 'orange', 'green', 'steelblue', 'lightpink'],tick_label=name_list,edgecolor='black')\n",
    "plt.ylim(60, 80)\n",
    "plt.ylabel('life expectancy')\n",
    "plt.title('The life expectancies over all five continents differ')\n",
    "plt.hlines(np.mean(num_list),-1,5, colors = \"r\", linestyle='--')\n",
    "for x,y in enumerate(num_list):\n",
    "    plt.text(x,y+0.2,'%s' %round(y,1),ha='center')\n",
    "\n",
    "plt.show()"
   ]
  },
  {
   "cell_type": "markdown",
   "metadata": {},
   "source": [
    "_Description of your plot, up to 5 sentences may go here_"
   ]
  },
  {
   "cell_type": "markdown",
   "metadata": {},
   "source": [
    "### Task 2: Investigating Corruption (3 pts)\n",
    "\n",
    "In this second part, we focus on corruption as measured by the _Bayesian Corruption Indicator (BCI)_ (Column bci_bci). \n",
    "Explore the data for factors that correlate with corruption, and visualize your findings.  \n",
    "__Note__: you may NOT consider correlations with other columns that explicitly measure corruption.\n",
    "\n",
    "50% Baseline: Plotting values from one other column in the data against the BCI in a properly designed plot, where some correlation becomes apparent."
   ]
  },
  {
   "cell_type": "code",
   "execution_count": 9,
   "metadata": {},
   "outputs": [
    {
     "data": {
      "image/png": "[encoded data removed]",
      "text/plain": [
       "<Figure size 1152x576 with 1 Axes>"
      ]
     },
     "metadata": {
      "needs_background": "light"
     },
     "output_type": "display_data"
    }
   ],
   "source": [
    "# world = geopandas.read_file(geopandas.datasets.get_path('naturalearth_lowres'))\n",
    "\n",
    "# df_all_world = pd.merge(df_all,world,left_on='alpha-3',right_on='iso_a3')\n",
    "\n",
    "# df_all_bci = df_all_world.dropna(axis=0, how='any', subset=['bci_bci'])\n",
    "# # df_all_bci_under_10 = df_all.loc[df_all.loc[:,\"bci_bci\"] < 10]\n",
    "\n",
    "# gdf = geopandas.GeoDataFrame(df_all_bci)\n",
    "\n",
    "# fig, ax = plt.subplots(1, 1)\n",
    "# # divider = make_axes_locatable(ax)\n",
    "# # cax = divider.append_axes(\"right\", size=\"5%\", pad=0.1)\n",
    "\n",
    "# # gdf.plot(column='bci_bci', ax=ax, legend=True, cax=cax)\n",
    "\n",
    "# gdf.plot(column='bci_bci',cmap='Reds',ax=ax, scheme='quantiles') #OrRd\n",
    "\n",
    "######################################################################################################\n",
    "\n",
    "df_all = pd.merge(data_qog,df_country,left_on='ccodealp',right_on='alpha-3')\n",
    "\n",
    "# print(df_all['sub-region'].value_counts())\n",
    "\n",
    "sub_region = ['Sub-Saharan Africa','Latin America and the Caribbean','Western Asia','Southern Europe','South-eastern Asia','Northern Europe','Eastern Europe','Western Europe','Southern Asia','Eastern Asia','Northern Africa','Micronesia','Central Asia','Melanesia','Polynesia','Northern America','Australia and New Zealand']\n",
    "col=['bci_bci','dr_ig','ffp_dp','ffp_eco','fh_polity2','fh_pr','fh_rol','hf_govt','hum_trust']\n",
    "\n",
    "df_corr = pd.DataFrame(np.zeros(len(sub_region)*len(col)).reshape(len(sub_region),len(col)),index=sub_region,columns=col)\n",
    "for i in sub_region:\n",
    "    for temp_val in col:\n",
    "        df_sub_region = df_all.loc[df_all.loc[:,\"sub-region\"] == i]\n",
    "        col_sub_region = df_sub_region.dropna(axis=0, how='any', subset=[temp_val])[temp_val].to_numpy()\n",
    "        df_corr.loc[i,temp_val] = np.mean(col_sub_region)\n",
    "\n",
    "df_corr = df_corr.sort_values(by=['bci_bci'])\n",
    "# print(df_corr)\n",
    "\n",
    "# temp_val = 'hum_trust'\n",
    "# df_sub_region = df_all.loc[df_all.loc[:,\\\"sub-region\\\"] == 'Central Asia']\n",
    "# col_sub_region = df_sub_region.dropna(axis=0, how='any', subset=[temp_val])[temp_val].to_numpy()\n",
    "# print(col_sub_region)\n",
    "\n",
    "\n",
    "plt.figure(figsize=(16,8))\n",
    "plt.plot(df_corr['bci_bci'],label='bci_bci')\n",
    "# plt.plot(df_corr['dr_ig'],label='dr_ig')\n",
    "# plt.plot(df_corr['ffp_dp']*10,label='ffp_dp')\n",
    "# plt.plot(df_corr['ffp_eco']*10,label='ffp_eco') # **** #\n",
    "# plt.plot(df_corr['fh_polity2'],label='fh_polity2')\n",
    "# plt.plot(df_corr['fh_pr']*10,label='fh_pr')\n",
    "# plt.plot(df_corr['fh_rol']*5,label='fh_rol')\n",
    "# plt.plot(df_corr['hf_govt'],label='hf_govt') # **** #\n",
    "plt.plot(df_corr['hum_trust'],label='hum_trust')\n",
    "plt.xlabel(\"xxx\")\n",
    "plt.legend()\n",
    "plt.show()\n",
    "\n"
   ]
  },
  {
   "cell_type": "markdown",
   "metadata": {},
   "source": [
    "_Description of your plot, consisting of up to 5 sentences may go here_"
   ]
  }
 ],
 "metadata": {
  "kernelspec": {
   "display_name": "Python 3",
   "language": "python",
   "name": "python3"
  },
  "language_info": {
   "codemirror_mode": {
    "name": "ipython",
    "version": 3
   },
   "file_extension": ".py",
   "mimetype": "text/x-python",
   "name": "python",
   "nbconvert_exporter": "python",
   "pygments_lexer": "ipython3",
   "version": "3.7.0"
  }
 },
 "nbformat": 4,
 "nbformat_minor": 2
}
